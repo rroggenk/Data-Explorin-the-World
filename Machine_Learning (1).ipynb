{
  "nbformat": 4,
  "nbformat_minor": 0,
  "metadata": {
    "colab": {
      "provenance": []
    },
    "kernelspec": {
      "name": "python3",
      "display_name": "Python 3"
    },
    "language_info": {
      "name": "python"
    }
  },
  "cells": [
    {
      "cell_type": "markdown",
      "source": [
        "#Loading in Modules and the Data"
      ],
      "metadata": {
        "id": "A8whZO_pt8iP"
      }
    },
    {
      "cell_type": "code",
      "execution_count": null,
      "metadata": {
        "id": "G6j9S70kuguZ"
      },
      "outputs": [],
      "source": [
        "import pandas as pd\n",
        "import numpy as np\n",
        "import plotly.express as px\n",
        "import re\n",
        "from sklearn.preprocessing import StandardScaler, OneHotEncoder, MinMaxScaler, PolynomialFeatures\n",
        "from sklearn.pipeline import make_pipeline\n",
        "from sklearn.neighbors import KNeighborsClassifier, KNeighborsRegressor \n",
        "from sklearn.compose import make_column_transformer\n",
        "from sklearn.linear_model import LinearRegression\n",
        "from sklearn.model_selection import cross_val_score, GridSearchCV\n",
        "from datetime import datetime\n",
        "from sklearn.model_selection import cross_val_score\n",
        "from sklearn.ensemble import VotingRegressor\n",
        "from sklearn.metrics import mean_squared_error"
      ]
    },
    {
      "cell_type": "code",
      "source": [
        "data_dir = \"https://raw.githubusercontent.com/rroggenk/DATA301/main/\""
      ],
      "metadata": {
        "id": "X7UYaWAMuynk"
      },
      "execution_count": null,
      "outputs": []
    },
    {
      "cell_type": "markdown",
      "source": [
        "#K-nearest neighbors (KNN) algorithm on Flying Etiquette dataset"
      ],
      "metadata": {
        "id": "4OJgpnJruQoX"
      }
    },
    {
      "cell_type": "code",
      "source": [
        "df_flying_etiquette = pd.read_csv(data_dir + \"flying-etiquette.csv\")\n",
        "df_flying_etiquette = df_flying_etiquette[df_flying_etiquette[\"How often do you travel by plane?\"] != \"Never\"]"
      ],
      "metadata": {
        "id": "WqTfpW5AA7b0"
      },
      "execution_count": null,
      "outputs": []
    },
    {
      "cell_type": "code",
      "source": [
        "df_flying_etiquette = df_flying_etiquette.dropna().reset_index(drop=True)"
      ],
      "metadata": {
        "id": "0Eceg0zmr65g"
      },
      "execution_count": null,
      "outputs": []
    },
    {
      "cell_type": "markdown",
      "source": [
        "Let's look at all of the different questions that we can formulate a machine learning algorithm on. "
      ],
      "metadata": {
        "id": "JPO9Owti5ykE"
      }
    },
    {
      "cell_type": "code",
      "source": [
        "for col in df_flying_etiquette.columns:\n",
        "    print(col)"
      ],
      "metadata": {
        "colab": {
          "base_uri": "https://localhost:8080/"
        },
        "id": "gZFkLcLoBa4n",
        "outputId": "00fe7a4d-c737-4c9a-8833-34cfaa52bb90"
      },
      "execution_count": null,
      "outputs": [
        {
          "output_type": "stream",
          "name": "stdout",
          "text": [
            "RespondentID\n",
            "How often do you travel by plane?\n",
            "Do you ever recline your seat when you fly?\n",
            "How tall are you?\n",
            "Do you have any children under 18?\n",
            "In a row of three seats, who should get to use the two arm rests?\n",
            "In a row of two seats, who should get to use the middle arm rest?\n",
            "Who should have control over the window shade?\n",
            "Is itrude to move to an unsold seat on a plane?\n",
            "Generally speaking, is it rude to say more than a few words tothe stranger sitting next to you on a plane?\n",
            "On a 6 hour flight from NYC to LA, how many times is it acceptable to get up if you're not in an aisle seat?\n",
            "Under normal circumstances, does a person who reclines their seat during a flight have any obligation to the person sitting behind them?\n",
            "Is itrude to recline your seat on a plane?\n",
            "Given the opportunity, would you eliminate the possibility of reclining seats on planes entirely?\n",
            "Is it rude to ask someone to switch seats with you in order to be closer to friends?\n",
            "Is itrude to ask someone to switch seats with you in order to be closer to family?\n",
            "Is it rude to wake a passenger up if you are trying to go to the bathroom?\n",
            "Is itrude to wake a passenger up if you are trying to walk around?\n",
            "In general, is itrude to bring a baby on a plane?\n",
            "In general, is it rude to knowingly bring unruly children on a plane?\n",
            "Have you ever used personal electronics during take off or landing in violation of a flight attendant's direction?\n",
            "Have you ever smoked a cigarette in an airplane bathroom when it was against the rules?\n",
            "Gender\n",
            "Age\n",
            "Household Income\n",
            "Education\n",
            "Location (Census Region)\n"
          ]
        }
      ]
    },
    {
      "cell_type": "markdown",
      "source": [
        "Height is currently a categorical variable. Let's turn it into a quantitative variable.\n",
        "\n",
        "Note: We will classify everyone who is under 5 feet as 60 inches and everyone who is over 6'6\" as 78 inches."
      ],
      "metadata": {
        "id": "THh7AAumrW8s"
      }
    },
    {
      "cell_type": "code",
      "source": [
        "def feet_to_inches(s) -> int:\n",
        "  if s == \"Under 5 ft.\":\n",
        "    return 60\n",
        "  if s == \"6'6\\\" and above\":\n",
        "    return 78\n",
        "  lst = s.split(sep = \"'\")\n",
        "  feet = int(lst[0])\n",
        "  inches = int(lst[1][:-1])\n",
        "  return 12 * feet + inches"
      ],
      "metadata": {
        "id": "vM7trFlMrV7d"
      },
      "execution_count": null,
      "outputs": []
    },
    {
      "cell_type": "code",
      "source": [
        "df_flying_etiquette[\"Height\"] = df_flying_etiquette.apply(lambda row: feet_to_inches(row[\"How tall are you?\"]), axis=1) \n",
        "df_flying_etiquette"
      ],
      "metadata": {
        "colab": {
          "base_uri": "https://localhost:8080/",
          "height": 1000
        },
        "id": "oXWU_h2FrdzC",
        "outputId": "8e543dc4-6fc3-4e28-f1a5-df072b32ad84"
      },
      "execution_count": null,
      "outputs": [
        {
          "output_type": "execute_result",
          "data": {
            "text/plain": [
              "     RespondentID How often do you travel by plane?  \\\n",
              "0      3434275578               Once a year or less   \n",
              "1      3434268208               Once a year or less   \n",
              "2      3434250245              Once a month or less   \n",
              "3      3434245875               Once a year or less   \n",
              "4      3434235351              Once a month or less   \n",
              "..            ...                               ...   \n",
              "682    3431737008               Once a year or less   \n",
              "683    3431735911               Once a year or less   \n",
              "684    3431734398             A few times per month   \n",
              "685    3431732652               Once a year or less   \n",
              "686    3431729581               Once a year or less   \n",
              "\n",
              "    Do you ever recline your seat when you fly? How tall are you?  \\\n",
              "0                                       Usually              5'8\"   \n",
              "1                                        Always             5'11\"   \n",
              "2                           About half the time              5'7\"   \n",
              "3                                       Usually              5'9\"   \n",
              "4                               Once in a while              6'2\"   \n",
              "..                                          ...               ...   \n",
              "682                                       Never              5'4\"   \n",
              "683                                      Always              5'3\"   \n",
              "684                             Once in a while              6'1\"   \n",
              "685                             Once in a while              5'7\"   \n",
              "686                             Once in a while              6'3\"   \n",
              "\n",
              "    Do you have any children under 18?  \\\n",
              "0                                   No   \n",
              "1                                   No   \n",
              "2                                   No   \n",
              "3                                  Yes   \n",
              "4                                  Yes   \n",
              "..                                 ...   \n",
              "682                                 No   \n",
              "683                                 No   \n",
              "684                                Yes   \n",
              "685                                 No   \n",
              "686                                 No   \n",
              "\n",
              "    In a row of three seats, who should get to use the two arm rests?  \\\n",
              "0         Whoever puts their arm on the arm rest first                  \n",
              "1                       The arm rests should be shared                  \n",
              "2    The person in the middle seat gets both arm rests                  \n",
              "3         Whoever puts their arm on the arm rest first                  \n",
              "4    The person in the middle seat gets both arm rests                  \n",
              "..                                                 ...                  \n",
              "682                     The arm rests should be shared                  \n",
              "683       Whoever puts their arm on the arm rest first                  \n",
              "684  The person in the middle seat gets both arm rests                  \n",
              "685                             Other (please specify)                  \n",
              "686                     The arm rests should be shared                  \n",
              "\n",
              "    In a row of two seats, who should get to use the middle arm rest?  \\\n",
              "0                       The arm rests should be shared                  \n",
              "1                       The arm rests should be shared                  \n",
              "2                                  The person in aisle                  \n",
              "3         Whoever puts their arm on the arm rest first                  \n",
              "4         Whoever puts their arm on the arm rest first                  \n",
              "..                                                 ...                  \n",
              "682                     The arm rests should be shared                  \n",
              "683       Whoever puts their arm on the arm rest first                  \n",
              "684                             Other (please specify)                  \n",
              "685                             Other (please specify)                  \n",
              "686                     The arm rests should be shared                  \n",
              "\n",
              "        Who should have control over the window shade?  \\\n",
              "0    The person in the window seat should have excl...   \n",
              "1             Everyone in the row should have some say   \n",
              "2             Everyone in the row should have some say   \n",
              "3    The person in the window seat should have excl...   \n",
              "4             Everyone in the row should have some say   \n",
              "..                                                 ...   \n",
              "682           Everyone in the row should have some say   \n",
              "683  The person in the window seat should have excl...   \n",
              "684           Everyone in the row should have some say   \n",
              "685           Everyone in the row should have some say   \n",
              "686           Everyone in the row should have some say   \n",
              "\n",
              "    Is itrude to move to an unsold seat on a plane?  \\\n",
              "0                               No, not rude at all   \n",
              "1                               No, not rude at all   \n",
              "2                               No, not rude at all   \n",
              "3                                Yes, somewhat rude   \n",
              "4                               No, not rude at all   \n",
              "..                                              ...   \n",
              "682                             No, not rude at all   \n",
              "683                             No, not rude at all   \n",
              "684                             No, not rude at all   \n",
              "685                             No, not rude at all   \n",
              "686                             No, not rude at all   \n",
              "\n",
              "    Generally speaking, is it rude to say more than a few words tothe stranger sitting next to you on a plane?  \\\n",
              "0                                  No, not at all rude                                                           \n",
              "1                                  No, not at all rude                                                           \n",
              "2                                  No, not at all rude                                                           \n",
              "3                                  No, not at all rude                                                           \n",
              "4                                   Yes, somewhat rude                                                           \n",
              "..                                                 ...                                                           \n",
              "682                                 Yes, somewhat rude                                                           \n",
              "683                                No, not at all rude                                                           \n",
              "684                                 Yes, somewhat rude                                                           \n",
              "685                                No, not at all rude                                                           \n",
              "686                                No, not at all rude                                                           \n",
              "\n",
              "     ... In general, is itrude to bring a baby on a plane?  \\\n",
              "0    ...                                Yes, somewhat rude   \n",
              "1    ...                                Yes, somewhat rude   \n",
              "2    ...                                Yes, somewhat rude   \n",
              "3    ...                                    Yes, very rude   \n",
              "4    ...                               No, not at all rude   \n",
              "..   ...                                               ...   \n",
              "682  ...                               No, not at all rude   \n",
              "683  ...                                    Yes, very rude   \n",
              "684  ...                                Yes, somewhat rude   \n",
              "685  ...                                Yes, somewhat rude   \n",
              "686  ...                                Yes, somewhat rude   \n",
              "\n",
              "    In general, is it rude to knowingly bring unruly children on a plane?  \\\n",
              "0                                       Yes, very rude                      \n",
              "1                                       Yes, very rude                      \n",
              "2                                       Yes, very rude                      \n",
              "3                                       Yes, very rude                      \n",
              "4                                   Yes, somewhat rude                      \n",
              "..                                                 ...                      \n",
              "682                                 Yes, somewhat rude                      \n",
              "683                                     Yes, very rude                      \n",
              "684                                 Yes, somewhat rude                      \n",
              "685                                     Yes, very rude                      \n",
              "686                                     Yes, very rude                      \n",
              "\n",
              "    Have you ever used personal electronics during take off or landing in violation of a flight attendant's direction?  \\\n",
              "0                                                   No                                                                   \n",
              "1                                                   No                                                                   \n",
              "2                                                  Yes                                                                   \n",
              "3                                                   No                                                                   \n",
              "4                                                   No                                                                   \n",
              "..                                                 ...                                                                   \n",
              "682                                                 No                                                                   \n",
              "683                                                Yes                                                                   \n",
              "684                                                 No                                                                   \n",
              "685                                                 No                                                                   \n",
              "686                                                 No                                                                   \n",
              "\n",
              "    Have you ever smoked a cigarette in an airplane bathroom when it was against the rules?  \\\n",
              "0                                                   No                                        \n",
              "1                                                   No                                        \n",
              "2                                                   No                                        \n",
              "3                                                   No                                        \n",
              "4                                                   No                                        \n",
              "..                                                 ...                                        \n",
              "682                                                 No                                        \n",
              "683                                                 No                                        \n",
              "684                                                 No                                        \n",
              "685                                                 No                                        \n",
              "686                                                 No                                        \n",
              "\n",
              "     Gender    Age     Household Income                         Education  \\\n",
              "0      Male  30-44  $100,000 - $149,999                   Bachelor degree   \n",
              "1      Male  30-44         $0 - $24,999                   Bachelor degree   \n",
              "2      Male  30-44    $50,000 - $99,999                   Bachelor degree   \n",
              "3      Male  30-44    $25,000 - $49,999                   Graduate degree   \n",
              "4      Male  30-44               150000  Some college or Associate degree   \n",
              "..      ...    ...                  ...                               ...   \n",
              "682  Female   > 60    $50,000 - $99,999                   Graduate degree   \n",
              "683  Female  30-44               150000                High school degree   \n",
              "684    Male  30-44               150000                   Graduate degree   \n",
              "685    Male  30-44         $0 - $24,999  Some college or Associate degree   \n",
              "686    Male   > 60    $50,000 - $99,999                   Bachelor degree   \n",
              "\n",
              "    Location (Census Region) Height  \n",
              "0                    Pacific     68  \n",
              "1                    Pacific     71  \n",
              "2                    Pacific     67  \n",
              "3         East North Central     69  \n",
              "4                    Pacific     74  \n",
              "..                       ...    ...  \n",
              "682       West North Central     64  \n",
              "683          Middle Atlantic     63  \n",
              "684                  Pacific     73  \n",
              "685       East North Central     67  \n",
              "686                  Pacific     75  \n",
              "\n",
              "[687 rows x 28 columns]"
            ],
            "text/html": [
              "\n",
              "  <div id=\"df-08603318-f25e-40f9-b967-792369ab98d3\">\n",
              "    <div class=\"colab-df-container\">\n",
              "      <div>\n",
              "<style scoped>\n",
              "    .dataframe tbody tr th:only-of-type {\n",
              "        vertical-align: middle;\n",
              "    }\n",
              "\n",
              "    .dataframe tbody tr th {\n",
              "        vertical-align: top;\n",
              "    }\n",
              "\n",
              "    .dataframe thead th {\n",
              "        text-align: right;\n",
              "    }\n",
              "</style>\n",
              "<table border=\"1\" class=\"dataframe\">\n",
              "  <thead>\n",
              "    <tr style=\"text-align: right;\">\n",
              "      <th></th>\n",
              "      <th>RespondentID</th>\n",
              "      <th>How often do you travel by plane?</th>\n",
              "      <th>Do you ever recline your seat when you fly?</th>\n",
              "      <th>How tall are you?</th>\n",
              "      <th>Do you have any children under 18?</th>\n",
              "      <th>In a row of three seats, who should get to use the two arm rests?</th>\n",
              "      <th>In a row of two seats, who should get to use the middle arm rest?</th>\n",
              "      <th>Who should have control over the window shade?</th>\n",
              "      <th>Is itrude to move to an unsold seat on a plane?</th>\n",
              "      <th>Generally speaking, is it rude to say more than a few words tothe stranger sitting next to you on a plane?</th>\n",
              "      <th>...</th>\n",
              "      <th>In general, is itrude to bring a baby on a plane?</th>\n",
              "      <th>In general, is it rude to knowingly bring unruly children on a plane?</th>\n",
              "      <th>Have you ever used personal electronics during take off or landing in violation of a flight attendant's direction?</th>\n",
              "      <th>Have you ever smoked a cigarette in an airplane bathroom when it was against the rules?</th>\n",
              "      <th>Gender</th>\n",
              "      <th>Age</th>\n",
              "      <th>Household Income</th>\n",
              "      <th>Education</th>\n",
              "      <th>Location (Census Region)</th>\n",
              "      <th>Height</th>\n",
              "    </tr>\n",
              "  </thead>\n",
              "  <tbody>\n",
              "    <tr>\n",
              "      <th>0</th>\n",
              "      <td>3434275578</td>\n",
              "      <td>Once a year or less</td>\n",
              "      <td>Usually</td>\n",
              "      <td>5'8\"</td>\n",
              "      <td>No</td>\n",
              "      <td>Whoever puts their arm on the arm rest first</td>\n",
              "      <td>The arm rests should be shared</td>\n",
              "      <td>The person in the window seat should have excl...</td>\n",
              "      <td>No, not rude at all</td>\n",
              "      <td>No, not at all rude</td>\n",
              "      <td>...</td>\n",
              "      <td>Yes, somewhat rude</td>\n",
              "      <td>Yes, very rude</td>\n",
              "      <td>No</td>\n",
              "      <td>No</td>\n",
              "      <td>Male</td>\n",
              "      <td>30-44</td>\n",
              "      <td>$100,000 - $149,999</td>\n",
              "      <td>Bachelor degree</td>\n",
              "      <td>Pacific</td>\n",
              "      <td>68</td>\n",
              "    </tr>\n",
              "    <tr>\n",
              "      <th>1</th>\n",
              "      <td>3434268208</td>\n",
              "      <td>Once a year or less</td>\n",
              "      <td>Always</td>\n",
              "      <td>5'11\"</td>\n",
              "      <td>No</td>\n",
              "      <td>The arm rests should be shared</td>\n",
              "      <td>The arm rests should be shared</td>\n",
              "      <td>Everyone in the row should have some say</td>\n",
              "      <td>No, not rude at all</td>\n",
              "      <td>No, not at all rude</td>\n",
              "      <td>...</td>\n",
              "      <td>Yes, somewhat rude</td>\n",
              "      <td>Yes, very rude</td>\n",
              "      <td>No</td>\n",
              "      <td>No</td>\n",
              "      <td>Male</td>\n",
              "      <td>30-44</td>\n",
              "      <td>$0 - $24,999</td>\n",
              "      <td>Bachelor degree</td>\n",
              "      <td>Pacific</td>\n",
              "      <td>71</td>\n",
              "    </tr>\n",
              "    <tr>\n",
              "      <th>2</th>\n",
              "      <td>3434250245</td>\n",
              "      <td>Once a month or less</td>\n",
              "      <td>About half the time</td>\n",
              "      <td>5'7\"</td>\n",
              "      <td>No</td>\n",
              "      <td>The person in the middle seat gets both arm rests</td>\n",
              "      <td>The person in aisle</td>\n",
              "      <td>Everyone in the row should have some say</td>\n",
              "      <td>No, not rude at all</td>\n",
              "      <td>No, not at all rude</td>\n",
              "      <td>...</td>\n",
              "      <td>Yes, somewhat rude</td>\n",
              "      <td>Yes, very rude</td>\n",
              "      <td>Yes</td>\n",
              "      <td>No</td>\n",
              "      <td>Male</td>\n",
              "      <td>30-44</td>\n",
              "      <td>$50,000 - $99,999</td>\n",
              "      <td>Bachelor degree</td>\n",
              "      <td>Pacific</td>\n",
              "      <td>67</td>\n",
              "    </tr>\n",
              "    <tr>\n",
              "      <th>3</th>\n",
              "      <td>3434245875</td>\n",
              "      <td>Once a year or less</td>\n",
              "      <td>Usually</td>\n",
              "      <td>5'9\"</td>\n",
              "      <td>Yes</td>\n",
              "      <td>Whoever puts their arm on the arm rest first</td>\n",
              "      <td>Whoever puts their arm on the arm rest first</td>\n",
              "      <td>The person in the window seat should have excl...</td>\n",
              "      <td>Yes, somewhat rude</td>\n",
              "      <td>No, not at all rude</td>\n",
              "      <td>...</td>\n",
              "      <td>Yes, very rude</td>\n",
              "      <td>Yes, very rude</td>\n",
              "      <td>No</td>\n",
              "      <td>No</td>\n",
              "      <td>Male</td>\n",
              "      <td>30-44</td>\n",
              "      <td>$25,000 - $49,999</td>\n",
              "      <td>Graduate degree</td>\n",
              "      <td>East North Central</td>\n",
              "      <td>69</td>\n",
              "    </tr>\n",
              "    <tr>\n",
              "      <th>4</th>\n",
              "      <td>3434235351</td>\n",
              "      <td>Once a month or less</td>\n",
              "      <td>Once in a while</td>\n",
              "      <td>6'2\"</td>\n",
              "      <td>Yes</td>\n",
              "      <td>The person in the middle seat gets both arm rests</td>\n",
              "      <td>Whoever puts their arm on the arm rest first</td>\n",
              "      <td>Everyone in the row should have some say</td>\n",
              "      <td>No, not rude at all</td>\n",
              "      <td>Yes, somewhat rude</td>\n",
              "      <td>...</td>\n",
              "      <td>No, not at all rude</td>\n",
              "      <td>Yes, somewhat rude</td>\n",
              "      <td>No</td>\n",
              "      <td>No</td>\n",
              "      <td>Male</td>\n",
              "      <td>30-44</td>\n",
              "      <td>150000</td>\n",
              "      <td>Some college or Associate degree</td>\n",
              "      <td>Pacific</td>\n",
              "      <td>74</td>\n",
              "    </tr>\n",
              "    <tr>\n",
              "      <th>...</th>\n",
              "      <td>...</td>\n",
              "      <td>...</td>\n",
              "      <td>...</td>\n",
              "      <td>...</td>\n",
              "      <td>...</td>\n",
              "      <td>...</td>\n",
              "      <td>...</td>\n",
              "      <td>...</td>\n",
              "      <td>...</td>\n",
              "      <td>...</td>\n",
              "      <td>...</td>\n",
              "      <td>...</td>\n",
              "      <td>...</td>\n",
              "      <td>...</td>\n",
              "      <td>...</td>\n",
              "      <td>...</td>\n",
              "      <td>...</td>\n",
              "      <td>...</td>\n",
              "      <td>...</td>\n",
              "      <td>...</td>\n",
              "      <td>...</td>\n",
              "    </tr>\n",
              "    <tr>\n",
              "      <th>682</th>\n",
              "      <td>3431737008</td>\n",
              "      <td>Once a year or less</td>\n",
              "      <td>Never</td>\n",
              "      <td>5'4\"</td>\n",
              "      <td>No</td>\n",
              "      <td>The arm rests should be shared</td>\n",
              "      <td>The arm rests should be shared</td>\n",
              "      <td>Everyone in the row should have some say</td>\n",
              "      <td>No, not rude at all</td>\n",
              "      <td>Yes, somewhat rude</td>\n",
              "      <td>...</td>\n",
              "      <td>No, not at all rude</td>\n",
              "      <td>Yes, somewhat rude</td>\n",
              "      <td>No</td>\n",
              "      <td>No</td>\n",
              "      <td>Female</td>\n",
              "      <td>&gt; 60</td>\n",
              "      <td>$50,000 - $99,999</td>\n",
              "      <td>Graduate degree</td>\n",
              "      <td>West North Central</td>\n",
              "      <td>64</td>\n",
              "    </tr>\n",
              "    <tr>\n",
              "      <th>683</th>\n",
              "      <td>3431735911</td>\n",
              "      <td>Once a year or less</td>\n",
              "      <td>Always</td>\n",
              "      <td>5'3\"</td>\n",
              "      <td>No</td>\n",
              "      <td>Whoever puts their arm on the arm rest first</td>\n",
              "      <td>Whoever puts their arm on the arm rest first</td>\n",
              "      <td>The person in the window seat should have excl...</td>\n",
              "      <td>No, not rude at all</td>\n",
              "      <td>No, not at all rude</td>\n",
              "      <td>...</td>\n",
              "      <td>Yes, very rude</td>\n",
              "      <td>Yes, very rude</td>\n",
              "      <td>Yes</td>\n",
              "      <td>No</td>\n",
              "      <td>Female</td>\n",
              "      <td>30-44</td>\n",
              "      <td>150000</td>\n",
              "      <td>High school degree</td>\n",
              "      <td>Middle Atlantic</td>\n",
              "      <td>63</td>\n",
              "    </tr>\n",
              "    <tr>\n",
              "      <th>684</th>\n",
              "      <td>3431734398</td>\n",
              "      <td>A few times per month</td>\n",
              "      <td>Once in a while</td>\n",
              "      <td>6'1\"</td>\n",
              "      <td>Yes</td>\n",
              "      <td>The person in the middle seat gets both arm rests</td>\n",
              "      <td>Other (please specify)</td>\n",
              "      <td>Everyone in the row should have some say</td>\n",
              "      <td>No, not rude at all</td>\n",
              "      <td>Yes, somewhat rude</td>\n",
              "      <td>...</td>\n",
              "      <td>Yes, somewhat rude</td>\n",
              "      <td>Yes, somewhat rude</td>\n",
              "      <td>No</td>\n",
              "      <td>No</td>\n",
              "      <td>Male</td>\n",
              "      <td>30-44</td>\n",
              "      <td>150000</td>\n",
              "      <td>Graduate degree</td>\n",
              "      <td>Pacific</td>\n",
              "      <td>73</td>\n",
              "    </tr>\n",
              "    <tr>\n",
              "      <th>685</th>\n",
              "      <td>3431732652</td>\n",
              "      <td>Once a year or less</td>\n",
              "      <td>Once in a while</td>\n",
              "      <td>5'7\"</td>\n",
              "      <td>No</td>\n",
              "      <td>Other (please specify)</td>\n",
              "      <td>Other (please specify)</td>\n",
              "      <td>Everyone in the row should have some say</td>\n",
              "      <td>No, not rude at all</td>\n",
              "      <td>No, not at all rude</td>\n",
              "      <td>...</td>\n",
              "      <td>Yes, somewhat rude</td>\n",
              "      <td>Yes, very rude</td>\n",
              "      <td>No</td>\n",
              "      <td>No</td>\n",
              "      <td>Male</td>\n",
              "      <td>30-44</td>\n",
              "      <td>$0 - $24,999</td>\n",
              "      <td>Some college or Associate degree</td>\n",
              "      <td>East North Central</td>\n",
              "      <td>67</td>\n",
              "    </tr>\n",
              "    <tr>\n",
              "      <th>686</th>\n",
              "      <td>3431729581</td>\n",
              "      <td>Once a year or less</td>\n",
              "      <td>Once in a while</td>\n",
              "      <td>6'3\"</td>\n",
              "      <td>No</td>\n",
              "      <td>The arm rests should be shared</td>\n",
              "      <td>The arm rests should be shared</td>\n",
              "      <td>Everyone in the row should have some say</td>\n",
              "      <td>No, not rude at all</td>\n",
              "      <td>No, not at all rude</td>\n",
              "      <td>...</td>\n",
              "      <td>Yes, somewhat rude</td>\n",
              "      <td>Yes, very rude</td>\n",
              "      <td>No</td>\n",
              "      <td>No</td>\n",
              "      <td>Male</td>\n",
              "      <td>&gt; 60</td>\n",
              "      <td>$50,000 - $99,999</td>\n",
              "      <td>Bachelor degree</td>\n",
              "      <td>Pacific</td>\n",
              "      <td>75</td>\n",
              "    </tr>\n",
              "  </tbody>\n",
              "</table>\n",
              "<p>687 rows × 28 columns</p>\n",
              "</div>\n",
              "      <button class=\"colab-df-convert\" onclick=\"convertToInteractive('df-08603318-f25e-40f9-b967-792369ab98d3')\"\n",
              "              title=\"Convert this dataframe to an interactive table.\"\n",
              "              style=\"display:none;\">\n",
              "        \n",
              "  <svg xmlns=\"http://www.w3.org/2000/svg\" height=\"24px\"viewBox=\"0 0 24 24\"\n",
              "       width=\"24px\">\n",
              "    <path d=\"M0 0h24v24H0V0z\" fill=\"none\"/>\n",
              "    <path d=\"M18.56 5.44l.94 2.06.94-2.06 2.06-.94-2.06-.94-.94-2.06-.94 2.06-2.06.94zm-11 1L8.5 8.5l.94-2.06 2.06-.94-2.06-.94L8.5 2.5l-.94 2.06-2.06.94zm10 10l.94 2.06.94-2.06 2.06-.94-2.06-.94-.94-2.06-.94 2.06-2.06.94z\"/><path d=\"M17.41 7.96l-1.37-1.37c-.4-.4-.92-.59-1.43-.59-.52 0-1.04.2-1.43.59L10.3 9.45l-7.72 7.72c-.78.78-.78 2.05 0 2.83L4 21.41c.39.39.9.59 1.41.59.51 0 1.02-.2 1.41-.59l7.78-7.78 2.81-2.81c.8-.78.8-2.07 0-2.86zM5.41 20L4 18.59l7.72-7.72 1.47 1.35L5.41 20z\"/>\n",
              "  </svg>\n",
              "      </button>\n",
              "      \n",
              "  <style>\n",
              "    .colab-df-container {\n",
              "      display:flex;\n",
              "      flex-wrap:wrap;\n",
              "      gap: 12px;\n",
              "    }\n",
              "\n",
              "    .colab-df-convert {\n",
              "      background-color: #E8F0FE;\n",
              "      border: none;\n",
              "      border-radius: 50%;\n",
              "      cursor: pointer;\n",
              "      display: none;\n",
              "      fill: #1967D2;\n",
              "      height: 32px;\n",
              "      padding: 0 0 0 0;\n",
              "      width: 32px;\n",
              "    }\n",
              "\n",
              "    .colab-df-convert:hover {\n",
              "      background-color: #E2EBFA;\n",
              "      box-shadow: 0px 1px 2px rgba(60, 64, 67, 0.3), 0px 1px 3px 1px rgba(60, 64, 67, 0.15);\n",
              "      fill: #174EA6;\n",
              "    }\n",
              "\n",
              "    [theme=dark] .colab-df-convert {\n",
              "      background-color: #3B4455;\n",
              "      fill: #D2E3FC;\n",
              "    }\n",
              "\n",
              "    [theme=dark] .colab-df-convert:hover {\n",
              "      background-color: #434B5C;\n",
              "      box-shadow: 0px 1px 3px 1px rgba(0, 0, 0, 0.15);\n",
              "      filter: drop-shadow(0px 1px 2px rgba(0, 0, 0, 0.3));\n",
              "      fill: #FFFFFF;\n",
              "    }\n",
              "  </style>\n",
              "\n",
              "      <script>\n",
              "        const buttonEl =\n",
              "          document.querySelector('#df-08603318-f25e-40f9-b967-792369ab98d3 button.colab-df-convert');\n",
              "        buttonEl.style.display =\n",
              "          google.colab.kernel.accessAllowed ? 'block' : 'none';\n",
              "\n",
              "        async function convertToInteractive(key) {\n",
              "          const element = document.querySelector('#df-08603318-f25e-40f9-b967-792369ab98d3');\n",
              "          const dataTable =\n",
              "            await google.colab.kernel.invokeFunction('convertToInteractive',\n",
              "                                                     [key], {});\n",
              "          if (!dataTable) return;\n",
              "\n",
              "          const docLinkHtml = 'Like what you see? Visit the ' +\n",
              "            '<a target=\"_blank\" href=https://colab.research.google.com/notebooks/data_table.ipynb>data table notebook</a>'\n",
              "            + ' to learn more about interactive tables.';\n",
              "          element.innerHTML = '';\n",
              "          dataTable['output_type'] = 'display_data';\n",
              "          await google.colab.output.renderOutput(dataTable, element);\n",
              "          const docLink = document.createElement('div');\n",
              "          docLink.innerHTML = docLinkHtml;\n",
              "          element.appendChild(docLink);\n",
              "        }\n",
              "      </script>\n",
              "    </div>\n",
              "  </div>\n",
              "  "
            ]
          },
          "metadata": {},
          "execution_count": 7
        }
      ]
    },
    {
      "cell_type": "markdown",
      "source": [
        "Let's make a k-nearest neighbors model to predict if people recline their seats when they fly using the predictor variables height and age."
      ],
      "metadata": {
        "id": "SfTMyJVBtQRF"
      }
    },
    {
      "cell_type": "markdown",
      "source": [
        "For reference, this is what the predicted value options are:\n"
      ],
      "metadata": {
        "id": "j4tjYiWptoCE"
      }
    },
    {
      "cell_type": "code",
      "source": [
        "df_flying_etiquette[\"Do you ever recline your seat when you fly?\"].value_counts()"
      ],
      "metadata": {
        "colab": {
          "base_uri": "https://localhost:8080/"
        },
        "id": "Hf0Nw9xXtyyX",
        "outputId": "2c0ab4a2-e9a4-4c72-807f-3ff7d9fe8faf"
      },
      "execution_count": null,
      "outputs": [
        {
          "output_type": "execute_result",
          "data": {
            "text/plain": [
              "Once in a while        199\n",
              "Usually                154\n",
              "Never                  129\n",
              "Always                 112\n",
              "About half the time     93\n",
              "Name: Do you ever recline your seat when you fly?, dtype: int64"
            ]
          },
          "metadata": {},
          "execution_count": 51
        }
      ]
    },
    {
      "cell_type": "code",
      "source": [
        "df_flying_etiquette = df_flying_etiquette[[\"Do you ever recline your seat when you fly?\",\n",
        "                                          \"Height\",\n",
        "                                          \"Age\"]].dropna().reset_index(drop=True)"
      ],
      "metadata": {
        "id": "7ZT6MBaw7PTm"
      },
      "execution_count": null,
      "outputs": []
    },
    {
      "cell_type": "code",
      "source": [
        "X_train = df_flying_etiquette[[\"Height\",\n",
        "                                \"Age\"]]\n",
        "y_train = df_flying_etiquette[\"Do you ever recline your seat when you fly?\"]"
      ],
      "metadata": {
        "id": "EQx10-qS7WL1"
      },
      "execution_count": null,
      "outputs": []
    },
    {
      "cell_type": "code",
      "source": [
        "ct_flyet = make_column_transformer(\n",
        "    (OneHotEncoder(sparse=False), [\"Height\",\n",
        "                               \"Age\"]),\n",
        "    remainder='passthrough'\n",
        ")\n",
        "\n",
        "knn_model = make_pipeline(\n",
        "    ct_flyet,\n",
        "    KNeighborsClassifier(n_neighbors=5)\n",
        ")\n",
        "\n",
        "knn_model.fit(X_train, y_train)"
      ],
      "metadata": {
        "colab": {
          "base_uri": "https://localhost:8080/"
        },
        "id": "z2sDem7u7bJB",
        "outputId": "730a738b-bfe1-4b0e-dd15-89286840b31a"
      },
      "execution_count": null,
      "outputs": [
        {
          "output_type": "execute_result",
          "data": {
            "text/plain": [
              "Pipeline(steps=[('columntransformer',\n",
              "                 ColumnTransformer(remainder='passthrough',\n",
              "                                   transformers=[('onehotencoder',\n",
              "                                                  OneHotEncoder(sparse=False),\n",
              "                                                  ['Height', 'Age'])])),\n",
              "                ('kneighborsclassifier', KNeighborsClassifier())])"
            ]
          },
          "metadata": {},
          "execution_count": 10
        }
      ]
    },
    {
      "cell_type": "markdown",
      "source": [
        "**Accuracy**"
      ],
      "metadata": {
        "id": "w6AIRn3V7fBU"
      }
    },
    {
      "cell_type": "code",
      "source": [
        "cv_scores = cross_val_score(knn_model, X_train, y_train, \n",
        "                            cv=10, scoring=\"accuracy\")\n",
        "cv_scores.mean()"
      ],
      "metadata": {
        "colab": {
          "base_uri": "https://localhost:8080/"
        },
        "id": "7Ah4HqW-7ek-",
        "outputId": "c1c9a508-2fc2-4a89-f7e0-ae0e69f4eaf9"
      },
      "execution_count": null,
      "outputs": [
        {
          "output_type": "execute_result",
          "data": {
            "text/plain": [
              "0.23437766410912192"
            ]
          },
          "metadata": {},
          "execution_count": 11
        }
      ]
    },
    {
      "cell_type": "markdown",
      "source": [
        "Yikes! Our accuracy of 23% is pretty terrible. Let's try converting our response variable - \"Do you ever recline your seat when you fly?\" - to one with a binary options. If a person has reclined their seat on a plane at least once, we'll group them in the \"Yes\" category, and if they have never reclined their seat before, they will be in the \"No\" category. \n",
        "\n",
        "\n"
      ],
      "metadata": {
        "id": "HDk1_Lz46wQj"
      }
    },
    {
      "cell_type": "code",
      "source": [
        "def recline_binary(s) -> int:\n",
        "  if s == \"Never\":\n",
        "    return \"No\"\n",
        "  return \"Yes\""
      ],
      "metadata": {
        "id": "_-NABiWh6mHv"
      },
      "execution_count": null,
      "outputs": []
    },
    {
      "cell_type": "code",
      "source": [
        "df_flying_etiquette_binary = df_flying_etiquette.copy()\n",
        "df_flying_etiquette_binary[\"Recline\"] = df_flying_etiquette.apply(lambda row: recline_binary(row[\"Do you ever recline your seat when you fly?\"]), axis=1) "
      ],
      "metadata": {
        "id": "uK8BDre56hwt"
      },
      "execution_count": null,
      "outputs": []
    },
    {
      "cell_type": "code",
      "source": [
        "df_flying_etiquette_binary[\"Recline\"].value_counts()"
      ],
      "metadata": {
        "id": "C3Slep6yF09I",
        "outputId": "ee777a6a-d81a-46ee-f8e8-9073f1ab601a",
        "colab": {
          "base_uri": "https://localhost:8080/"
        }
      },
      "execution_count": null,
      "outputs": [
        {
          "output_type": "execute_result",
          "data": {
            "text/plain": [
              "Yes    558\n",
              "No     129\n",
              "Name: Recline, dtype: int64"
            ]
          },
          "metadata": {},
          "execution_count": 52
        }
      ]
    },
    {
      "cell_type": "markdown",
      "source": [
        "Let's try our k-nearest neighbors model again using the same predictor variables, but this time our response variable will be binary. "
      ],
      "metadata": {
        "id": "IeRRo_jx6CaJ"
      }
    },
    {
      "cell_type": "code",
      "source": [
        "df_flying_etiquette_binary = df_flying_etiquette_binary[[\"Recline\",\n",
        "                                               \"Height\",\n",
        "                                               \"Age\"]].dropna().reset_index(drop=True)"
      ],
      "metadata": {
        "id": "IOjMeMcMGhy0"
      },
      "execution_count": null,
      "outputs": []
    },
    {
      "cell_type": "code",
      "source": [
        "X_train = df_flying_etiquette_binary[[\"Height\",\n",
        "                                          \"Age\"]]\n",
        "y_train = df_flying_etiquette_binary[\"Recline\"]"
      ],
      "metadata": {
        "id": "g4xaSrDf_0NH"
      },
      "execution_count": null,
      "outputs": []
    },
    {
      "cell_type": "code",
      "source": [
        "ct_flyet = make_column_transformer(\n",
        "    (OneHotEncoder(sparse=False), [\"Height\",\n",
        "                               \"Age\"]),\n",
        "    remainder='passthrough'\n",
        ")\n",
        "\n",
        "knn_model = make_pipeline(\n",
        "    ct_flyet,\n",
        "    KNeighborsClassifier(n_neighbors=5)\n",
        ")\n",
        "\n",
        "knn_model.fit(X_train, y_train)\n"
      ],
      "metadata": {
        "id": "sUxl3U7N_CKQ",
        "colab": {
          "base_uri": "https://localhost:8080/"
        },
        "outputId": "6b674c35-b4c8-4816-d218-a2e1d29f48a3"
      },
      "execution_count": null,
      "outputs": [
        {
          "output_type": "execute_result",
          "data": {
            "text/plain": [
              "Pipeline(steps=[('columntransformer',\n",
              "                 ColumnTransformer(remainder='passthrough',\n",
              "                                   transformers=[('onehotencoder',\n",
              "                                                  OneHotEncoder(sparse=False),\n",
              "                                                  ['Height', 'Age'])])),\n",
              "                ('kneighborsclassifier', KNeighborsClassifier())])"
            ]
          },
          "metadata": {},
          "execution_count": 16
        }
      ]
    },
    {
      "cell_type": "markdown",
      "source": [
        "To optimize our accuracy, let's perform a grid search to determine the best k value. "
      ],
      "metadata": {
        "id": "4o6JuKX6_Kem"
      }
    },
    {
      "cell_type": "code",
      "source": [
        "grid_search = GridSearchCV(\n",
        "    knn_model,\n",
        "    param_grid={\"kneighborsclassifier__n_neighbors\": range(1, 50)},\n",
        "    scoring=\"accuracy\",\n",
        "    cv=10\n",
        ")\n",
        "\n",
        "grid_search.fit(X_train, y_train)\n",
        "grid_search.best_params_"
      ],
      "metadata": {
        "colab": {
          "base_uri": "https://localhost:8080/"
        },
        "id": "hsBMuPu2_Nc-",
        "outputId": "23e0ad12-d82d-4d77-fea3-1f9ce92e9396"
      },
      "execution_count": null,
      "outputs": [
        {
          "output_type": "execute_result",
          "data": {
            "text/plain": [
              "{'kneighborsclassifier__n_neighbors': 21}"
            ]
          },
          "metadata": {},
          "execution_count": 17
        }
      ]
    },
    {
      "cell_type": "markdown",
      "source": [
        "We will update our model to use 21 nearest neighbors."
      ],
      "metadata": {
        "id": "2s7OQ5pP_Ts8"
      }
    },
    {
      "cell_type": "code",
      "source": [
        "knn_model = make_pipeline(\n",
        "    ct_flyet,\n",
        "    KNeighborsClassifier(n_neighbors=21)\n",
        ")\n",
        "\n",
        "knn_model.fit(X_train, y_train)"
      ],
      "metadata": {
        "colab": {
          "base_uri": "https://localhost:8080/"
        },
        "id": "hZlrASSG_SHK",
        "outputId": "5b906b04-d1fd-46c1-a8da-9fe16969c8d4"
      },
      "execution_count": null,
      "outputs": [
        {
          "output_type": "execute_result",
          "data": {
            "text/plain": [
              "Pipeline(steps=[('columntransformer',\n",
              "                 ColumnTransformer(remainder='passthrough',\n",
              "                                   transformers=[('onehotencoder',\n",
              "                                                  OneHotEncoder(sparse=False),\n",
              "                                                  ['Height', 'Age'])])),\n",
              "                ('kneighborsclassifier', KNeighborsClassifier(n_neighbors=21))])"
            ]
          },
          "metadata": {},
          "execution_count": 18
        }
      ]
    },
    {
      "cell_type": "markdown",
      "source": [
        "**Accuracy**"
      ],
      "metadata": {
        "id": "AdJjPnwFoGGT"
      }
    },
    {
      "cell_type": "code",
      "source": [
        "cv_scores = cross_val_score(knn_model, X_train, y_train, \n",
        "                            cv=10, scoring=\"accuracy\")\n",
        "cv_scores.mean()"
      ],
      "metadata": {
        "colab": {
          "base_uri": "https://localhost:8080/"
        },
        "id": "t43QYKbxn_0r",
        "outputId": "11f832e2-9ede-4b61-a0b2-856ff6986b6b"
      },
      "execution_count": null,
      "outputs": [
        {
          "output_type": "execute_result",
          "data": {
            "text/plain": [
              "0.8136828644501278"
            ]
          },
          "metadata": {},
          "execution_count": 19
        }
      ]
    },
    {
      "cell_type": "markdown",
      "source": [
        "Yay! We got an accuracy of 81%. That is a huge improvement from our previous model of 23% accuracy. "
      ],
      "metadata": {
        "id": "E_Ve_KwXuk2k"
      }
    },
    {
      "cell_type": "markdown",
      "source": [
        "**Precision**"
      ],
      "metadata": {
        "id": "Y-2pvbaT0FQ5"
      }
    },
    {
      "cell_type": "code",
      "source": [
        "recline = (y_train == \"Yes\")\n",
        "\n",
        "cv_scores = cross_val_score(knn_model, X_train, recline, \n",
        "                            cv=10, scoring=\"precision\")\n",
        "cv_scores.mean()"
      ],
      "metadata": {
        "colab": {
          "base_uri": "https://localhost:8080/"
        },
        "id": "Y1EYPKI20Ok_",
        "outputId": "56434fe4-dfdb-4c93-80f9-3b01543869d0"
      },
      "execution_count": null,
      "outputs": [
        {
          "output_type": "execute_result",
          "data": {
            "text/plain": [
              "0.8134271099744245"
            ]
          },
          "metadata": {},
          "execution_count": 20
        }
      ]
    },
    {
      "cell_type": "code",
      "source": [
        "dont_recline = (y_train == \"No\")\n",
        "\n",
        "cv_scores = cross_val_score(knn_model, X_train, dont_recline, \n",
        "                            cv=10, scoring=\"precision\")\n",
        "cv_scores.mean()"
      ],
      "metadata": {
        "colab": {
          "base_uri": "https://localhost:8080/"
        },
        "id": "_l16UtII0Ezy",
        "outputId": "afcd8251-2d49-4e2b-9494-e41a789b48cd"
      },
      "execution_count": null,
      "outputs": [
        {
          "output_type": "stream",
          "name": "stderr",
          "text": [
            "/usr/local/lib/python3.8/dist-packages/sklearn/metrics/_classification.py:1318: UndefinedMetricWarning: Precision is ill-defined and being set to 0.0 due to no predicted samples. Use `zero_division` parameter to control this behavior.\n",
            "  _warn_prf(average, modifier, msg_start, len(result))\n",
            "/usr/local/lib/python3.8/dist-packages/sklearn/metrics/_classification.py:1318: UndefinedMetricWarning: Precision is ill-defined and being set to 0.0 due to no predicted samples. Use `zero_division` parameter to control this behavior.\n",
            "  _warn_prf(average, modifier, msg_start, len(result))\n",
            "/usr/local/lib/python3.8/dist-packages/sklearn/metrics/_classification.py:1318: UndefinedMetricWarning: Precision is ill-defined and being set to 0.0 due to no predicted samples. Use `zero_division` parameter to control this behavior.\n",
            "  _warn_prf(average, modifier, msg_start, len(result))\n",
            "/usr/local/lib/python3.8/dist-packages/sklearn/metrics/_classification.py:1318: UndefinedMetricWarning: Precision is ill-defined and being set to 0.0 due to no predicted samples. Use `zero_division` parameter to control this behavior.\n",
            "  _warn_prf(average, modifier, msg_start, len(result))\n",
            "/usr/local/lib/python3.8/dist-packages/sklearn/metrics/_classification.py:1318: UndefinedMetricWarning: Precision is ill-defined and being set to 0.0 due to no predicted samples. Use `zero_division` parameter to control this behavior.\n",
            "  _warn_prf(average, modifier, msg_start, len(result))\n",
            "/usr/local/lib/python3.8/dist-packages/sklearn/metrics/_classification.py:1318: UndefinedMetricWarning: Precision is ill-defined and being set to 0.0 due to no predicted samples. Use `zero_division` parameter to control this behavior.\n",
            "  _warn_prf(average, modifier, msg_start, len(result))\n",
            "/usr/local/lib/python3.8/dist-packages/sklearn/metrics/_classification.py:1318: UndefinedMetricWarning: Precision is ill-defined and being set to 0.0 due to no predicted samples. Use `zero_division` parameter to control this behavior.\n",
            "  _warn_prf(average, modifier, msg_start, len(result))\n",
            "/usr/local/lib/python3.8/dist-packages/sklearn/metrics/_classification.py:1318: UndefinedMetricWarning: Precision is ill-defined and being set to 0.0 due to no predicted samples. Use `zero_division` parameter to control this behavior.\n",
            "  _warn_prf(average, modifier, msg_start, len(result))\n",
            "/usr/local/lib/python3.8/dist-packages/sklearn/metrics/_classification.py:1318: UndefinedMetricWarning: Precision is ill-defined and being set to 0.0 due to no predicted samples. Use `zero_division` parameter to control this behavior.\n",
            "  _warn_prf(average, modifier, msg_start, len(result))\n"
          ]
        },
        {
          "output_type": "execute_result",
          "data": {
            "text/plain": [
              "0.1"
            ]
          },
          "metadata": {},
          "execution_count": 21
        }
      ]
    },
    {
      "cell_type": "markdown",
      "source": [
        "**Recall**"
      ],
      "metadata": {
        "id": "idRBFupv9D5W"
      }
    },
    {
      "cell_type": "code",
      "source": [
        "recline = (y_train == \"Yes\")\n",
        "\n",
        "cv_scores = cross_val_score(knn_model, X_train, recline, \n",
        "                            cv=10, scoring=\"recall\")\n",
        "cv_scores.mean()"
      ],
      "metadata": {
        "colab": {
          "base_uri": "https://localhost:8080/"
        },
        "id": "ROkU9m8L9DY4",
        "outputId": "71bd8c5e-0995-413d-bb5e-0f8b42b079c2"
      },
      "execution_count": null,
      "outputs": [
        {
          "output_type": "execute_result",
          "data": {
            "text/plain": [
              "1.0"
            ]
          },
          "metadata": {},
          "execution_count": 22
        }
      ]
    },
    {
      "cell_type": "code",
      "source": [
        "dont_recline = (y_train == \"No\")\n",
        "\n",
        "cv_scores = cross_val_score(knn_model, X_train, dont_recline, \n",
        "                            cv=10, scoring=\"recall\")\n",
        "cv_scores.mean()"
      ],
      "metadata": {
        "colab": {
          "base_uri": "https://localhost:8080/"
        },
        "id": "YCIHOBUd9PvD",
        "outputId": "7d5b46e6-1d64-4da1-86cb-438123737746"
      },
      "execution_count": null,
      "outputs": [
        {
          "output_type": "execute_result",
          "data": {
            "text/plain": [
              "0.007692307692307693"
            ]
          },
          "metadata": {},
          "execution_count": 23
        }
      ]
    },
    {
      "cell_type": "markdown",
      "source": [
        "To make predictions on ourselves, we'll define a new dataframe an used the built-in predict function. "
      ],
      "metadata": {
        "id": "BqUaUYEaK-Ew"
      }
    },
    {
      "cell_type": "code",
      "source": [
        "# define the test data (recall that scikit-learn expects a 2D-array)\n",
        "x_new = pd.DataFrame(columns=[\"Height\",\n",
        "                              \"Age\"])\n",
        "x_new.loc[0] = [63, \"18-29\"]\n",
        "x_new.loc[1] = [69, \"18-29\"]\n",
        "knn_model.predict(x_new)"
      ],
      "metadata": {
        "colab": {
          "base_uri": "https://localhost:8080/"
        },
        "id": "voRLKQV9K6xO",
        "outputId": "7064e2d7-85fe-482d-ef91-80b47a7d48df"
      },
      "execution_count": null,
      "outputs": [
        {
          "output_type": "execute_result",
          "data": {
            "text/plain": [
              "array(['Yes', 'Yes'], dtype=object)"
            ]
          },
          "metadata": {},
          "execution_count": 24
        }
      ]
    },
    {
      "cell_type": "markdown",
      "source": [
        "We used our machine learning algorithm on ourselves (Lana - index 0, Rachel - index 1), and it was accurate! We both recline our seats when flying.  "
      ],
      "metadata": {
        "id": "Jlt0cU4T7G80"
      }
    },
    {
      "cell_type": "markdown",
      "source": [
        "#Ensemble Methods for Regression using International Tourism dataset"
      ],
      "metadata": {
        "id": "fLCwBbTwuTlL"
      }
    },
    {
      "cell_type": "code",
      "source": [
        "df_international_tourism = pd.read_csv(data_dir + \"df_international_tourism.csv\")\n",
        "df_international_tourism = df_international_tourism[df_international_tourism[\"year\"] >= 1995]"
      ],
      "metadata": {
        "id": "5NnpLICnudua"
      },
      "execution_count": null,
      "outputs": []
    },
    {
      "cell_type": "code",
      "source": [
        "df_2017 = df_international_tourism[df_international_tourism[\"year\"] == 2017]\n",
        "df_2017.dtypes"
      ],
      "metadata": {
        "colab": {
          "base_uri": "https://localhost:8080/"
        },
        "id": "KWpXoYOAMgno",
        "outputId": "3e4372a5-43f4-4f94-9feb-0c283d0568ef"
      },
      "execution_count": null,
      "outputs": [
        {
          "output_type": "execute_result",
          "data": {
            "text/plain": [
              "Country Name                               object\n",
              "year                                        int64\n",
              "total_gdp                                 float64\n",
              "population                                float64\n",
              "income_per_person                         float64\n",
              "co2_emissions                             float64\n",
              "receipts_percent_total_exports            float64\n",
              "receipts_travel_items                     float64\n",
              "receipts_passenger_transport_items        float64\n",
              "receipts_current_us                       float64\n",
              "number_of_departures                      float64\n",
              "number_of_arrivals                        float64\n",
              "expenditures_passenger_transport_items    float64\n",
              "expenditures_percent_total_imports        float64\n",
              "expenditures_current_us                   float64\n",
              "continent                                  object\n",
              "sub_region                                 object\n",
              "dtype: object"
            ]
          },
          "metadata": {},
          "execution_count": 26
        }
      ]
    },
    {
      "cell_type": "markdown",
      "source": [
        "We are specifically interested in the variables \"receipts_percent_total_exports\", \"number_of_departures\", \"expenditures_passenger_transport_items\", so we will drop countries where there are missing values in those variables but drop any other variables that have missing values to filter out potential predictor variables."
      ],
      "metadata": {
        "id": "c6dK5tJ0BTfF"
      }
    },
    {
      "cell_type": "code",
      "source": [
        "df_2017 = df_2017.dropna(subset=[\"receipts_percent_total_exports\", \"number_of_departures\", \"expenditures_passenger_transport_items\"]) #dropped two countries where there were missing values in the variables we are interested in\n",
        "df_2017.dropna(axis='columns')"
      ],
      "metadata": {
        "colab": {
          "base_uri": "https://localhost:8080/",
          "height": 522
        },
        "id": "4COXPa1swqSl",
        "outputId": "fa778fde-7f5c-469a-e8f2-623a443916da"
      },
      "execution_count": null,
      "outputs": [
        {
          "output_type": "execute_result",
          "data": {
            "text/plain": [
              "        Country Name  year     total_gdp   population  income_per_person  \\\n",
              "9977         Albania  2017  1.270000e+10    2880000.0            13300.0   \n",
              "9980       Argentina  2017  5.830000e+11   44400000.0            22700.0   \n",
              "9981         Armenia  2017  1.200000e+10    2950000.0            12700.0   \n",
              "9983       Australia  2017  1.460000e+12   24900000.0            49000.0   \n",
              "9984         Austria  2017  4.080000e+11    8890000.0            55300.0   \n",
              "...              ...   ...           ...          ...                ...   \n",
              "10141  United States  2017  1.960000e+13  327000000.0            61600.0   \n",
              "10142     Uzbekistan  2017  1.000000e+11   32500000.0             7080.0   \n",
              "10145        Vanuatu  2017  8.370000e+08     293000.0             3090.0   \n",
              "10146          Samoa  2017  8.500000e+08     196000.0             6390.0   \n",
              "10149       Zimbabwe  2017  2.210000e+10   14400000.0             3920.0   \n",
              "\n",
              "       co2_emissions  receipts_percent_total_exports  receipts_travel_items  \\\n",
              "9977           1.590                       49.471563           1.943000e+09   \n",
              "9980           4.410                        7.860525           5.370000e+09   \n",
              "9981           1.890                       27.760742           1.204000e+09   \n",
              "9983          16.900                       14.820693           4.174700e+10   \n",
              "9984           7.750                        9.949776           2.033300e+10   \n",
              "...              ...                             ...                    ...   \n",
              "10141         16.600                        9.777483           1.964680e+11   \n",
              "10142          2.810                        6.727242           6.890000e+08   \n",
              "10145          0.529                       75.540795           2.650000e+08   \n",
              "10146          1.320                       59.987355           1.660000e+08   \n",
              "10149          0.850                        3.405013           1.490000e+08   \n",
              "\n",
              "       receipts_current_us  number_of_departures  number_of_arrivals  \\\n",
              "9977          2.050000e+09          5.186000e+06        5.118000e+06   \n",
              "9980          5.830000e+09          2.158300e+07        6.711000e+06   \n",
              "9981          1.224000e+09          1.482000e+06        1.495000e+06   \n",
              "9983          4.397500e+10          1.093200e+07        8.815000e+06   \n",
              "9984          2.242400e+10          1.149100e+07        2.946000e+07   \n",
              "...                    ...                   ...                 ...   \n",
              "10141         2.337580e+11          1.480450e+08        1.742918e+08   \n",
              "10142         8.350000e+08          5.182000e+06        2.690000e+06   \n",
              "10145         2.890000e+08          2.630000e+04        3.327000e+05   \n",
              "10146         1.670000e+08          5.500000e+04        1.580000e+05   \n",
              "10149         1.580000e+08          2.768000e+06        2.423000e+06   \n",
              "\n",
              "       expenditures_passenger_transport_items  \\\n",
              "9977                             4.000000e+07   \n",
              "9980                             2.802000e+09   \n",
              "9981                             5.500000e+07   \n",
              "9983                             5.240000e+09   \n",
              "9984                             2.110000e+09   \n",
              "...                                       ...   \n",
              "10141                            4.035800e+10   \n",
              "10142                            4.760000e+08   \n",
              "10145                            3.000000e+06   \n",
              "10146                            7.000000e+05   \n",
              "10149                            2.200000e+07   \n",
              "\n",
              "       expenditures_percent_total_imports  expenditures_current_us  \n",
              "9977                            24.058987             1.473000e+09  \n",
              "9980                            15.877179             1.418000e+10  \n",
              "9981                            21.555388             1.218000e+09  \n",
              "9983                            13.699768             3.971000e+10  \n",
              "9984                             6.048804             1.287800e+10  \n",
              "...                                   ...                      ...  \n",
              "10141                            5.451567             1.582870e+11  \n",
              "10142                           12.792844             2.107000e+09  \n",
              "10145                            4.033783             1.900000e+07  \n",
              "10146                            0.950797             3.900000e+06  \n",
              "10149                            5.416872             3.370000e+08  \n",
              "\n",
              "[72 rows x 14 columns]"
            ],
            "text/html": [
              "\n",
              "  <div id=\"df-5aa462ea-a474-4232-9a1b-bd4a823db8d6\">\n",
              "    <div class=\"colab-df-container\">\n",
              "      <div>\n",
              "<style scoped>\n",
              "    .dataframe tbody tr th:only-of-type {\n",
              "        vertical-align: middle;\n",
              "    }\n",
              "\n",
              "    .dataframe tbody tr th {\n",
              "        vertical-align: top;\n",
              "    }\n",
              "\n",
              "    .dataframe thead th {\n",
              "        text-align: right;\n",
              "    }\n",
              "</style>\n",
              "<table border=\"1\" class=\"dataframe\">\n",
              "  <thead>\n",
              "    <tr style=\"text-align: right;\">\n",
              "      <th></th>\n",
              "      <th>Country Name</th>\n",
              "      <th>year</th>\n",
              "      <th>total_gdp</th>\n",
              "      <th>population</th>\n",
              "      <th>income_per_person</th>\n",
              "      <th>co2_emissions</th>\n",
              "      <th>receipts_percent_total_exports</th>\n",
              "      <th>receipts_travel_items</th>\n",
              "      <th>receipts_current_us</th>\n",
              "      <th>number_of_departures</th>\n",
              "      <th>number_of_arrivals</th>\n",
              "      <th>expenditures_passenger_transport_items</th>\n",
              "      <th>expenditures_percent_total_imports</th>\n",
              "      <th>expenditures_current_us</th>\n",
              "    </tr>\n",
              "  </thead>\n",
              "  <tbody>\n",
              "    <tr>\n",
              "      <th>9977</th>\n",
              "      <td>Albania</td>\n",
              "      <td>2017</td>\n",
              "      <td>1.270000e+10</td>\n",
              "      <td>2880000.0</td>\n",
              "      <td>13300.0</td>\n",
              "      <td>1.590</td>\n",
              "      <td>49.471563</td>\n",
              "      <td>1.943000e+09</td>\n",
              "      <td>2.050000e+09</td>\n",
              "      <td>5.186000e+06</td>\n",
              "      <td>5.118000e+06</td>\n",
              "      <td>4.000000e+07</td>\n",
              "      <td>24.058987</td>\n",
              "      <td>1.473000e+09</td>\n",
              "    </tr>\n",
              "    <tr>\n",
              "      <th>9980</th>\n",
              "      <td>Argentina</td>\n",
              "      <td>2017</td>\n",
              "      <td>5.830000e+11</td>\n",
              "      <td>44400000.0</td>\n",
              "      <td>22700.0</td>\n",
              "      <td>4.410</td>\n",
              "      <td>7.860525</td>\n",
              "      <td>5.370000e+09</td>\n",
              "      <td>5.830000e+09</td>\n",
              "      <td>2.158300e+07</td>\n",
              "      <td>6.711000e+06</td>\n",
              "      <td>2.802000e+09</td>\n",
              "      <td>15.877179</td>\n",
              "      <td>1.418000e+10</td>\n",
              "    </tr>\n",
              "    <tr>\n",
              "      <th>9981</th>\n",
              "      <td>Armenia</td>\n",
              "      <td>2017</td>\n",
              "      <td>1.200000e+10</td>\n",
              "      <td>2950000.0</td>\n",
              "      <td>12700.0</td>\n",
              "      <td>1.890</td>\n",
              "      <td>27.760742</td>\n",
              "      <td>1.204000e+09</td>\n",
              "      <td>1.224000e+09</td>\n",
              "      <td>1.482000e+06</td>\n",
              "      <td>1.495000e+06</td>\n",
              "      <td>5.500000e+07</td>\n",
              "      <td>21.555388</td>\n",
              "      <td>1.218000e+09</td>\n",
              "    </tr>\n",
              "    <tr>\n",
              "      <th>9983</th>\n",
              "      <td>Australia</td>\n",
              "      <td>2017</td>\n",
              "      <td>1.460000e+12</td>\n",
              "      <td>24900000.0</td>\n",
              "      <td>49000.0</td>\n",
              "      <td>16.900</td>\n",
              "      <td>14.820693</td>\n",
              "      <td>4.174700e+10</td>\n",
              "      <td>4.397500e+10</td>\n",
              "      <td>1.093200e+07</td>\n",
              "      <td>8.815000e+06</td>\n",
              "      <td>5.240000e+09</td>\n",
              "      <td>13.699768</td>\n",
              "      <td>3.971000e+10</td>\n",
              "    </tr>\n",
              "    <tr>\n",
              "      <th>9984</th>\n",
              "      <td>Austria</td>\n",
              "      <td>2017</td>\n",
              "      <td>4.080000e+11</td>\n",
              "      <td>8890000.0</td>\n",
              "      <td>55300.0</td>\n",
              "      <td>7.750</td>\n",
              "      <td>9.949776</td>\n",
              "      <td>2.033300e+10</td>\n",
              "      <td>2.242400e+10</td>\n",
              "      <td>1.149100e+07</td>\n",
              "      <td>2.946000e+07</td>\n",
              "      <td>2.110000e+09</td>\n",
              "      <td>6.048804</td>\n",
              "      <td>1.287800e+10</td>\n",
              "    </tr>\n",
              "    <tr>\n",
              "      <th>...</th>\n",
              "      <td>...</td>\n",
              "      <td>...</td>\n",
              "      <td>...</td>\n",
              "      <td>...</td>\n",
              "      <td>...</td>\n",
              "      <td>...</td>\n",
              "      <td>...</td>\n",
              "      <td>...</td>\n",
              "      <td>...</td>\n",
              "      <td>...</td>\n",
              "      <td>...</td>\n",
              "      <td>...</td>\n",
              "      <td>...</td>\n",
              "      <td>...</td>\n",
              "    </tr>\n",
              "    <tr>\n",
              "      <th>10141</th>\n",
              "      <td>United States</td>\n",
              "      <td>2017</td>\n",
              "      <td>1.960000e+13</td>\n",
              "      <td>327000000.0</td>\n",
              "      <td>61600.0</td>\n",
              "      <td>16.600</td>\n",
              "      <td>9.777483</td>\n",
              "      <td>1.964680e+11</td>\n",
              "      <td>2.337580e+11</td>\n",
              "      <td>1.480450e+08</td>\n",
              "      <td>1.742918e+08</td>\n",
              "      <td>4.035800e+10</td>\n",
              "      <td>5.451567</td>\n",
              "      <td>1.582870e+11</td>\n",
              "    </tr>\n",
              "    <tr>\n",
              "      <th>10142</th>\n",
              "      <td>Uzbekistan</td>\n",
              "      <td>2017</td>\n",
              "      <td>1.000000e+11</td>\n",
              "      <td>32500000.0</td>\n",
              "      <td>7080.0</td>\n",
              "      <td>2.810</td>\n",
              "      <td>6.727242</td>\n",
              "      <td>6.890000e+08</td>\n",
              "      <td>8.350000e+08</td>\n",
              "      <td>5.182000e+06</td>\n",
              "      <td>2.690000e+06</td>\n",
              "      <td>4.760000e+08</td>\n",
              "      <td>12.792844</td>\n",
              "      <td>2.107000e+09</td>\n",
              "    </tr>\n",
              "    <tr>\n",
              "      <th>10145</th>\n",
              "      <td>Vanuatu</td>\n",
              "      <td>2017</td>\n",
              "      <td>8.370000e+08</td>\n",
              "      <td>293000.0</td>\n",
              "      <td>3090.0</td>\n",
              "      <td>0.529</td>\n",
              "      <td>75.540795</td>\n",
              "      <td>2.650000e+08</td>\n",
              "      <td>2.890000e+08</td>\n",
              "      <td>2.630000e+04</td>\n",
              "      <td>3.327000e+05</td>\n",
              "      <td>3.000000e+06</td>\n",
              "      <td>4.033783</td>\n",
              "      <td>1.900000e+07</td>\n",
              "    </tr>\n",
              "    <tr>\n",
              "      <th>10146</th>\n",
              "      <td>Samoa</td>\n",
              "      <td>2017</td>\n",
              "      <td>8.500000e+08</td>\n",
              "      <td>196000.0</td>\n",
              "      <td>6390.0</td>\n",
              "      <td>1.320</td>\n",
              "      <td>59.987355</td>\n",
              "      <td>1.660000e+08</td>\n",
              "      <td>1.670000e+08</td>\n",
              "      <td>5.500000e+04</td>\n",
              "      <td>1.580000e+05</td>\n",
              "      <td>7.000000e+05</td>\n",
              "      <td>0.950797</td>\n",
              "      <td>3.900000e+06</td>\n",
              "    </tr>\n",
              "    <tr>\n",
              "      <th>10149</th>\n",
              "      <td>Zimbabwe</td>\n",
              "      <td>2017</td>\n",
              "      <td>2.210000e+10</td>\n",
              "      <td>14400000.0</td>\n",
              "      <td>3920.0</td>\n",
              "      <td>0.850</td>\n",
              "      <td>3.405013</td>\n",
              "      <td>1.490000e+08</td>\n",
              "      <td>1.580000e+08</td>\n",
              "      <td>2.768000e+06</td>\n",
              "      <td>2.423000e+06</td>\n",
              "      <td>2.200000e+07</td>\n",
              "      <td>5.416872</td>\n",
              "      <td>3.370000e+08</td>\n",
              "    </tr>\n",
              "  </tbody>\n",
              "</table>\n",
              "<p>72 rows × 14 columns</p>\n",
              "</div>\n",
              "      <button class=\"colab-df-convert\" onclick=\"convertToInteractive('df-5aa462ea-a474-4232-9a1b-bd4a823db8d6')\"\n",
              "              title=\"Convert this dataframe to an interactive table.\"\n",
              "              style=\"display:none;\">\n",
              "        \n",
              "  <svg xmlns=\"http://www.w3.org/2000/svg\" height=\"24px\"viewBox=\"0 0 24 24\"\n",
              "       width=\"24px\">\n",
              "    <path d=\"M0 0h24v24H0V0z\" fill=\"none\"/>\n",
              "    <path d=\"M18.56 5.44l.94 2.06.94-2.06 2.06-.94-2.06-.94-.94-2.06-.94 2.06-2.06.94zm-11 1L8.5 8.5l.94-2.06 2.06-.94-2.06-.94L8.5 2.5l-.94 2.06-2.06.94zm10 10l.94 2.06.94-2.06 2.06-.94-2.06-.94-.94-2.06-.94 2.06-2.06.94z\"/><path d=\"M17.41 7.96l-1.37-1.37c-.4-.4-.92-.59-1.43-.59-.52 0-1.04.2-1.43.59L10.3 9.45l-7.72 7.72c-.78.78-.78 2.05 0 2.83L4 21.41c.39.39.9.59 1.41.59.51 0 1.02-.2 1.41-.59l7.78-7.78 2.81-2.81c.8-.78.8-2.07 0-2.86zM5.41 20L4 18.59l7.72-7.72 1.47 1.35L5.41 20z\"/>\n",
              "  </svg>\n",
              "      </button>\n",
              "      \n",
              "  <style>\n",
              "    .colab-df-container {\n",
              "      display:flex;\n",
              "      flex-wrap:wrap;\n",
              "      gap: 12px;\n",
              "    }\n",
              "\n",
              "    .colab-df-convert {\n",
              "      background-color: #E8F0FE;\n",
              "      border: none;\n",
              "      border-radius: 50%;\n",
              "      cursor: pointer;\n",
              "      display: none;\n",
              "      fill: #1967D2;\n",
              "      height: 32px;\n",
              "      padding: 0 0 0 0;\n",
              "      width: 32px;\n",
              "    }\n",
              "\n",
              "    .colab-df-convert:hover {\n",
              "      background-color: #E2EBFA;\n",
              "      box-shadow: 0px 1px 2px rgba(60, 64, 67, 0.3), 0px 1px 3px 1px rgba(60, 64, 67, 0.15);\n",
              "      fill: #174EA6;\n",
              "    }\n",
              "\n",
              "    [theme=dark] .colab-df-convert {\n",
              "      background-color: #3B4455;\n",
              "      fill: #D2E3FC;\n",
              "    }\n",
              "\n",
              "    [theme=dark] .colab-df-convert:hover {\n",
              "      background-color: #434B5C;\n",
              "      box-shadow: 0px 1px 3px 1px rgba(0, 0, 0, 0.15);\n",
              "      filter: drop-shadow(0px 1px 2px rgba(0, 0, 0, 0.3));\n",
              "      fill: #FFFFFF;\n",
              "    }\n",
              "  </style>\n",
              "\n",
              "      <script>\n",
              "        const buttonEl =\n",
              "          document.querySelector('#df-5aa462ea-a474-4232-9a1b-bd4a823db8d6 button.colab-df-convert');\n",
              "        buttonEl.style.display =\n",
              "          google.colab.kernel.accessAllowed ? 'block' : 'none';\n",
              "\n",
              "        async function convertToInteractive(key) {\n",
              "          const element = document.querySelector('#df-5aa462ea-a474-4232-9a1b-bd4a823db8d6');\n",
              "          const dataTable =\n",
              "            await google.colab.kernel.invokeFunction('convertToInteractive',\n",
              "                                                     [key], {});\n",
              "          if (!dataTable) return;\n",
              "\n",
              "          const docLinkHtml = 'Like what you see? Visit the ' +\n",
              "            '<a target=\"_blank\" href=https://colab.research.google.com/notebooks/data_table.ipynb>data table notebook</a>'\n",
              "            + ' to learn more about interactive tables.';\n",
              "          element.innerHTML = '';\n",
              "          dataTable['output_type'] = 'display_data';\n",
              "          await google.colab.output.renderOutput(dataTable, element);\n",
              "          const docLink = document.createElement('div');\n",
              "          docLink.innerHTML = docLinkHtml;\n",
              "          element.appendChild(docLink);\n",
              "        }\n",
              "      </script>\n",
              "    </div>\n",
              "  </div>\n",
              "  "
            ]
          },
          "metadata": {},
          "execution_count": 27
        }
      ]
    },
    {
      "cell_type": "markdown",
      "source": [
        "We have eliminated about half of our observations, but the countries that we dropped were mostly small islands so we will not include them in our generalizations."
      ],
      "metadata": {
        "id": "7fT-LagPCr7S"
      }
    },
    {
      "cell_type": "markdown",
      "source": [
        "Next, let's test out a number of different travel-related predictor variables on 3-fold cross-validation. "
      ],
      "metadata": {
        "id": "jop1eGHRPIa5"
      }
    },
    {
      "cell_type": "code",
      "source": [
        "# calculate estimate of test error for a given feature set\n",
        "def get_cv_error(features):\n",
        "  # define pipeline\n",
        "  pipeline = make_pipeline(\n",
        "      StandardScaler(),\n",
        "      KNeighborsRegressor(n_neighbors=5)\n",
        "  )\n",
        "  # calculate errors from cross-validation\n",
        "  cv_errs = -cross_val_score(pipeline, X=df_2017[features], \n",
        "                             y=df_2017[\"co2_emissions\"],\n",
        "                             scoring=\"neg_mean_squared_error\", cv=3)\n",
        "  # calculate average of the cross-validation errors\n",
        "  return cv_errs.mean()\n",
        "\n",
        "# calculate and store errors for different feature sets\n",
        "errs = pd.Series()\n",
        "for features in [[\"income_per_person\", \"population\", \"receipts_travel_items\"],\n",
        "                 [\"income_per_person\", \"population\", \"number_of_departures\"],\n",
        "                 [\"income_per_person\", \"population\", \"receipts_current_us\"],\n",
        "                 [\"income_per_person\", \"population\", \"receipts_percent_total_exports\"],\n",
        "                 [\"income_per_person\", \"population\", \"expenditures_percent_total_imports\"]]:\n",
        "  errs[str(features)] = get_cv_error(features)\n",
        "\n",
        "errs"
      ],
      "metadata": {
        "colab": {
          "base_uri": "https://localhost:8080/"
        },
        "id": "a4tJY3mpI4FJ",
        "outputId": "2c994a35-2832-4682-a7d3-52c47074026f"
      },
      "execution_count": null,
      "outputs": [
        {
          "output_type": "stream",
          "name": "stderr",
          "text": [
            "<ipython-input-28-4dcc10afb33d>:16: DeprecationWarning: The default dtype for empty Series will be 'object' instead of 'float64' in a future version. Specify a dtype explicitly to silence this warning.\n",
            "  errs = pd.Series()\n"
          ]
        },
        {
          "output_type": "execute_result",
          "data": {
            "text/plain": [
              "['income_per_person', 'population', 'receipts_travel_items']                 13.419724\n",
              "['income_per_person', 'population', 'number_of_departures']                  14.287091\n",
              "['income_per_person', 'population', 'receipts_current_us']                   13.677253\n",
              "['income_per_person', 'population', 'receipts_percent_total_exports']        13.551865\n",
              "['income_per_person', 'population', 'expenditures_percent_total_imports']    13.893469\n",
              "dtype: float64"
            ]
          },
          "metadata": {},
          "execution_count": 28
        }
      ]
    },
    {
      "cell_type": "markdown",
      "source": [
        "The model that gives us the lowest error when predicting \"co2_emissions\" is the one that include predictor variables 'income_per_person', 'population', and 'receipts_travel_items'.    "
      ],
      "metadata": {
        "id": "GFsMLUQTPm3z"
      }
    },
    {
      "cell_type": "code",
      "source": [
        "X_train = df_2017[[\"income_per_person\", \"population\", \"receipts_travel_items\"]]\n",
        "y_train = df_2017[\"co2_emissions\"]"
      ],
      "metadata": {
        "id": "OFGBffYMQYQu"
      },
      "execution_count": null,
      "outputs": []
    },
    {
      "cell_type": "code",
      "source": [
        "linear_model = make_pipeline(\n",
        "    LinearRegression()\n",
        ")\n",
        "\n",
        "linear_model.fit(X=X_train, y=y_train)"
      ],
      "metadata": {
        "colab": {
          "base_uri": "https://localhost:8080/"
        },
        "id": "zXjRQvPYQkG_",
        "outputId": "dc22f73c-a29a-4412-d8e5-613aa5dcd1b9"
      },
      "execution_count": null,
      "outputs": [
        {
          "output_type": "execute_result",
          "data": {
            "text/plain": [
              "Pipeline(steps=[('linearregression', LinearRegression())])"
            ]
          },
          "metadata": {},
          "execution_count": 30
        }
      ]
    },
    {
      "cell_type": "code",
      "source": [
        "knn_model = make_pipeline(\n",
        "    StandardScaler(),\n",
        "    KNeighborsRegressor(n_neighbors=3)\n",
        ")\n",
        "knn_model.fit(X=X_train, y=y_train)"
      ],
      "metadata": {
        "colab": {
          "base_uri": "https://localhost:8080/"
        },
        "id": "njDP09GlQ08M",
        "outputId": "0db35a0b-58b7-4b45-e2e2-cbf6749b4d41"
      },
      "execution_count": null,
      "outputs": [
        {
          "output_type": "execute_result",
          "data": {
            "text/plain": [
              "Pipeline(steps=[('standardscaler', StandardScaler()),\n",
              "                ('kneighborsregressor', KNeighborsRegressor(n_neighbors=3))])"
            ]
          },
          "metadata": {},
          "execution_count": 31
        }
      ]
    },
    {
      "cell_type": "code",
      "source": [
        "ensemble_model = VotingRegressor([\n",
        "    (\"linear\", linear_model), \n",
        "    (\"knn\", knn_model)\n",
        "])\n",
        "ensemble_model.fit(X=X_train, y=y_train)"
      ],
      "metadata": {
        "colab": {
          "base_uri": "https://localhost:8080/"
        },
        "id": "9dSEjch5Q7qw",
        "outputId": "fece82df-507a-45da-c362-743c9af1024d"
      },
      "execution_count": null,
      "outputs": [
        {
          "output_type": "execute_result",
          "data": {
            "text/plain": [
              "VotingRegressor(estimators=[('linear',\n",
              "                             Pipeline(steps=[('linearregression',\n",
              "                                              LinearRegression())])),\n",
              "                            ('knn',\n",
              "                             Pipeline(steps=[('standardscaler',\n",
              "                                              StandardScaler()),\n",
              "                                             ('kneighborsregressor',\n",
              "                                              KNeighborsRegressor(n_neighbors=3))]))])"
            ]
          },
          "metadata": {},
          "execution_count": 32
        }
      ]
    },
    {
      "cell_type": "code",
      "source": [
        "for model in [linear_model, knn_model, ensemble_model]:\n",
        "    print(-cross_val_score(model, X=X_train, y=y_train, cv=5,\n",
        "                           scoring=\"neg_mean_squared_error\").mean())"
      ],
      "metadata": {
        "colab": {
          "base_uri": "https://localhost:8080/"
        },
        "id": "zG_P3597RLdO",
        "outputId": "54bd4f97-76ad-4e70-d83c-d849eafd0d3b"
      },
      "execution_count": null,
      "outputs": [
        {
          "output_type": "stream",
          "name": "stdout",
          "text": [
            "12.295825712894542\n",
            "14.982486225396823\n",
            "11.767698616704475\n"
          ]
        }
      ]
    },
    {
      "cell_type": "markdown",
      "source": [
        "Wow! Our ensemble model had the lowest cross-validation score, so let's use it!"
      ],
      "metadata": {
        "id": "YEqflRUyRPUi"
      }
    },
    {
      "cell_type": "code",
      "source": [
        "# get model's predictions on validation set\n",
        "y_predict = ensemble_model.predict(X_train)\n",
        "\n",
        "# calculate RMSE on validation set\n",
        "rmse = np.sqrt(mean_squared_error(y_train, y_predict))\n",
        "rmse"
      ],
      "metadata": {
        "colab": {
          "base_uri": "https://localhost:8080/"
        },
        "id": "wjH0uJsqSFW6",
        "outputId": "c529ad19-536c-4b91-bd53-2d098315ead9"
      },
      "execution_count": null,
      "outputs": [
        {
          "output_type": "execute_result",
          "data": {
            "text/plain": [
              "2.721978072758195"
            ]
          },
          "metadata": {},
          "execution_count": 34
        }
      ]
    },
    {
      "cell_type": "markdown",
      "source": [
        "Ouch, that's a pretty high rmse value. Oh well! "
      ],
      "metadata": {
        "id": "4qRHheqwT1Mq"
      }
    },
    {
      "cell_type": "markdown",
      "source": [
        "#8.1 Working with Time Series Data"
      ],
      "metadata": {
        "id": "MuekJbSWLpJD"
      }
    },
    {
      "cell_type": "markdown",
      "source": [
        "Let's make some visualizations with our time series data. "
      ],
      "metadata": {
        "id": "aIJIeP60vpxK"
      }
    },
    {
      "cell_type": "code",
      "source": [
        "df_time_series = df_international_tourism\n",
        "column = \"number_of_arrivals\"\n",
        "df_time_series[column] = MinMaxScaler().fit_transform(np.array(df_time_series[column]).reshape(-1,1))\n",
        "df_time_series.index = pd.to_datetime(df_time_series[\"year\"], format=\"%Y\")"
      ],
      "metadata": {
        "id": "Sc-zBosVLrmx",
        "outputId": "f9489cff-1e2c-42c1-8ed4-28183bea582f",
        "colab": {
          "base_uri": "https://localhost:8080/",
          "height": 215
        }
      },
      "execution_count": null,
      "outputs": [
        {
          "output_type": "error",
          "ename": "NameError",
          "evalue": "ignored",
          "traceback": [
            "\u001b[0;31m---------------------------------------------------------------------------\u001b[0m",
            "\u001b[0;31mNameError\u001b[0m                                 Traceback (most recent call last)",
            "\u001b[0;32m<ipython-input-1-356a2f999748>\u001b[0m in \u001b[0;36m<module>\u001b[0;34m\u001b[0m\n\u001b[0;32m----> 1\u001b[0;31m \u001b[0mdf_time_series\u001b[0m \u001b[0;34m=\u001b[0m \u001b[0mdf_international_tourism\u001b[0m\u001b[0;34m\u001b[0m\u001b[0;34m\u001b[0m\u001b[0m\n\u001b[0m\u001b[1;32m      2\u001b[0m \u001b[0mcolumn\u001b[0m \u001b[0;34m=\u001b[0m \u001b[0;34m\"number_of_arrivals\"\u001b[0m\u001b[0;34m\u001b[0m\u001b[0;34m\u001b[0m\u001b[0m\n\u001b[1;32m      3\u001b[0m \u001b[0mdf_time_series\u001b[0m\u001b[0;34m[\u001b[0m\u001b[0mcolumn\u001b[0m\u001b[0;34m]\u001b[0m \u001b[0;34m=\u001b[0m \u001b[0mMinMaxScaler\u001b[0m\u001b[0;34m(\u001b[0m\u001b[0;34m)\u001b[0m\u001b[0;34m.\u001b[0m\u001b[0mfit_transform\u001b[0m\u001b[0;34m(\u001b[0m\u001b[0mnp\u001b[0m\u001b[0;34m.\u001b[0m\u001b[0marray\u001b[0m\u001b[0;34m(\u001b[0m\u001b[0mdf_time_series\u001b[0m\u001b[0;34m[\u001b[0m\u001b[0mcolumn\u001b[0m\u001b[0;34m]\u001b[0m\u001b[0;34m)\u001b[0m\u001b[0;34m.\u001b[0m\u001b[0mreshape\u001b[0m\u001b[0;34m(\u001b[0m\u001b[0;34m-\u001b[0m\u001b[0;36m1\u001b[0m\u001b[0;34m,\u001b[0m\u001b[0;36m1\u001b[0m\u001b[0;34m)\u001b[0m\u001b[0;34m)\u001b[0m\u001b[0;34m\u001b[0m\u001b[0;34m\u001b[0m\u001b[0m\n\u001b[1;32m      4\u001b[0m \u001b[0mdf_time_series\u001b[0m\u001b[0;34m.\u001b[0m\u001b[0mindex\u001b[0m \u001b[0;34m=\u001b[0m \u001b[0mpd\u001b[0m\u001b[0;34m.\u001b[0m\u001b[0mto_datetime\u001b[0m\u001b[0;34m(\u001b[0m\u001b[0mdf_time_series\u001b[0m\u001b[0;34m[\u001b[0m\u001b[0;34m\"year\"\u001b[0m\u001b[0;34m]\u001b[0m\u001b[0;34m,\u001b[0m \u001b[0mformat\u001b[0m\u001b[0;34m=\u001b[0m\u001b[0;34m\"%Y\"\u001b[0m\u001b[0;34m)\u001b[0m\u001b[0;34m\u001b[0m\u001b[0;34m\u001b[0m\u001b[0m\n",
            "\u001b[0;31mNameError\u001b[0m: name 'df_international_tourism' is not defined"
          ]
        }
      ]
    },
    {
      "cell_type": "code",
      "source": [
        "df_us = df_time_series[df_time_series[\"Country Name\"] == \"United States\"]\n",
        "arrivals_us = df_us[\"number_of_arrivals\"]\n",
        "arrivals_us.plot.line()"
      ],
      "metadata": {
        "id": "bh3l6vaJRtbO"
      },
      "execution_count": null,
      "outputs": []
    },
    {
      "cell_type": "code",
      "source": [
        "(arrivals_us[arrivals_us.index < datetime(2010, 1, 1)].\n",
        " plot.line())"
      ],
      "metadata": {
        "id": "QPEL6Ph6TTLo"
      },
      "execution_count": null,
      "outputs": []
    },
    {
      "cell_type": "code",
      "source": [
        "df_germany = df_time_series[df_time_series[\"Country Name\"] == \"Germany\"]\n",
        "arrivals_de = df_germany[\"number_of_arrivals\"]\n",
        "arrivals_de.plot.line()"
      ],
      "metadata": {
        "id": "d4in34ijMwJz"
      },
      "execution_count": null,
      "outputs": []
    },
    {
      "cell_type": "code",
      "source": [
        "df_vietnam = df_time_series[df_time_series[\"Country Name\"] == \"Vietnam\"]\n",
        "arrivals_v = df_vietnam[\"number_of_arrivals\"]\n",
        "arrivals_v.plot.line()"
      ],
      "metadata": {
        "id": "sI6Kb5XqSYXq"
      },
      "execution_count": null,
      "outputs": []
    },
    {
      "cell_type": "code",
      "source": [
        "df_canada = df_time_series[df_time_series[\"Country Name\"] == \"Canada\"]\n",
        "arrivals_c = df_canada[\"number_of_arrivals\"]\n",
        "arrivals_c.plot.line()"
      ],
      "metadata": {
        "id": "pjLHU4BiShoH"
      },
      "execution_count": null,
      "outputs": []
    },
    {
      "cell_type": "code",
      "source": [
        "arrivals_1y = df_time_series.resample(\"1Y\")[\"number_of_arrivals\"].mean()\n",
        "arrivals_1y.plot.line()\n",
        "arrivals_1y"
      ],
      "metadata": {
        "id": "XGpBYuNENKcP"
      },
      "execution_count": null,
      "outputs": []
    },
    {
      "cell_type": "markdown",
      "source": [
        "#8.2 Time Series Forecasting"
      ],
      "metadata": {
        "id": "Xx7mN495UROp"
      }
    },
    {
      "cell_type": "markdown",
      "source": [
        "We can use forecasting to make predictions about the future."
      ],
      "metadata": {
        "id": "SigZSSSev_ON"
      }
    },
    {
      "cell_type": "code",
      "source": [
        "y_train = df_us[\"number_of_arrivals\"]\n",
        "y_train.plot.line(style=\":\")"
      ],
      "metadata": {
        "colab": {
          "base_uri": "https://localhost:8080/",
          "height": 296
        },
        "id": "NeCw5z9bUS17",
        "outputId": "869db89c-8ee8-4189-f35c-f75b3c5e1add"
      },
      "execution_count": null,
      "outputs": [
        {
          "output_type": "execute_result",
          "data": {
            "text/plain": [
              "<matplotlib.axes._subplots.AxesSubplot at 0x7fa9493ca1c0>"
            ]
          },
          "metadata": {},
          "execution_count": 42
        },
        {
          "output_type": "display_data",
          "data": {
            "text/plain": [
              "<Figure size 432x288 with 1 Axes>"
            ],
            "image/png": "[encoded data removed]"
          },
          "metadata": {
            "needs_background": "light"
          }
        }
      ]
    },
    {
      "cell_type": "code",
      "source": [
        "date = df_us.index\n",
        "t = date.year + (30 * (date.month - 1) + date.day) / 365\n",
        "t"
      ],
      "metadata": {
        "colab": {
          "base_uri": "https://localhost:8080/"
        },
        "id": "RTq2MheWUbpf",
        "outputId": "59015955-d4ea-455a-c85e-89dba3944c65"
      },
      "execution_count": null,
      "outputs": [
        {
          "output_type": "execute_result",
          "data": {
            "text/plain": [
              "Float64Index([1995.0027397260274, 1996.0027397260274, 1997.0027397260274,\n",
              "              1998.0027397260274, 1999.0027397260274, 2000.0027397260274,\n",
              "              2001.0027397260274, 2002.0027397260274, 2003.0027397260274,\n",
              "              2004.0027397260274, 2005.0027397260274, 2006.0027397260274,\n",
              "              2007.0027397260274, 2008.0027397260274, 2009.0027397260274,\n",
              "              2010.0027397260274, 2011.0027397260274, 2012.0027397260274,\n",
              "              2013.0027397260274, 2014.0027397260274, 2015.0027397260274,\n",
              "              2016.0027397260274, 2017.0027397260274],\n",
              "             dtype='float64', name='year')"
            ]
          },
          "metadata": {},
          "execution_count": 43
        }
      ]
    },
    {
      "cell_type": "code",
      "source": [
        "# Fit linear regression of y on t\n",
        "model = LinearRegression()\n",
        "model.fit(X=t.to_frame(), y=y_train)\n",
        "\n",
        "# Store model predictions in a Series for easy plotting\n",
        "y_train_ = pd.Series(\n",
        "    model.predict(X=t.to_frame()),\n",
        "    index=y_train.index\n",
        ")\n",
        "\n",
        "# Plot the data and the fitted trend\n",
        "y_train.plot.line(style=\":\")\n",
        "y_train_.plot.line()"
      ],
      "metadata": {
        "colab": {
          "base_uri": "https://localhost:8080/",
          "height": 296
        },
        "id": "w4GX32jwUr62",
        "outputId": "7f7149e9-16ee-4a74-e168-3cd2bdfb241e"
      },
      "execution_count": null,
      "outputs": [
        {
          "output_type": "execute_result",
          "data": {
            "text/plain": [
              "<matplotlib.axes._subplots.AxesSubplot at 0x7fa949348c70>"
            ]
          },
          "metadata": {},
          "execution_count": 44
        },
        {
          "output_type": "display_data",
          "data": {
            "text/plain": [
              "<Figure size 432x288 with 1 Axes>"
            ],
            "image/png": "[encoded data removed]"
          },
          "metadata": {
            "needs_background": "light"
          }
        }
      ]
    },
    {
      "cell_type": "code",
      "source": [
        "poly = PolynomialFeatures(degree=2, include_bias=False)\n",
        "poly.fit_transform(t.to_frame())"
      ],
      "metadata": {
        "colab": {
          "base_uri": "https://localhost:8080/"
        },
        "id": "3wpooR5eUyaN",
        "outputId": "6abbd0e2-36aa-498d-cddf-cc40432137d2"
      },
      "execution_count": null,
      "outputs": [
        {
          "output_type": "execute_result",
          "data": {
            "text/plain": [
              "array([[1.99500274e+03, 3.98003593e+06],\n",
              "       [1.99600274e+03, 3.98402694e+06],\n",
              "       [1.99700274e+03, 3.98801994e+06],\n",
              "       [1.99800274e+03, 3.99201495e+06],\n",
              "       [1.99900274e+03, 3.99601195e+06],\n",
              "       [2.00000274e+03, 4.00001096e+06],\n",
              "       [2.00100274e+03, 4.00401196e+06],\n",
              "       [2.00200274e+03, 4.00801497e+06],\n",
              "       [2.00300274e+03, 4.01201998e+06],\n",
              "       [2.00400274e+03, 4.01602698e+06],\n",
              "       [2.00500274e+03, 4.02003599e+06],\n",
              "       [2.00600274e+03, 4.02404699e+06],\n",
              "       [2.00700274e+03, 4.02806000e+06],\n",
              "       [2.00800274e+03, 4.03207500e+06],\n",
              "       [2.00900274e+03, 4.03609201e+06],\n",
              "       [2.01000274e+03, 4.04011101e+06],\n",
              "       [2.01100274e+03, 4.04413202e+06],\n",
              "       [2.01200274e+03, 4.04815502e+06],\n",
              "       [2.01300274e+03, 4.05218003e+06],\n",
              "       [2.01400274e+03, 4.05620704e+06],\n",
              "       [2.01500274e+03, 4.06023604e+06],\n",
              "       [2.01600274e+03, 4.06426705e+06],\n",
              "       [2.01700274e+03, 4.06830005e+06]])"
            ]
          },
          "metadata": {},
          "execution_count": 45
        }
      ]
    },
    {
      "cell_type": "code",
      "source": [
        "# Fit linear regression of y on t and t^2\n",
        "pipeline = make_pipeline(\n",
        "    PolynomialFeatures(degree=2, include_bias=False),\n",
        "    LinearRegression()\n",
        ")\n",
        "pipeline.fit(X=t.to_frame(), y=y_train)\n",
        "\n",
        "# Store model predictions in a Series for easy plotting\n",
        "y_train_ = pd.Series(\n",
        "    pipeline.predict(X=t.to_frame()),\n",
        "    index=y_train.index\n",
        ")\n",
        "\n",
        "# Plot the data and the fitted trend\n",
        "y_train.plot.line(style=\":\")\n",
        "y_train_.plot.line()"
      ],
      "metadata": {
        "colab": {
          "base_uri": "https://localhost:8080/",
          "height": 296
        },
        "id": "634MIMQtU-yq",
        "outputId": "ee2c433c-2232-4f84-a4cd-cc9d6a84cc1a"
      },
      "execution_count": null,
      "outputs": [
        {
          "output_type": "execute_result",
          "data": {
            "text/plain": [
              "<matplotlib.axes._subplots.AxesSubplot at 0x7fa9492d5f10>"
            ]
          },
          "metadata": {},
          "execution_count": 46
        },
        {
          "output_type": "display_data",
          "data": {
            "text/plain": [
              "<Figure size 432x288 with 1 Axes>"
            ],
            "image/png": "[encoded data removed]"
          },
          "metadata": {
            "needs_background": "light"
          }
        }
      ]
    },
    {
      "cell_type": "code",
      "source": [
        "pipeline.predict([[2030]])"
      ],
      "metadata": {
        "colab": {
          "base_uri": "https://localhost:8080/"
        },
        "id": "WZ2OP2d9VCUa",
        "outputId": "7b447d4a-cae1-487f-f399-879a38345c75"
      },
      "execution_count": null,
      "outputs": [
        {
          "output_type": "stream",
          "name": "stderr",
          "text": [
            "/usr/local/lib/python3.8/dist-packages/sklearn/base.py:450: UserWarning: X does not have valid feature names, but PolynomialFeatures was fitted with feature names\n",
            "  warnings.warn(\n"
          ]
        },
        {
          "output_type": "execute_result",
          "data": {
            "text/plain": [
              "array([1.41544731])"
            ]
          },
          "metadata": {},
          "execution_count": 47
        }
      ]
    },
    {
      "cell_type": "markdown",
      "source": [
        "#12.2 Dot Maps"
      ],
      "metadata": {
        "id": "SozQP4XRV0fY"
      }
    },
    {
      "cell_type": "markdown",
      "source": [
        "We can use dot maps to better visualize our geographical data - the number of arrivals in each country. "
      ],
      "metadata": {
        "id": "xt6vGVZHwfJR"
      }
    },
    {
      "cell_type": "code",
      "source": [
        "df_covid = pd.read_csv(\"https://raw.githubusercontent.com/CSSEGISandData/COVID-19/master/csse_covid_19_data/csse_covid_19_time_series/time_series_covid19_confirmed_global.csv\")\n",
        "df_covid = df_covid[[\"Country/Region\", \"Lat\", \"Long\"]]\n",
        "df_covid = df_covid.rename(columns={\"Country/Region\": \"Country Name\"})\n",
        "df_covid"
      ],
      "metadata": {
        "colab": {
          "base_uri": "https://localhost:8080/",
          "height": 424
        },
        "id": "KmpoYMphV0Av",
        "outputId": "f666606c-c4a3-4632-afbe-310d0c240175"
      },
      "execution_count": null,
      "outputs": [
        {
          "output_type": "execute_result",
          "data": {
            "text/plain": [
              "             Country Name        Lat        Long\n",
              "0             Afghanistan  33.939110   67.709953\n",
              "1                 Albania  41.153300   20.168300\n",
              "2                 Algeria  28.033900    1.659600\n",
              "3                 Andorra  42.506300    1.521800\n",
              "4                  Angola -11.202700   17.873900\n",
              "..                    ...        ...         ...\n",
              "284    West Bank and Gaza  31.952200   35.233200\n",
              "285  Winter Olympics 2022  39.904200  116.407400\n",
              "286                 Yemen  15.552727   48.516388\n",
              "287                Zambia -13.133897   27.849332\n",
              "288              Zimbabwe -19.015438   29.154857\n",
              "\n",
              "[289 rows x 3 columns]"
            ],
            "text/html": [
              "\n",
              "  <div id=\"df-9955eaad-6833-4095-aa34-008924c1bf98\">\n",
              "    <div class=\"colab-df-container\">\n",
              "      <div>\n",
              "<style scoped>\n",
              "    .dataframe tbody tr th:only-of-type {\n",
              "        vertical-align: middle;\n",
              "    }\n",
              "\n",
              "    .dataframe tbody tr th {\n",
              "        vertical-align: top;\n",
              "    }\n",
              "\n",
              "    .dataframe thead th {\n",
              "        text-align: right;\n",
              "    }\n",
              "</style>\n",
              "<table border=\"1\" class=\"dataframe\">\n",
              "  <thead>\n",
              "    <tr style=\"text-align: right;\">\n",
              "      <th></th>\n",
              "      <th>Country Name</th>\n",
              "      <th>Lat</th>\n",
              "      <th>Long</th>\n",
              "    </tr>\n",
              "  </thead>\n",
              "  <tbody>\n",
              "    <tr>\n",
              "      <th>0</th>\n",
              "      <td>Afghanistan</td>\n",
              "      <td>33.939110</td>\n",
              "      <td>67.709953</td>\n",
              "    </tr>\n",
              "    <tr>\n",
              "      <th>1</th>\n",
              "      <td>Albania</td>\n",
              "      <td>41.153300</td>\n",
              "      <td>20.168300</td>\n",
              "    </tr>\n",
              "    <tr>\n",
              "      <th>2</th>\n",
              "      <td>Algeria</td>\n",
              "      <td>28.033900</td>\n",
              "      <td>1.659600</td>\n",
              "    </tr>\n",
              "    <tr>\n",
              "      <th>3</th>\n",
              "      <td>Andorra</td>\n",
              "      <td>42.506300</td>\n",
              "      <td>1.521800</td>\n",
              "    </tr>\n",
              "    <tr>\n",
              "      <th>4</th>\n",
              "      <td>Angola</td>\n",
              "      <td>-11.202700</td>\n",
              "      <td>17.873900</td>\n",
              "    </tr>\n",
              "    <tr>\n",
              "      <th>...</th>\n",
              "      <td>...</td>\n",
              "      <td>...</td>\n",
              "      <td>...</td>\n",
              "    </tr>\n",
              "    <tr>\n",
              "      <th>284</th>\n",
              "      <td>West Bank and Gaza</td>\n",
              "      <td>31.952200</td>\n",
              "      <td>35.233200</td>\n",
              "    </tr>\n",
              "    <tr>\n",
              "      <th>285</th>\n",
              "      <td>Winter Olympics 2022</td>\n",
              "      <td>39.904200</td>\n",
              "      <td>116.407400</td>\n",
              "    </tr>\n",
              "    <tr>\n",
              "      <th>286</th>\n",
              "      <td>Yemen</td>\n",
              "      <td>15.552727</td>\n",
              "      <td>48.516388</td>\n",
              "    </tr>\n",
              "    <tr>\n",
              "      <th>287</th>\n",
              "      <td>Zambia</td>\n",
              "      <td>-13.133897</td>\n",
              "      <td>27.849332</td>\n",
              "    </tr>\n",
              "    <tr>\n",
              "      <th>288</th>\n",
              "      <td>Zimbabwe</td>\n",
              "      <td>-19.015438</td>\n",
              "      <td>29.154857</td>\n",
              "    </tr>\n",
              "  </tbody>\n",
              "</table>\n",
              "<p>289 rows × 3 columns</p>\n",
              "</div>\n",
              "      <button class=\"colab-df-convert\" onclick=\"convertToInteractive('df-9955eaad-6833-4095-aa34-008924c1bf98')\"\n",
              "              title=\"Convert this dataframe to an interactive table.\"\n",
              "              style=\"display:none;\">\n",
              "        \n",
              "  <svg xmlns=\"http://www.w3.org/2000/svg\" height=\"24px\"viewBox=\"0 0 24 24\"\n",
              "       width=\"24px\">\n",
              "    <path d=\"M0 0h24v24H0V0z\" fill=\"none\"/>\n",
              "    <path d=\"M18.56 5.44l.94 2.06.94-2.06 2.06-.94-2.06-.94-.94-2.06-.94 2.06-2.06.94zm-11 1L8.5 8.5l.94-2.06 2.06-.94-2.06-.94L8.5 2.5l-.94 2.06-2.06.94zm10 10l.94 2.06.94-2.06 2.06-.94-2.06-.94-.94-2.06-.94 2.06-2.06.94z\"/><path d=\"M17.41 7.96l-1.37-1.37c-.4-.4-.92-.59-1.43-.59-.52 0-1.04.2-1.43.59L10.3 9.45l-7.72 7.72c-.78.78-.78 2.05 0 2.83L4 21.41c.39.39.9.59 1.41.59.51 0 1.02-.2 1.41-.59l7.78-7.78 2.81-2.81c.8-.78.8-2.07 0-2.86zM5.41 20L4 18.59l7.72-7.72 1.47 1.35L5.41 20z\"/>\n",
              "  </svg>\n",
              "      </button>\n",
              "      \n",
              "  <style>\n",
              "    .colab-df-container {\n",
              "      display:flex;\n",
              "      flex-wrap:wrap;\n",
              "      gap: 12px;\n",
              "    }\n",
              "\n",
              "    .colab-df-convert {\n",
              "      background-color: #E8F0FE;\n",
              "      border: none;\n",
              "      border-radius: 50%;\n",
              "      cursor: pointer;\n",
              "      display: none;\n",
              "      fill: #1967D2;\n",
              "      height: 32px;\n",
              "      padding: 0 0 0 0;\n",
              "      width: 32px;\n",
              "    }\n",
              "\n",
              "    .colab-df-convert:hover {\n",
              "      background-color: #E2EBFA;\n",
              "      box-shadow: 0px 1px 2px rgba(60, 64, 67, 0.3), 0px 1px 3px 1px rgba(60, 64, 67, 0.15);\n",
              "      fill: #174EA6;\n",
              "    }\n",
              "\n",
              "    [theme=dark] .colab-df-convert {\n",
              "      background-color: #3B4455;\n",
              "      fill: #D2E3FC;\n",
              "    }\n",
              "\n",
              "    [theme=dark] .colab-df-convert:hover {\n",
              "      background-color: #434B5C;\n",
              "      box-shadow: 0px 1px 3px 1px rgba(0, 0, 0, 0.15);\n",
              "      filter: drop-shadow(0px 1px 2px rgba(0, 0, 0, 0.3));\n",
              "      fill: #FFFFFF;\n",
              "    }\n",
              "  </style>\n",
              "\n",
              "      <script>\n",
              "        const buttonEl =\n",
              "          document.querySelector('#df-9955eaad-6833-4095-aa34-008924c1bf98 button.colab-df-convert');\n",
              "        buttonEl.style.display =\n",
              "          google.colab.kernel.accessAllowed ? 'block' : 'none';\n",
              "\n",
              "        async function convertToInteractive(key) {\n",
              "          const element = document.querySelector('#df-9955eaad-6833-4095-aa34-008924c1bf98');\n",
              "          const dataTable =\n",
              "            await google.colab.kernel.invokeFunction('convertToInteractive',\n",
              "                                                     [key], {});\n",
              "          if (!dataTable) return;\n",
              "\n",
              "          const docLinkHtml = 'Like what you see? Visit the ' +\n",
              "            '<a target=\"_blank\" href=https://colab.research.google.com/notebooks/data_table.ipynb>data table notebook</a>'\n",
              "            + ' to learn more about interactive tables.';\n",
              "          element.innerHTML = '';\n",
              "          dataTable['output_type'] = 'display_data';\n",
              "          await google.colab.output.renderOutput(dataTable, element);\n",
              "          const docLink = document.createElement('div');\n",
              "          docLink.innerHTML = docLinkHtml;\n",
              "          element.appendChild(docLink);\n",
              "        }\n",
              "      </script>\n",
              "    </div>\n",
              "  </div>\n",
              "  "
            ]
          },
          "metadata": {},
          "execution_count": 48
        }
      ]
    },
    {
      "cell_type": "code",
      "source": [
        "df_dot_map = df_international_tourism\n",
        "df_dot_map = df_dot_map.merge(df_covid, on=\"Country Name\", how=\"left\")\n",
        "df_dot_map"
      ],
      "metadata": {
        "colab": {
          "base_uri": "https://localhost:8080/",
          "height": 644
        },
        "id": "sxBwWlwGV7UX",
        "outputId": "5bcb4386-670c-4601-b687-f92f44143817"
      },
      "execution_count": null,
      "outputs": [
        {
          "output_type": "execute_result",
          "data": {
            "text/plain": [
              "              Country Name  year     total_gdp  population  income_per_person  \\\n",
              "0              Afghanistan  1995           NaN  18900000.0              698.0   \n",
              "1                   Angola  1995  3.400000e+10  14400000.0             1780.0   \n",
              "2                  Albania  1995  5.180000e+09   3100000.0             4910.0   \n",
              "3                  Andorra  1995  1.850000e+09     64400.0            30800.0   \n",
              "4     United Arab Emirates  1995  1.540000e+11   2540000.0            58600.0   \n",
              "...                    ...   ...           ...         ...                ...   \n",
              "6044               Vanuatu  2017  8.370000e+08    293000.0             3090.0   \n",
              "6045                 Samoa  2017  8.500000e+08    196000.0             6390.0   \n",
              "6046          South Africa  2017  3.580000e+11  57800000.0            13900.0   \n",
              "6047                Zambia  2017  2.370000e+10  17400000.0             3520.0   \n",
              "6048              Zimbabwe  2017  2.210000e+10  14400000.0             3920.0   \n",
              "\n",
              "      co2_emissions  receipts_percent_total_exports  receipts_travel_items  \\\n",
              "0            0.0619                             NaN                    NaN   \n",
              "1            0.7250                        0.703903           1.000000e+07   \n",
              "2            0.6510                       23.049062           6.500000e+07   \n",
              "3            7.0600                             NaN                    NaN   \n",
              "4           28.7000                             NaN                    NaN   \n",
              "...             ...                             ...                    ...   \n",
              "6044         0.5290                       75.540795           2.650000e+08   \n",
              "6045         1.3200                       59.987355           1.660000e+08   \n",
              "6046         8.1000                        9.317282           8.817000e+09   \n",
              "6047         0.3020                             NaN           6.530000e+08   \n",
              "6048         0.8500                        3.405013           1.490000e+08   \n",
              "\n",
              "      receipts_passenger_transport_items  receipts_current_us  \\\n",
              "0                                    NaN                  NaN   \n",
              "1                             17000000.0         2.700000e+07   \n",
              "2                              5000000.0         7.000000e+07   \n",
              "3                                    NaN                  NaN   \n",
              "4                                    NaN         6.320000e+08   \n",
              "...                                  ...                  ...   \n",
              "6044                          24000000.0         2.890000e+08   \n",
              "6045                           1000000.0         1.670000e+08   \n",
              "6046                         889000000.0         9.706000e+09   \n",
              "6047                                 NaN                  NaN   \n",
              "6048                           9000000.0         1.580000e+08   \n",
              "\n",
              "      number_of_departures  number_of_arrivals  \\\n",
              "0                      NaN                 NaN   \n",
              "1             3.000000e+03            0.000040   \n",
              "2                      NaN            0.001463   \n",
              "3                      NaN                 NaN   \n",
              "4                      NaN                 NaN   \n",
              "...                    ...                 ...   \n",
              "6044          2.630000e+04            0.001602   \n",
              "6045          5.500000e+04            0.000759   \n",
              "6046                   NaN            0.072244   \n",
              "6047                   NaN            0.004865   \n",
              "6048          2.768000e+06            0.011687   \n",
              "\n",
              "      expenditures_passenger_transport_items  \\\n",
              "0                                        NaN   \n",
              "1                               3.800000e+07   \n",
              "2                               1.200000e+07   \n",
              "3                                        NaN   \n",
              "4                                        NaN   \n",
              "...                                      ...   \n",
              "6044                            3.000000e+06   \n",
              "6045                            7.000000e+05   \n",
              "6046                            2.810000e+09   \n",
              "6047                            1.870000e+08   \n",
              "6048                            2.200000e+07   \n",
              "\n",
              "      expenditures_percent_total_imports  expenditures_current_us continent  \\\n",
              "0                                    NaN                      NaN      Asia   \n",
              "1                               3.211077             1.130000e+08    Africa   \n",
              "2                               2.272184             1.900000e+07    Europe   \n",
              "3                                    NaN                      NaN    Europe   \n",
              "4                                    NaN                      NaN      Asia   \n",
              "...                                  ...                      ...       ...   \n",
              "6044                            4.033783             1.900000e+07   Oceania   \n",
              "6045                            0.950797             3.900000e+06   Oceania   \n",
              "6046                            6.078764             6.068000e+09    Africa   \n",
              "6047                            4.696653             4.100000e+08    Africa   \n",
              "6048                            5.416872             3.370000e+08    Africa   \n",
              "\n",
              "           sub_region        Lat        Long  \n",
              "0       Southern Asia  33.939110   67.709953  \n",
              "1       Middle Africa -11.202700   17.873900  \n",
              "2     Southern Europe  41.153300   20.168300  \n",
              "3     Southern Europe  42.506300    1.521800  \n",
              "4        Western Asia  23.424076   53.847818  \n",
              "...               ...        ...         ...  \n",
              "6044        Melanesia -15.376700  166.959200  \n",
              "6045        Polynesia -13.759000 -172.104600  \n",
              "6046  Southern Africa -30.559500   22.937500  \n",
              "6047   Eastern Africa -13.133897   27.849332  \n",
              "6048   Eastern Africa -19.015438   29.154857  \n",
              "\n",
              "[6049 rows x 19 columns]"
            ],
            "text/html": [
              "\n",
              "  <div id=\"df-5f22114f-1ea5-4675-a341-226fccfc9183\">\n",
              "    <div class=\"colab-df-container\">\n",
              "      <div>\n",
              "<style scoped>\n",
              "    .dataframe tbody tr th:only-of-type {\n",
              "        vertical-align: middle;\n",
              "    }\n",
              "\n",
              "    .dataframe tbody tr th {\n",
              "        vertical-align: top;\n",
              "    }\n",
              "\n",
              "    .dataframe thead th {\n",
              "        text-align: right;\n",
              "    }\n",
              "</style>\n",
              "<table border=\"1\" class=\"dataframe\">\n",
              "  <thead>\n",
              "    <tr style=\"text-align: right;\">\n",
              "      <th></th>\n",
              "      <th>Country Name</th>\n",
              "      <th>year</th>\n",
              "      <th>total_gdp</th>\n",
              "      <th>population</th>\n",
              "      <th>income_per_person</th>\n",
              "      <th>co2_emissions</th>\n",
              "      <th>receipts_percent_total_exports</th>\n",
              "      <th>receipts_travel_items</th>\n",
              "      <th>receipts_passenger_transport_items</th>\n",
              "      <th>receipts_current_us</th>\n",
              "      <th>number_of_departures</th>\n",
              "      <th>number_of_arrivals</th>\n",
              "      <th>expenditures_passenger_transport_items</th>\n",
              "      <th>expenditures_percent_total_imports</th>\n",
              "      <th>expenditures_current_us</th>\n",
              "      <th>continent</th>\n",
              "      <th>sub_region</th>\n",
              "      <th>Lat</th>\n",
              "      <th>Long</th>\n",
              "    </tr>\n",
              "  </thead>\n",
              "  <tbody>\n",
              "    <tr>\n",
              "      <th>0</th>\n",
              "      <td>Afghanistan</td>\n",
              "      <td>1995</td>\n",
              "      <td>NaN</td>\n",
              "      <td>18900000.0</td>\n",
              "      <td>698.0</td>\n",
              "      <td>0.0619</td>\n",
              "      <td>NaN</td>\n",
              "      <td>NaN</td>\n",
              "      <td>NaN</td>\n",
              "      <td>NaN</td>\n",
              "      <td>NaN</td>\n",
              "      <td>NaN</td>\n",
              "      <td>NaN</td>\n",
              "      <td>NaN</td>\n",
              "      <td>NaN</td>\n",
              "      <td>Asia</td>\n",
              "      <td>Southern Asia</td>\n",
              "      <td>33.939110</td>\n",
              "      <td>67.709953</td>\n",
              "    </tr>\n",
              "    <tr>\n",
              "      <th>1</th>\n",
              "      <td>Angola</td>\n",
              "      <td>1995</td>\n",
              "      <td>3.400000e+10</td>\n",
              "      <td>14400000.0</td>\n",
              "      <td>1780.0</td>\n",
              "      <td>0.7250</td>\n",
              "      <td>0.703903</td>\n",
              "      <td>1.000000e+07</td>\n",
              "      <td>17000000.0</td>\n",
              "      <td>2.700000e+07</td>\n",
              "      <td>3.000000e+03</td>\n",
              "      <td>0.000040</td>\n",
              "      <td>3.800000e+07</td>\n",
              "      <td>3.211077</td>\n",
              "      <td>1.130000e+08</td>\n",
              "      <td>Africa</td>\n",
              "      <td>Middle Africa</td>\n",
              "      <td>-11.202700</td>\n",
              "      <td>17.873900</td>\n",
              "    </tr>\n",
              "    <tr>\n",
              "      <th>2</th>\n",
              "      <td>Albania</td>\n",
              "      <td>1995</td>\n",
              "      <td>5.180000e+09</td>\n",
              "      <td>3100000.0</td>\n",
              "      <td>4910.0</td>\n",
              "      <td>0.6510</td>\n",
              "      <td>23.049062</td>\n",
              "      <td>6.500000e+07</td>\n",
              "      <td>5000000.0</td>\n",
              "      <td>7.000000e+07</td>\n",
              "      <td>NaN</td>\n",
              "      <td>0.001463</td>\n",
              "      <td>1.200000e+07</td>\n",
              "      <td>2.272184</td>\n",
              "      <td>1.900000e+07</td>\n",
              "      <td>Europe</td>\n",
              "      <td>Southern Europe</td>\n",
              "      <td>41.153300</td>\n",
              "      <td>20.168300</td>\n",
              "    </tr>\n",
              "    <tr>\n",
              "      <th>3</th>\n",
              "      <td>Andorra</td>\n",
              "      <td>1995</td>\n",
              "      <td>1.850000e+09</td>\n",
              "      <td>64400.0</td>\n",
              "      <td>30800.0</td>\n",
              "      <td>7.0600</td>\n",
              "      <td>NaN</td>\n",
              "      <td>NaN</td>\n",
              "      <td>NaN</td>\n",
              "      <td>NaN</td>\n",
              "      <td>NaN</td>\n",
              "      <td>NaN</td>\n",
              "      <td>NaN</td>\n",
              "      <td>NaN</td>\n",
              "      <td>NaN</td>\n",
              "      <td>Europe</td>\n",
              "      <td>Southern Europe</td>\n",
              "      <td>42.506300</td>\n",
              "      <td>1.521800</td>\n",
              "    </tr>\n",
              "    <tr>\n",
              "      <th>4</th>\n",
              "      <td>United Arab Emirates</td>\n",
              "      <td>1995</td>\n",
              "      <td>1.540000e+11</td>\n",
              "      <td>2540000.0</td>\n",
              "      <td>58600.0</td>\n",
              "      <td>28.7000</td>\n",
              "      <td>NaN</td>\n",
              "      <td>NaN</td>\n",
              "      <td>NaN</td>\n",
              "      <td>6.320000e+08</td>\n",
              "      <td>NaN</td>\n",
              "      <td>NaN</td>\n",
              "      <td>NaN</td>\n",
              "      <td>NaN</td>\n",
              "      <td>NaN</td>\n",
              "      <td>Asia</td>\n",
              "      <td>Western Asia</td>\n",
              "      <td>23.424076</td>\n",
              "      <td>53.847818</td>\n",
              "    </tr>\n",
              "    <tr>\n",
              "      <th>...</th>\n",
              "      <td>...</td>\n",
              "      <td>...</td>\n",
              "      <td>...</td>\n",
              "      <td>...</td>\n",
              "      <td>...</td>\n",
              "      <td>...</td>\n",
              "      <td>...</td>\n",
              "      <td>...</td>\n",
              "      <td>...</td>\n",
              "      <td>...</td>\n",
              "      <td>...</td>\n",
              "      <td>...</td>\n",
              "      <td>...</td>\n",
              "      <td>...</td>\n",
              "      <td>...</td>\n",
              "      <td>...</td>\n",
              "      <td>...</td>\n",
              "      <td>...</td>\n",
              "      <td>...</td>\n",
              "    </tr>\n",
              "    <tr>\n",
              "      <th>6044</th>\n",
              "      <td>Vanuatu</td>\n",
              "      <td>2017</td>\n",
              "      <td>8.370000e+08</td>\n",
              "      <td>293000.0</td>\n",
              "      <td>3090.0</td>\n",
              "      <td>0.5290</td>\n",
              "      <td>75.540795</td>\n",
              "      <td>2.650000e+08</td>\n",
              "      <td>24000000.0</td>\n",
              "      <td>2.890000e+08</td>\n",
              "      <td>2.630000e+04</td>\n",
              "      <td>0.001602</td>\n",
              "      <td>3.000000e+06</td>\n",
              "      <td>4.033783</td>\n",
              "      <td>1.900000e+07</td>\n",
              "      <td>Oceania</td>\n",
              "      <td>Melanesia</td>\n",
              "      <td>-15.376700</td>\n",
              "      <td>166.959200</td>\n",
              "    </tr>\n",
              "    <tr>\n",
              "      <th>6045</th>\n",
              "      <td>Samoa</td>\n",
              "      <td>2017</td>\n",
              "      <td>8.500000e+08</td>\n",
              "      <td>196000.0</td>\n",
              "      <td>6390.0</td>\n",
              "      <td>1.3200</td>\n",
              "      <td>59.987355</td>\n",
              "      <td>1.660000e+08</td>\n",
              "      <td>1000000.0</td>\n",
              "      <td>1.670000e+08</td>\n",
              "      <td>5.500000e+04</td>\n",
              "      <td>0.000759</td>\n",
              "      <td>7.000000e+05</td>\n",
              "      <td>0.950797</td>\n",
              "      <td>3.900000e+06</td>\n",
              "      <td>Oceania</td>\n",
              "      <td>Polynesia</td>\n",
              "      <td>-13.759000</td>\n",
              "      <td>-172.104600</td>\n",
              "    </tr>\n",
              "    <tr>\n",
              "      <th>6046</th>\n",
              "      <td>South Africa</td>\n",
              "      <td>2017</td>\n",
              "      <td>3.580000e+11</td>\n",
              "      <td>57800000.0</td>\n",
              "      <td>13900.0</td>\n",
              "      <td>8.1000</td>\n",
              "      <td>9.317282</td>\n",
              "      <td>8.817000e+09</td>\n",
              "      <td>889000000.0</td>\n",
              "      <td>9.706000e+09</td>\n",
              "      <td>NaN</td>\n",
              "      <td>0.072244</td>\n",
              "      <td>2.810000e+09</td>\n",
              "      <td>6.078764</td>\n",
              "      <td>6.068000e+09</td>\n",
              "      <td>Africa</td>\n",
              "      <td>Southern Africa</td>\n",
              "      <td>-30.559500</td>\n",
              "      <td>22.937500</td>\n",
              "    </tr>\n",
              "    <tr>\n",
              "      <th>6047</th>\n",
              "      <td>Zambia</td>\n",
              "      <td>2017</td>\n",
              "      <td>2.370000e+10</td>\n",
              "      <td>17400000.0</td>\n",
              "      <td>3520.0</td>\n",
              "      <td>0.3020</td>\n",
              "      <td>NaN</td>\n",
              "      <td>6.530000e+08</td>\n",
              "      <td>NaN</td>\n",
              "      <td>NaN</td>\n",
              "      <td>NaN</td>\n",
              "      <td>0.004865</td>\n",
              "      <td>1.870000e+08</td>\n",
              "      <td>4.696653</td>\n",
              "      <td>4.100000e+08</td>\n",
              "      <td>Africa</td>\n",
              "      <td>Eastern Africa</td>\n",
              "      <td>-13.133897</td>\n",
              "      <td>27.849332</td>\n",
              "    </tr>\n",
              "    <tr>\n",
              "      <th>6048</th>\n",
              "      <td>Zimbabwe</td>\n",
              "      <td>2017</td>\n",
              "      <td>2.210000e+10</td>\n",
              "      <td>14400000.0</td>\n",
              "      <td>3920.0</td>\n",
              "      <td>0.8500</td>\n",
              "      <td>3.405013</td>\n",
              "      <td>1.490000e+08</td>\n",
              "      <td>9000000.0</td>\n",
              "      <td>1.580000e+08</td>\n",
              "      <td>2.768000e+06</td>\n",
              "      <td>0.011687</td>\n",
              "      <td>2.200000e+07</td>\n",
              "      <td>5.416872</td>\n",
              "      <td>3.370000e+08</td>\n",
              "      <td>Africa</td>\n",
              "      <td>Eastern Africa</td>\n",
              "      <td>-19.015438</td>\n",
              "      <td>29.154857</td>\n",
              "    </tr>\n",
              "  </tbody>\n",
              "</table>\n",
              "<p>6049 rows × 19 columns</p>\n",
              "</div>\n",
              "      <button class=\"colab-df-convert\" onclick=\"convertToInteractive('df-5f22114f-1ea5-4675-a341-226fccfc9183')\"\n",
              "              title=\"Convert this dataframe to an interactive table.\"\n",
              "              style=\"display:none;\">\n",
              "        \n",
              "  <svg xmlns=\"http://www.w3.org/2000/svg\" height=\"24px\"viewBox=\"0 0 24 24\"\n",
              "       width=\"24px\">\n",
              "    <path d=\"M0 0h24v24H0V0z\" fill=\"none\"/>\n",
              "    <path d=\"M18.56 5.44l.94 2.06.94-2.06 2.06-.94-2.06-.94-.94-2.06-.94 2.06-2.06.94zm-11 1L8.5 8.5l.94-2.06 2.06-.94-2.06-.94L8.5 2.5l-.94 2.06-2.06.94zm10 10l.94 2.06.94-2.06 2.06-.94-2.06-.94-.94-2.06-.94 2.06-2.06.94z\"/><path d=\"M17.41 7.96l-1.37-1.37c-.4-.4-.92-.59-1.43-.59-.52 0-1.04.2-1.43.59L10.3 9.45l-7.72 7.72c-.78.78-.78 2.05 0 2.83L4 21.41c.39.39.9.59 1.41.59.51 0 1.02-.2 1.41-.59l7.78-7.78 2.81-2.81c.8-.78.8-2.07 0-2.86zM5.41 20L4 18.59l7.72-7.72 1.47 1.35L5.41 20z\"/>\n",
              "  </svg>\n",
              "      </button>\n",
              "      \n",
              "  <style>\n",
              "    .colab-df-container {\n",
              "      display:flex;\n",
              "      flex-wrap:wrap;\n",
              "      gap: 12px;\n",
              "    }\n",
              "\n",
              "    .colab-df-convert {\n",
              "      background-color: #E8F0FE;\n",
              "      border: none;\n",
              "      border-radius: 50%;\n",
              "      cursor: pointer;\n",
              "      display: none;\n",
              "      fill: #1967D2;\n",
              "      height: 32px;\n",
              "      padding: 0 0 0 0;\n",
              "      width: 32px;\n",
              "    }\n",
              "\n",
              "    .colab-df-convert:hover {\n",
              "      background-color: #E2EBFA;\n",
              "      box-shadow: 0px 1px 2px rgba(60, 64, 67, 0.3), 0px 1px 3px 1px rgba(60, 64, 67, 0.15);\n",
              "      fill: #174EA6;\n",
              "    }\n",
              "\n",
              "    [theme=dark] .colab-df-convert {\n",
              "      background-color: #3B4455;\n",
              "      fill: #D2E3FC;\n",
              "    }\n",
              "\n",
              "    [theme=dark] .colab-df-convert:hover {\n",
              "      background-color: #434B5C;\n",
              "      box-shadow: 0px 1px 3px 1px rgba(0, 0, 0, 0.15);\n",
              "      filter: drop-shadow(0px 1px 2px rgba(0, 0, 0, 0.3));\n",
              "      fill: #FFFFFF;\n",
              "    }\n",
              "  </style>\n",
              "\n",
              "      <script>\n",
              "        const buttonEl =\n",
              "          document.querySelector('#df-5f22114f-1ea5-4675-a341-226fccfc9183 button.colab-df-convert');\n",
              "        buttonEl.style.display =\n",
              "          google.colab.kernel.accessAllowed ? 'block' : 'none';\n",
              "\n",
              "        async function convertToInteractive(key) {\n",
              "          const element = document.querySelector('#df-5f22114f-1ea5-4675-a341-226fccfc9183');\n",
              "          const dataTable =\n",
              "            await google.colab.kernel.invokeFunction('convertToInteractive',\n",
              "                                                     [key], {});\n",
              "          if (!dataTable) return;\n",
              "\n",
              "          const docLinkHtml = 'Like what you see? Visit the ' +\n",
              "            '<a target=\"_blank\" href=https://colab.research.google.com/notebooks/data_table.ipynb>data table notebook</a>'\n",
              "            + ' to learn more about interactive tables.';\n",
              "          element.innerHTML = '';\n",
              "          dataTable['output_type'] = 'display_data';\n",
              "          await google.colab.output.renderOutput(dataTable, element);\n",
              "          const docLink = document.createElement('div');\n",
              "          docLink.innerHTML = docLinkHtml;\n",
              "          element.appendChild(docLink);\n",
              "        }\n",
              "      </script>\n",
              "    </div>\n",
              "  </div>\n",
              "  "
            ]
          },
          "metadata": {},
          "execution_count": 49
        }
      ]
    },
    {
      "cell_type": "code",
      "source": [
        "df_dot_map = df_dot_map[df_dot_map[\"number_of_arrivals\"].notna()]\n",
        "df_dot_map = df_dot_map[df_dot_map[\"year\"] == 2017]\n",
        "\n",
        "px.scatter_geo(df_dot_map, lat = \"Lat\", lon = \"Long\",\n",
        "               hover_name = \"Country Name\",\n",
        "               size = df_dot_map[\"number_of_arrivals\"])"
      ],
      "metadata": {
        "colab": {
          "base_uri": "https://localhost:8080/",
          "height": 542
        },
        "id": "eM4Fu2qCXFR3",
        "outputId": "a36487bd-f2d0-456a-8561-ca9cb45e7697"
      },
      "execution_count": null,
      "outputs": [
        {
          "output_type": "display_data",
          "data": {
            "text/html": [
              "<html>\n",
              "<head><meta charset=\"utf-8\" /></head>\n",
              "<body>\n",
              "    <div>            <script src=\"https://cdnjs.cloudflare.com/ajax/libs/mathjax/2.7.5/MathJax.js?config=TeX-AMS-MML_SVG\"></script><script type=\"text/javascript\">if (window.MathJax) {MathJax.Hub.Config({SVG: {font: \"STIX-Web\"}});}</script>                <script type=\"text/javascript\">window.PlotlyConfig = {MathJaxConfig: 'local'};</script>\n",
              "        <script src=\"https://cdn.plot.ly/plotly-2.8.3.min.js\"></script>                <div id=\"d7da7a78-9f62-4de3-9713-9268f4131d3f\" class=\"plotly-graph-div\" style=\"height:525px; width:100%;\"></div>            <script type=\"text/javascript\">                                    window.PLOTLYENV=window.PLOTLYENV || {};                                    if (document.getElementById(\"d7da7a78-9f62-4de3-9713-9268f4131d3f\")) {                    Plotly.newPlot(                        \"d7da7a78-9f62-4de3-9713-9268f4131d3f\",                        [{\"geo\":\"geo\",\"hovertemplate\":\"<b>%{hovertext}</b><br><br>number_of_arrivals=%{marker.size}<br>Lat=%{lat}<br>Long=%{lon}<extra></extra>\",\"hovertext\":[\"Angola\",\"Albania\",\"Andorra\",\"United Arab Emirates\",\"Argentina\",\"Armenia\",\"Antigua and Barbuda\",\"Australia\",\"Australia\",\"Australia\",\"Australia\",\"Australia\",\"Australia\",\"Australia\",\"Australia\",\"Austria\",\"Azerbaijan\",\"Burundi\",\"Belgium\",\"Benin\",\"Burkina Faso\",\"Bangladesh\",\"Bulgaria\",\"Bahrain\",\"Bosnia and Herzegovina\",\"Belarus\",\"Belize\",\"Bolivia\",\"Brazil\",\"Barbados\",\"Bhutan\",\"Botswana\",\"Central African Republic\",\"Canada\",\"Canada\",\"Canada\",\"Canada\",\"Canada\",\"Canada\",\"Canada\",\"Canada\",\"Canada\",\"Canada\",\"Canada\",\"Canada\",\"Canada\",\"Canada\",\"Canada\",\"Canada\",\"Switzerland\",\"Chile\",\"China\",\"China\",\"China\",\"China\",\"China\",\"China\",\"China\",\"China\",\"China\",\"China\",\"China\",\"China\",\"China\",\"China\",\"China\",\"China\",\"China\",\"China\",\"China\",\"China\",\"China\",\"China\",\"China\",\"China\",\"China\",\"China\",\"China\",\"China\",\"China\",\"China\",\"China\",\"China\",\"China\",\"China\",\"Cote d'Ivoire\",\"Cameroon\",\"Congo, Rep.\",\"Colombia\",\"Comoros\",\"Costa Rica\",\"Cuba\",\"Cyprus\",\"Germany\",\"Dominica\",\"Denmark\",\"Denmark\",\"Denmark\",\"Dominican Republic\",\"Algeria\",\"Ecuador\",\"Spain\",\"Estonia\",\"Ethiopia\",\"Finland\",\"Fiji\",\"France\",\"France\",\"France\",\"France\",\"France\",\"France\",\"France\",\"France\",\"France\",\"France\",\"France\",\"France\",\"United Kingdom\",\"United Kingdom\",\"United Kingdom\",\"United Kingdom\",\"United Kingdom\",\"United Kingdom\",\"United Kingdom\",\"United Kingdom\",\"United Kingdom\",\"United Kingdom\",\"United Kingdom\",\"United Kingdom\",\"United Kingdom\",\"United Kingdom\",\"United Kingdom\",\"Georgia\",\"Guinea\",\"Guinea-Bissau\",\"Greece\",\"Grenada\",\"Guatemala\",\"Guyana\",\"Honduras\",\"Croatia\",\"Haiti\",\"Hungary\",\"Indonesia\",\"India\",\"Ireland\",\"Iceland\",\"Israel\",\"Italy\",\"Jamaica\",\"Jordan\",\"Japan\",\"Kazakhstan\",\"Kenya\",\"Kyrgyz Republic\",\"Cambodia\",\"Kiribati\",\"St. Kitts and Nevis\",\"Kuwait\",\"Lebanon\",\"St. Lucia\",\"Sri Lanka\",\"Lesotho\",\"Lithuania\",\"Luxembourg\",\"Latvia\",\"Morocco\",\"Moldova\",\"Madagascar\",\"Maldives\",\"Mexico\",\"Marshall Islands\",\"North Macedonia\",\"Mali\",\"Malta\",\"Myanmar\",\"Montenegro\",\"Mongolia\",\"Mozambique\",\"Mauritius\",\"Malawi\",\"Malaysia\",\"Namibia\",\"Niger\",\"Nicaragua\",\"Netherlands\",\"Netherlands\",\"Netherlands\",\"Netherlands\",\"Netherlands\",\"Norway\",\"Nepal\",\"New Zealand\",\"New Zealand\",\"New Zealand\",\"Oman\",\"Panama\",\"Peru\",\"Philippines\",\"Palau\",\"Papua New Guinea\",\"Poland\",\"Portugal\",\"Paraguay\",\"Qatar\",\"Romania\",\"Rwanda\",\"Saudi Arabia\",\"Sudan\",\"Senegal\",\"Singapore\",\"Solomon Islands\",\"Sierra Leone\",\"El Salvador\",\"Serbia\",\"Sao Tome and Principe\",\"Suriname\",\"Slovak Republic\",\"Slovenia\",\"Sweden\",\"Eswatini\",\"Seychelles\",\"Chad\",\"Togo\",\"Thailand\",\"Tajikistan\",\"Timor-Leste\",\"Tonga\",\"Trinidad and Tobago\",\"Tunisia\",\"Tuvalu\",\"Tanzania\",\"Uganda\",\"Ukraine\",\"Uruguay\",\"United States\",\"Uzbekistan\",\"St. Vincent and the Grenadines\",\"Vietnam\",\"Vanuatu\",\"Samoa\",\"South Africa\",\"Zambia\",\"Zimbabwe\"],\"lat\":[-11.2027,41.1533,42.5063,23.424076,-38.4161,40.0691,17.0608,-35.4735,-33.8688,-12.4634,-27.4698,-34.9285,-42.8821,-37.8136,-31.9505,47.5162,40.1431,-3.3731,50.8333,9.3077,12.2383,23.685,42.7339,26.0275,43.9159,53.7098,17.1899,-16.2902,-14.235,13.1939,27.5142,-22.3285,6.6111,53.9333,53.7267,0.0,0.0,53.7609,46.5653,53.1355,64.8255,44.682,70.2998,51.2538,46.5107,52.9399,null,52.9399,64.2823,46.8182,-35.6751,31.8257,40.1824,30.0572,26.0789,35.7518,23.3417,23.8298,26.8154,19.1959,39.549,47.862,37.8957,22.3,30.9756,27.6104,44.0935,32.9711,27.614,43.6661,41.2956,22.1667,37.2692,35.7452,35.1917,36.3427,31.202,37.5777,30.6171,39.3054,31.6927,null,41.1129,24.974,29.1832,7.54,3.848,null,4.5709,-11.6455,9.7489,21.521757,35.1264,51.165691,15.415,61.8926,71.7069,56.2639,18.7357,28.0339,-1.8312,40.463667,58.5953,9.145,61.92411,-17.7134,3.9339,-17.6797,16.265,14.6415,-12.8275,-20.904305,-21.1151,17.9,46.8852,18.0708,-14.2938,46.2276,18.2206,32.3078,18.4207,19.3133,49.3723,-51.7963,36.1408,49.448196,54.2361,49.2138,16.742498,-24.3768,-7.9467,21.694,55.3781,42.3154,9.9456,11.8037,39.0742,12.1165,15.7835,4.860416,15.2,45.1,18.9712,47.1625,-0.7893,20.593684,53.1424,64.9631,31.046051,41.87194,18.1096,31.24,36.204824,48.0196,-0.0236,null,11.55,-3.3704,null,29.31166,33.8547,null,7.873054,-29.61,55.1694,49.8153,56.8796,31.7917,47.4116,-18.766947,3.2028,23.6345,7.1315,41.6086,17.570692,35.9375,null,42.708678,46.8625,-18.665695,-20.348404,-13.2543,4.210484,-22.9576,17.607789,12.865416,12.5211,12.1784,12.1696,18.0425,52.1326,60.472,28.1667,-21.2367,-19.0544,-40.9006,21.512583,8.538,-9.19,12.879721,7.515,-6.314993,51.9194,39.3999,-23.4425,25.3548,45.9432,-1.9403,23.885942,12.8628,14.4974,1.2833,-9.6457,8.460555,13.7942,44.0165,0.1864,3.9193,null,46.1512,60.128161,-26.5225,-4.6796,15.4542,8.6195,15.870032,38.861,-8.874217,-21.179,10.6918,33.886917,-7.1095,-6.369028,1.373333,48.3794,-32.5228,null,41.377491,null,14.058324,-15.3767,-13.759,-30.5595,-13.133897,-19.015438],\"legendgroup\":\"\",\"lon\":[17.8739,20.1683,1.5218,53.847818,-63.6167,45.0382,-61.7964,149.0124,151.2093,130.8456,153.0251,138.6007,147.3272,144.9631,115.8605,14.5501,47.5769,29.9189,4.469936,2.3158,-1.5616,90.3563,25.4858,50.55,17.6791,27.9534,-88.4976,-63.5887,-51.9253,-59.5432,90.4336,24.6849,20.9394,-116.5765,-127.6476,0.0,0.0,-98.8139,-66.4619,-57.6604,-124.8457,-63.7443,-83.1076,-85.3232,-63.4168,-73.5491,null,-106.4509,-135.0,8.2275,-71.543,117.2264,116.4142,107.874,117.9874,104.2861,113.4244,108.7881,106.8748,109.7453,116.1306,127.7615,114.9042,114.2,112.2707,111.7088,113.9448,119.455,115.7221,126.1923,122.6085,113.55,106.1655,95.9956,108.8701,118.1498,121.4491,112.2922,102.7103,117.323,88.0924,null,85.2401,101.487,120.0934,-5.5471,11.5021,null,-74.2973,43.3333,-83.7534,-77.781167,33.4299,10.451526,-61.371,-6.9118,-42.6043,9.5018,-70.1627,1.6596,-78.1834,-3.74922,25.0136,40.4897,25.748151,178.065,-53.1258,149.4068,-61.551,-61.0242,45.166244,165.618042,55.5364,-62.8333,-56.3159,-63.0501,-178.1165,2.2137,-63.0686,-64.7505,-64.64,-81.2546,-2.3644,-59.5236,-5.3536,-2.58949,-4.5481,-2.1358,-62.187366,-128.3242,-14.3559,-71.7979,-3.436,43.3569,-9.6966,-15.1804,21.8243,-61.679,-90.2308,-58.93018,-86.2419,15.2,-72.2852,19.5033,113.9213,78.96288,-7.6921,-19.0208,34.851612,12.56738,-77.2975,36.51,138.252924,66.9237,37.9062,null,104.9167,-168.734,null,47.481766,35.8623,null,80.771797,28.2336,23.8813,6.1296,24.6032,-7.0926,28.3699,46.869107,73.2207,-102.5528,171.1845,21.7453,-3.996166,14.3754,null,19.37439,103.8467,35.529562,57.552152,34.3015,101.975766,18.4904,8.081666,-85.207229,-69.9683,-68.2385,-68.99,-63.0548,5.2913,8.4689,84.25,-159.7777,-169.8672,174.886,55.923255,-80.7821,-75.0152,121.774017,134.5825,143.95555,19.1451,-8.2245,-58.4438,51.1839,24.9668,29.8739,45.079162,30.2176,-14.4524,103.8333,160.1562,-11.779889,-88.8965,21.0059,6.6131,-56.0278,null,14.9955,18.643501,31.4659,55.492,18.7322,0.8248,100.992541,71.2761,125.727539,-175.1982,-61.2225,9.537499,177.6493,34.888822,32.290275,31.1656,-55.7658,null,64.585262,null,108.277199,166.9592,-172.1046,22.9375,27.849332,29.154857],\"marker\":{\"color\":\"#636efa\",\"size\":[0.001255829863334573,0.024688659851566153,0.03932633870359304,0.10519589353771405,0.032374164931091146,0.0072093221848247456,0.005014152811827963,0.04252501407567407,0.04252501407567407,0.04252501407567407,0.04252501407567407,0.04252501407567407,0.04252501407567407,0.04252501407567407,0.04252501407567407,0.1421278090328577,0.013008428967994265,0.001439162690090348,0.0404504584044903,0.0014777590746705112,0.0006865331907771659,0.0011400407095940833,0.0559420822653533,0.05487103259325377,0.004449680687343077,0.053356124498482364,0.006948796588908644,0.005347046628831871,0.03178557006624366,0.006485639973946685,0.0012268825748994506,0.008560195645130457,0.0005128494601664316,0.1499484014584133,0.1499484014584133,0.1499484014584133,0.1499484014584133,0.1499484014584133,0.1499484014584133,0.1499484014584133,0.1499484014584133,0.1499484014584133,0.1499484014584133,0.1499484014584133,0.1499484014584133,0.1499484014584133,0.1499484014584133,0.1499484014584133,0.1499484014584133,0.053708316507776355,0.03676450367708471,0.7394068604108831,0.7394068604108831,0.7394068604108831,0.7394068604108831,0.7394068604108831,0.7394068604108831,0.7394068604108831,0.7394068604108831,0.7394068604108831,0.7394068604108831,0.7394068604108831,0.7394068604108831,0.7394068604108831,0.7394068604108831,0.7394068604108831,0.7394068604108831,0.7394068604108831,0.7394068604108831,0.7394068604108831,0.7394068604108831,0.7394068604108831,0.7394068604108831,0.7394068604108831,0.7394068604108831,0.7394068604108831,0.7394068604108831,0.7394068604108831,0.7394068604108831,0.7394068604108831,0.7394068604108831,0.7394068604108831,0.7394068604108831,0.7394068604108831,0.7394068604108831,0.008680809346943468,0.0052119592828013,0.0007251295753573291,0.01956498979854949,0.00013171016243732,0.01558473763872016,0.022450069545916686,0.018088678088358245,0.18068559722844074,0.0011062688730864407,0.14828393237339374,0.14828393237339374,0.14828393237339374,0.03519652555351558,0.011821590142154248,0.00870975663537859,0.5872261405593722,0.029643470722044603,0.004497926168068281,0.01533868568702162,0.004951433686885199,1.0,1.0,1.0,1.0,1.0,1.0,1.0,1.0,1.0,1.0,1.0,1.0,0.19818905763554476,0.19818905763554476,0.19818905763554476,0.19818905763554476,0.19818905763554476,0.19818905763554476,0.19818905763554476,0.19818905763554476,0.19818905763554476,0.19818905763554476,0.19818905763554476,0.19818905763554476,0.19818905763554476,0.19818905763554476,0.19818905763554476,0.031274167970556495,0.00047425307558626837,0.00023543794599650857,0.1455098172316945,0.002254511314346296,0.010224664730149996,0.0011882861903192874,0.010340453883890485,0.2857932015363701,0.006085202483927492,0.2651634339782729,0.06773327775459316,0.07498457350759132,0.049872800790122636,0.011348784431047249,0.01863385202055305,0.4338730555262387,0.020626390374503978,0.02202068476746237,0.13841773156508952,0.037150467522886345,0.006987392973488807,0.022035158411679932,0.027023741118666025,3.280692695065181e-05,0.005757133214996105,0.03573205038956535,0.00895580858707713,0.005129941965568453,0.010842206883432607,0.005482133974862443,0.02696584654179578,0.005043100100263086,0.037271081224699354,0.055671907573292156,0.0006961822869222066,0.0013716190170750626,0.006702744637210103,0.47931064927323586,2.557010484187121e-05,0.003040912650167121,0.0009277605944031859,0.014200092341906804,0.016607541830094483,0.009052299548527539,0.0026163524197853256,0.007300988598202633,0.006611078223832216,0.004034769553106323,0.12518399620216608,0.0076242333190615,0.0007878487003000942,0.00944308794240169,0.08647182246826239,0.08647182246826239,0.08647182246826239,0.08647182246826239,0.08647182246826239,0.030159697365804285,0.004531698004575924,0.017958415290400195,0.017958415290400195,0.017958415290400195,0.015329036590876578,0.012140010314940594,0.024080766794428582,0.031939955604564314,0.0005900422293267579,0.0008746905656054615,0.40431304948590624,0.07444904867154155,0.022884278872443525,0.01088080326801277,0.05270963505676463,0.007571163290263775,0.08976698880179382,0.003918980399365833,0.006635200964194818,0.0840643729800747,0.00012061370555136136,0.0002812711526854524,0.010837382335360086,0.007218971280969786,0.00013605225386216944,0.0013426717286399402,0.07432361042165601,0.019251394173835663,0.034028984919965644,0.006475990877801645,0.0018396001801095413,0.0004163584987160236,0.002476440525682234,0.1717119378135528,0.002076003035663041,0.00035315692632768245,0.00041442867212533927,0.0022400376701287345,0.03401933582382061,8.684186588049814e-06,0.006398798108641318,0.006760639214080349,0.07033370916568164,0.020351391134370313,0.8408755493351141,0.012974657131486622,0.0014584608823804298,0.062339433009515346,0.0016017500190276936,0.0007589014118649719,0.07224423020239973,0.004864591821579832,0.011686502796123677],\"sizemode\":\"area\",\"sizeref\":0.0025,\"symbol\":\"circle\"},\"mode\":\"markers\",\"name\":\"\",\"showlegend\":false,\"type\":\"scattergeo\"}],                        {\"template\":{\"data\":{\"bar\":[{\"error_x\":{\"color\":\"#2a3f5f\"},\"error_y\":{\"color\":\"#2a3f5f\"},\"marker\":{\"line\":{\"color\":\"#E5ECF6\",\"width\":0.5},\"pattern\":{\"fillmode\":\"overlay\",\"size\":10,\"solidity\":0.2}},\"type\":\"bar\"}],\"barpolar\":[{\"marker\":{\"line\":{\"color\":\"#E5ECF6\",\"width\":0.5},\"pattern\":{\"fillmode\":\"overlay\",\"size\":10,\"solidity\":0.2}},\"type\":\"barpolar\"}],\"carpet\":[{\"aaxis\":{\"endlinecolor\":\"#2a3f5f\",\"gridcolor\":\"white\",\"linecolor\":\"white\",\"minorgridcolor\":\"white\",\"startlinecolor\":\"#2a3f5f\"},\"baxis\":{\"endlinecolor\":\"#2a3f5f\",\"gridcolor\":\"white\",\"linecolor\":\"white\",\"minorgridcolor\":\"white\",\"startlinecolor\":\"#2a3f5f\"},\"type\":\"carpet\"}],\"choropleth\":[{\"colorbar\":{\"outlinewidth\":0,\"ticks\":\"\"},\"type\":\"choropleth\"}],\"contour\":[{\"colorbar\":{\"outlinewidth\":0,\"ticks\":\"\"},\"colorscale\":[[0.0,\"#0d0887\"],[0.1111111111111111,\"#46039f\"],[0.2222222222222222,\"#7201a8\"],[0.3333333333333333,\"#9c179e\"],[0.4444444444444444,\"#bd3786\"],[0.5555555555555556,\"#d8576b\"],[0.6666666666666666,\"#ed7953\"],[0.7777777777777778,\"#fb9f3a\"],[0.8888888888888888,\"#fdca26\"],[1.0,\"#f0f921\"]],\"type\":\"contour\"}],\"contourcarpet\":[{\"colorbar\":{\"outlinewidth\":0,\"ticks\":\"\"},\"type\":\"contourcarpet\"}],\"heatmap\":[{\"colorbar\":{\"outlinewidth\":0,\"ticks\":\"\"},\"colorscale\":[[0.0,\"#0d0887\"],[0.1111111111111111,\"#46039f\"],[0.2222222222222222,\"#7201a8\"],[0.3333333333333333,\"#9c179e\"],[0.4444444444444444,\"#bd3786\"],[0.5555555555555556,\"#d8576b\"],[0.6666666666666666,\"#ed7953\"],[0.7777777777777778,\"#fb9f3a\"],[0.8888888888888888,\"#fdca26\"],[1.0,\"#f0f921\"]],\"type\":\"heatmap\"}],\"heatmapgl\":[{\"colorbar\":{\"outlinewidth\":0,\"ticks\":\"\"},\"colorscale\":[[0.0,\"#0d0887\"],[0.1111111111111111,\"#46039f\"],[0.2222222222222222,\"#7201a8\"],[0.3333333333333333,\"#9c179e\"],[0.4444444444444444,\"#bd3786\"],[0.5555555555555556,\"#d8576b\"],[0.6666666666666666,\"#ed7953\"],[0.7777777777777778,\"#fb9f3a\"],[0.8888888888888888,\"#fdca26\"],[1.0,\"#f0f921\"]],\"type\":\"heatmapgl\"}],\"histogram\":[{\"marker\":{\"pattern\":{\"fillmode\":\"overlay\",\"size\":10,\"solidity\":0.2}},\"type\":\"histogram\"}],\"histogram2d\":[{\"colorbar\":{\"outlinewidth\":0,\"ticks\":\"\"},\"colorscale\":[[0.0,\"#0d0887\"],[0.1111111111111111,\"#46039f\"],[0.2222222222222222,\"#7201a8\"],[0.3333333333333333,\"#9c179e\"],[0.4444444444444444,\"#bd3786\"],[0.5555555555555556,\"#d8576b\"],[0.6666666666666666,\"#ed7953\"],[0.7777777777777778,\"#fb9f3a\"],[0.8888888888888888,\"#fdca26\"],[1.0,\"#f0f921\"]],\"type\":\"histogram2d\"}],\"histogram2dcontour\":[{\"colorbar\":{\"outlinewidth\":0,\"ticks\":\"\"},\"colorscale\":[[0.0,\"#0d0887\"],[0.1111111111111111,\"#46039f\"],[0.2222222222222222,\"#7201a8\"],[0.3333333333333333,\"#9c179e\"],[0.4444444444444444,\"#bd3786\"],[0.5555555555555556,\"#d8576b\"],[0.6666666666666666,\"#ed7953\"],[0.7777777777777778,\"#fb9f3a\"],[0.8888888888888888,\"#fdca26\"],[1.0,\"#f0f921\"]],\"type\":\"histogram2dcontour\"}],\"mesh3d\":[{\"colorbar\":{\"outlinewidth\":0,\"ticks\":\"\"},\"type\":\"mesh3d\"}],\"parcoords\":[{\"line\":{\"colorbar\":{\"outlinewidth\":0,\"ticks\":\"\"}},\"type\":\"parcoords\"}],\"pie\":[{\"automargin\":true,\"type\":\"pie\"}],\"scatter\":[{\"marker\":{\"colorbar\":{\"outlinewidth\":0,\"ticks\":\"\"}},\"type\":\"scatter\"}],\"scatter3d\":[{\"line\":{\"colorbar\":{\"outlinewidth\":0,\"ticks\":\"\"}},\"marker\":{\"colorbar\":{\"outlinewidth\":0,\"ticks\":\"\"}},\"type\":\"scatter3d\"}],\"scattercarpet\":[{\"marker\":{\"colorbar\":{\"outlinewidth\":0,\"ticks\":\"\"}},\"type\":\"scattercarpet\"}],\"scattergeo\":[{\"marker\":{\"colorbar\":{\"outlinewidth\":0,\"ticks\":\"\"}},\"type\":\"scattergeo\"}],\"scattergl\":[{\"marker\":{\"colorbar\":{\"outlinewidth\":0,\"ticks\":\"\"}},\"type\":\"scattergl\"}],\"scattermapbox\":[{\"marker\":{\"colorbar\":{\"outlinewidth\":0,\"ticks\":\"\"}},\"type\":\"scattermapbox\"}],\"scatterpolar\":[{\"marker\":{\"colorbar\":{\"outlinewidth\":0,\"ticks\":\"\"}},\"type\":\"scatterpolar\"}],\"scatterpolargl\":[{\"marker\":{\"colorbar\":{\"outlinewidth\":0,\"ticks\":\"\"}},\"type\":\"scatterpolargl\"}],\"scatterternary\":[{\"marker\":{\"colorbar\":{\"outlinewidth\":0,\"ticks\":\"\"}},\"type\":\"scatterternary\"}],\"surface\":[{\"colorbar\":{\"outlinewidth\":0,\"ticks\":\"\"},\"colorscale\":[[0.0,\"#0d0887\"],[0.1111111111111111,\"#46039f\"],[0.2222222222222222,\"#7201a8\"],[0.3333333333333333,\"#9c179e\"],[0.4444444444444444,\"#bd3786\"],[0.5555555555555556,\"#d8576b\"],[0.6666666666666666,\"#ed7953\"],[0.7777777777777778,\"#fb9f3a\"],[0.8888888888888888,\"#fdca26\"],[1.0,\"#f0f921\"]],\"type\":\"surface\"}],\"table\":[{\"cells\":{\"fill\":{\"color\":\"#EBF0F8\"},\"line\":{\"color\":\"white\"}},\"header\":{\"fill\":{\"color\":\"#C8D4E3\"},\"line\":{\"color\":\"white\"}},\"type\":\"table\"}]},\"layout\":{\"annotationdefaults\":{\"arrowcolor\":\"#2a3f5f\",\"arrowhead\":0,\"arrowwidth\":1},\"autotypenumbers\":\"strict\",\"coloraxis\":{\"colorbar\":{\"outlinewidth\":0,\"ticks\":\"\"}},\"colorscale\":{\"diverging\":[[0,\"#8e0152\"],[0.1,\"#c51b7d\"],[0.2,\"#de77ae\"],[0.3,\"#f1b6da\"],[0.4,\"#fde0ef\"],[0.5,\"#f7f7f7\"],[0.6,\"#e6f5d0\"],[0.7,\"#b8e186\"],[0.8,\"#7fbc41\"],[0.9,\"#4d9221\"],[1,\"#276419\"]],\"sequential\":[[0.0,\"#0d0887\"],[0.1111111111111111,\"#46039f\"],[0.2222222222222222,\"#7201a8\"],[0.3333333333333333,\"#9c179e\"],[0.4444444444444444,\"#bd3786\"],[0.5555555555555556,\"#d8576b\"],[0.6666666666666666,\"#ed7953\"],[0.7777777777777778,\"#fb9f3a\"],[0.8888888888888888,\"#fdca26\"],[1.0,\"#f0f921\"]],\"sequentialminus\":[[0.0,\"#0d0887\"],[0.1111111111111111,\"#46039f\"],[0.2222222222222222,\"#7201a8\"],[0.3333333333333333,\"#9c179e\"],[0.4444444444444444,\"#bd3786\"],[0.5555555555555556,\"#d8576b\"],[0.6666666666666666,\"#ed7953\"],[0.7777777777777778,\"#fb9f3a\"],[0.8888888888888888,\"#fdca26\"],[1.0,\"#f0f921\"]]},\"colorway\":[\"#636efa\",\"#EF553B\",\"#00cc96\",\"#ab63fa\",\"#FFA15A\",\"#19d3f3\",\"#FF6692\",\"#B6E880\",\"#FF97FF\",\"#FECB52\"],\"font\":{\"color\":\"#2a3f5f\"},\"geo\":{\"bgcolor\":\"white\",\"lakecolor\":\"white\",\"landcolor\":\"#E5ECF6\",\"showlakes\":true,\"showland\":true,\"subunitcolor\":\"white\"},\"hoverlabel\":{\"align\":\"left\"},\"hovermode\":\"closest\",\"mapbox\":{\"style\":\"light\"},\"paper_bgcolor\":\"white\",\"plot_bgcolor\":\"#E5ECF6\",\"polar\":{\"angularaxis\":{\"gridcolor\":\"white\",\"linecolor\":\"white\",\"ticks\":\"\"},\"bgcolor\":\"#E5ECF6\",\"radialaxis\":{\"gridcolor\":\"white\",\"linecolor\":\"white\",\"ticks\":\"\"}},\"scene\":{\"xaxis\":{\"backgroundcolor\":\"#E5ECF6\",\"gridcolor\":\"white\",\"gridwidth\":2,\"linecolor\":\"white\",\"showbackground\":true,\"ticks\":\"\",\"zerolinecolor\":\"white\"},\"yaxis\":{\"backgroundcolor\":\"#E5ECF6\",\"gridcolor\":\"white\",\"gridwidth\":2,\"linecolor\":\"white\",\"showbackground\":true,\"ticks\":\"\",\"zerolinecolor\":\"white\"},\"zaxis\":{\"backgroundcolor\":\"#E5ECF6\",\"gridcolor\":\"white\",\"gridwidth\":2,\"linecolor\":\"white\",\"showbackground\":true,\"ticks\":\"\",\"zerolinecolor\":\"white\"}},\"shapedefaults\":{\"line\":{\"color\":\"#2a3f5f\"}},\"ternary\":{\"aaxis\":{\"gridcolor\":\"white\",\"linecolor\":\"white\",\"ticks\":\"\"},\"baxis\":{\"gridcolor\":\"white\",\"linecolor\":\"white\",\"ticks\":\"\"},\"bgcolor\":\"#E5ECF6\",\"caxis\":{\"gridcolor\":\"white\",\"linecolor\":\"white\",\"ticks\":\"\"}},\"title\":{\"x\":0.05},\"xaxis\":{\"automargin\":true,\"gridcolor\":\"white\",\"linecolor\":\"white\",\"ticks\":\"\",\"title\":{\"standoff\":15},\"zerolinecolor\":\"white\",\"zerolinewidth\":2},\"yaxis\":{\"automargin\":true,\"gridcolor\":\"white\",\"linecolor\":\"white\",\"ticks\":\"\",\"title\":{\"standoff\":15},\"zerolinecolor\":\"white\",\"zerolinewidth\":2}}},\"geo\":{\"domain\":{\"x\":[0.0,1.0],\"y\":[0.0,1.0]},\"center\":{}},\"legend\":{\"tracegroupgap\":0,\"itemsizing\":\"constant\"},\"margin\":{\"t\":60}},                        {\"responsive\": true}                    ).then(function(){\n",
              "                            \n",
              "var gd = document.getElementById('d7da7a78-9f62-4de3-9713-9268f4131d3f');\n",
              "var x = new MutationObserver(function (mutations, observer) {{\n",
              "        var display = window.getComputedStyle(gd).display;\n",
              "        if (!display || display === 'none') {{\n",
              "            console.log([gd, 'removed!']);\n",
              "            Plotly.purge(gd);\n",
              "            observer.disconnect();\n",
              "        }}\n",
              "}});\n",
              "\n",
              "// Listen for the removal of the full notebook cells\n",
              "var notebookContainer = gd.closest('#notebook-container');\n",
              "if (notebookContainer) {{\n",
              "    x.observe(notebookContainer, {childList: true});\n",
              "}}\n",
              "\n",
              "// Listen for the clearing of the current output cell\n",
              "var outputEl = gd.closest('.output');\n",
              "if (outputEl) {{\n",
              "    x.observe(outputEl, {childList: true});\n",
              "}}\n",
              "\n",
              "                        })                };                            </script>        </div>\n",
              "</body>\n",
              "</html>"
            ]
          },
          "metadata": {}
        }
      ]
    }
  ]
}