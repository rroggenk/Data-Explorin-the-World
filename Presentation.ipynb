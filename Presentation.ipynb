{
  "nbformat": 4,
  "nbformat_minor": 0,
  "metadata": {
    "colab": {
      "provenance": []
    },
    "kernelspec": {
      "name": "python3",
      "display_name": "Python 3"
    },
    "language_info": {
      "name": "python"
    }
  },
  "cells": [
    {
      "cell_type": "code",
      "source": [
        "import pandas as pd\n",
        "import numpy as np\n",
        "import plotly.express as px\n",
        "from sklearn.preprocessing import StandardScaler, OneHotEncoder, MinMaxScaler, PolynomialFeatures\n",
        "from sklearn.pipeline import make_pipeline\n",
        "from sklearn.neighbors import KNeighborsClassifier, KNeighborsRegressor \n",
        "from sklearn.compose import make_column_transformer\n",
        "from sklearn.linear_model import LinearRegression\n",
        "from sklearn.model_selection import cross_val_score, GridSearchCV\n",
        "from datetime import datetime\n",
        "from sklearn.model_selection import cross_val_score\n",
        "from sklearn.ensemble import VotingRegressor\n",
        "from sklearn.metrics import mean_squared_error"
      ],
      "metadata": {
        "id": "f3BLfXNegWsf"
      },
      "execution_count": null,
      "outputs": []
    },
    {
      "cell_type": "code",
      "source": [
        "data_dir = \"https://raw.githubusercontent.com/rroggenk/DATA301/main/\""
      ],
      "metadata": {
        "id": "0_oHmrnhgZB3"
      },
      "execution_count": null,
      "outputs": []
    },
    {
      "cell_type": "code",
      "source": [
        "df_flying_etiquette = pd.read_csv(data_dir + \"flying-etiquette.csv\")\n",
        "df_flying_etiquette = df_flying_etiquette[df_flying_etiquette[\"How often do you travel by plane?\"] != \"Never\"]"
      ],
      "metadata": {
        "id": "K_r_JKrigbpU"
      },
      "execution_count": null,
      "outputs": []
    },
    {
      "cell_type": "code",
      "source": [
        "df_international_tourism = pd.read_csv(data_dir + \"df_international_tourism.csv\")\n",
        "df_international_tourism = df_international_tourism[df_international_tourism[\"year\"] >= 1995]"
      ],
      "metadata": {
        "id": "nD9llCEwglzX"
      },
      "execution_count": null,
      "outputs": []
    },
    {
      "cell_type": "markdown",
      "source": [
        "#Slide 4: Flying Etiquette Data"
      ],
      "metadata": {
        "id": "V8GQ3jb3gRxl"
      }
    },
    {
      "cell_type": "code",
      "execution_count": null,
      "metadata": {
        "id": "yFt8ag6gxYlU",
        "colab": {
          "base_uri": "https://localhost:8080/"
        },
        "outputId": "212de436-50d6-40af-af69-557d1202f019"
      },
      "outputs": [
        {
          "output_type": "stream",
          "name": "stdout",
          "text": [
            "<class 'pandas.core.frame.DataFrame'>\n",
            "Int64Index: 874 entries, 0 to 1039\n",
            "Data columns (total 27 columns):\n",
            " #   Column                                                                                                                                    Non-Null Count  Dtype \n",
            "---  ------                                                                                                                                    --------------  ----- \n",
            " 0   RespondentID                                                                                                                              874 non-null    int64 \n",
            " 1   How often do you travel by plane?                                                                                                         874 non-null    object\n",
            " 2   Do you ever recline your seat when you fly?                                                                                               858 non-null    object\n",
            " 3   How tall are you?                                                                                                                         858 non-null    object\n",
            " 4   Do you have any children under 18?                                                                                                        851 non-null    object\n",
            " 5   In a row of three seats, who should get to use the two arm rests?                                                                         856 non-null    object\n",
            " 6   In a row of two seats, who should get to use the middle arm rest?                                                                         856 non-null    object\n",
            " 7   Who should have control over the window shade?                                                                                            856 non-null    object\n",
            " 8   Is itrude to move to an unsold seat on a plane?                                                                                           855 non-null    object\n",
            " 9   Generally speaking, is it rude to say more than a few words tothe stranger sitting next to you on a plane?                                855 non-null    object\n",
            " 10  On a 6 hour flight from NYC to LA, how many times is it acceptable to get up if you're not in an aisle seat?                              855 non-null    object\n",
            " 11  Under normal circumstances, does a person who reclines their seat during a flight have any obligation to the person sitting behind them?  854 non-null    object\n",
            " 12  Is itrude to recline your seat on a plane?                                                                                                854 non-null    object\n",
            " 13  Given the opportunity, would you eliminate the possibility of reclining seats on planes entirely?                                         854 non-null    object\n",
            " 14  Is it rude to ask someone to switch seats with you in order to be closer to friends?                                                      850 non-null    object\n",
            " 15  Is itrude to ask someone to switch seats with you in order to be closer to family?                                                        850 non-null    object\n",
            " 16  Is it rude to wake a passenger up if you are trying to go to the bathroom?                                                                850 non-null    object\n",
            " 17  Is itrude to wake a passenger up if you are trying to walk around?                                                                        850 non-null    object\n",
            " 18  In general, is itrude to bring a baby on a plane?                                                                                         849 non-null    object\n",
            " 19  In general, is it rude to knowingly bring unruly children on a plane?                                                                     849 non-null    object\n",
            " 20  Have you ever used personal electronics during take off or landing in violation of a flight attendant's direction?                        849 non-null    object\n",
            " 21  Have you ever smoked a cigarette in an airplane bathroom when it was against the rules?                                                   849 non-null    object\n",
            " 22  Gender                                                                                                                                    843 non-null    object\n",
            " 23  Age                                                                                                                                       843 non-null    object\n",
            " 24  Household Income                                                                                                                          698 non-null    object\n",
            " 25  Education                                                                                                                                 837 non-null    object\n",
            " 26  Location (Census Region)                                                                                                                  837 non-null    object\n",
            "dtypes: int64(1), object(26)\n",
            "memory usage: 191.2+ KB\n"
          ]
        }
      ],
      "source": [
        "df_flying_etiquette.info()"
      ]
    },
    {
      "cell_type": "markdown",
      "source": [
        "#Slide 7: Flying Etiquette Data Overview"
      ],
      "metadata": {
        "id": "hef9ZkqFgtVF"
      }
    },
    {
      "cell_type": "code",
      "source": [
        "df_flying_etiquette[\"How often do you travel by plane?\"].value_counts().plot.bar()"
      ],
      "metadata": {
        "colab": {
          "base_uri": "https://localhost:8080/",
          "height": 386
        },
        "id": "RIZ5h-qAgubJ",
        "outputId": "003750d4-e5c7-4123-c0a4-fb7b9293d4d5"
      },
      "execution_count": null,
      "outputs": [
        {
          "output_type": "execute_result",
          "data": {
            "text/plain": [
              "<matplotlib.axes._subplots.AxesSubplot at 0x7ff0521135e0>"
            ]
          },
          "metadata": {},
          "execution_count": 6
        },
        {
          "output_type": "display_data",
          "data": {
            "text/plain": [
              "<Figure size 432x288 with 1 Axes>"
            ],
            "image/png": "[encoded data removed]"
          },
          "metadata": {
            "needs_background": "light"
          }
        }
      ]
    },
    {
      "cell_type": "code",
      "source": [
        "df_flying_etiquette[\"Do you ever recline your seat when you fly?\"].value_counts().plot.bar()"
      ],
      "metadata": {
        "colab": {
          "base_uri": "https://localhost:8080/",
          "height": 369
        },
        "id": "Lkp8r2f1g9l9",
        "outputId": "a374e6f2-240e-4480-a10b-b68ee360f092"
      },
      "execution_count": null,
      "outputs": [
        {
          "output_type": "execute_result",
          "data": {
            "text/plain": [
              "<matplotlib.axes._subplots.AxesSubplot at 0x7ff051fe2a00>"
            ]
          },
          "metadata": {},
          "execution_count": 7
        },
        {
          "output_type": "display_data",
          "data": {
            "text/plain": [
              "<Figure size 432x288 with 1 Axes>"
            ],
            "image/png": "[encoded data removed]"
          },
          "metadata": {
            "needs_background": "light"
          }
        }
      ]
    },
    {
      "cell_type": "markdown",
      "source": [
        "#Slide 8: Relationship Between Height and Reclining Seat"
      ],
      "metadata": {
        "id": "5FQtX6VDhADQ"
      }
    },
    {
      "cell_type": "code",
      "source": [
        "joint_recline_height = pd.crosstab(df_flying_etiquette[\"Do you ever recline your seat when you fly?\"], df_flying_etiquette[\"How tall are you?\"], \n",
        "                                    normalize=True)\n",
        "height_marginal = joint_recline_height.sum(axis=0)\n",
        "recline_marginal = joint_recline_height.sum(axis=1)\n",
        "cond_recline_height = joint_recline_height.divide(height_marginal, axis=1)\n",
        "cond_recline_height.T.plot.bar(stacked=True)"
      ],
      "metadata": {
        "colab": {
          "base_uri": "https://localhost:8080/",
          "height": 362
        },
        "id": "SZb0k-3YhDY0",
        "outputId": "e9f8c6c5-fa31-4e10-f662-fd88b1b78b63"
      },
      "execution_count": null,
      "outputs": [
        {
          "output_type": "execute_result",
          "data": {
            "text/plain": [
              "<matplotlib.axes._subplots.AxesSubplot at 0x7ff051b81880>"
            ]
          },
          "metadata": {},
          "execution_count": 8
        },
        {
          "output_type": "display_data",
          "data": {
            "text/plain": [
              "<Figure size 432x288 with 1 Axes>"
            ],
            "image/png": "[encoded data removed]"
          },
          "metadata": {
            "needs_background": "light"
          }
        }
      ]
    },
    {
      "cell_type": "markdown",
      "source": [
        "#Slide 9: Arrivals and Departures"
      ],
      "metadata": {
        "id": "qUV3v-QLhPU4"
      }
    },
    {
      "cell_type": "code",
      "source": [
        "(df_international_tourism.groupby(\"continent\")[\"number_of_arrivals\"].mean().plot.bar())"
      ],
      "metadata": {
        "colab": {
          "base_uri": "https://localhost:8080/",
          "height": 344
        },
        "id": "EMv5eTS2hRtR",
        "outputId": "0ea55a4d-09e6-46ac-ad90-03f9f4bcd40f"
      },
      "execution_count": null,
      "outputs": [
        {
          "output_type": "execute_result",
          "data": {
            "text/plain": [
              "<matplotlib.axes._subplots.AxesSubplot at 0x7ff0519c2130>"
            ]
          },
          "metadata": {},
          "execution_count": 9
        },
        {
          "output_type": "display_data",
          "data": {
            "text/plain": [
              "<Figure size 432x288 with 1 Axes>"
            ],
            "image/png": "[encoded data removed]"
          },
          "metadata": {
            "needs_background": "light"
          }
        }
      ]
    },
    {
      "cell_type": "code",
      "source": [
        "(df_international_tourism.groupby(\"continent\")[\"number_of_departures\"].mean().plot.bar())"
      ],
      "metadata": {
        "colab": {
          "base_uri": "https://localhost:8080/",
          "height": 344
        },
        "id": "GEIS8wPJhVnt",
        "outputId": "4ad20340-f73c-4ca6-9438-a2a528569456"
      },
      "execution_count": null,
      "outputs": [
        {
          "output_type": "execute_result",
          "data": {
            "text/plain": [
              "<matplotlib.axes._subplots.AxesSubplot at 0x7ff0519c8ee0>"
            ]
          },
          "metadata": {},
          "execution_count": 10
        },
        {
          "output_type": "display_data",
          "data": {
            "text/plain": [
              "<Figure size 432x288 with 1 Axes>"
            ],
            "image/png": "[encoded data removed]"
          },
          "metadata": {
            "needs_background": "light"
          }
        }
      ]
    },
    {
      "cell_type": "markdown",
      "source": [
        "#Slide 10: Number of Arrivals: Dot Map"
      ],
      "metadata": {
        "id": "TX7J1QVfhX9N"
      }
    },
    {
      "cell_type": "code",
      "source": [
        "df_covid = pd.read_csv(\"https://raw.githubusercontent.com/CSSEGISandData/COVID-19/master/csse_covid_19_data/csse_covid_19_time_series/time_series_covid19_confirmed_global.csv\")\n",
        "df_covid = df_covid[[\"Country/Region\", \"Lat\", \"Long\"]]\n",
        "df_covid = df_covid.rename(columns={\"Country/Region\": \"Country Name\"})"
      ],
      "metadata": {
        "id": "f8x6eohfha5N"
      },
      "execution_count": null,
      "outputs": []
    },
    {
      "cell_type": "code",
      "source": [
        "df_dot_map = df_international_tourism\n",
        "df_dot_map = df_dot_map.merge(df_covid, on=\"Country Name\", how=\"left\")"
      ],
      "metadata": {
        "id": "-vMQgOOBhjPl"
      },
      "execution_count": null,
      "outputs": []
    },
    {
      "cell_type": "code",
      "source": [
        "df_dot_map = df_dot_map[df_dot_map[\"number_of_arrivals\"].notna()]\n",
        "df_dot_map = df_dot_map[df_dot_map[\"year\"] == 2017]\n",
        "\n",
        "px.scatter_geo(df_dot_map, lat = \"Lat\", lon = \"Long\",\n",
        "               hover_name = \"Country Name\",\n",
        "               size = df_dot_map[\"number_of_arrivals\"])"
      ],
      "metadata": {
        "colab": {
          "base_uri": "https://localhost:8080/",
          "height": 542
        },
        "id": "p6BssjXJhlCH",
        "outputId": "b5c9577f-6ef0-4e59-c495-b9a8377dff57"
      },
      "execution_count": null,
      "outputs": [
        {
          "output_type": "display_data",
          "data": {
            "text/html": [
              "<html>\n",
              "<head><meta charset=\"utf-8\" /></head>\n",
              "<body>\n",
              "    <div>            <script src=\"https://cdnjs.cloudflare.com/ajax/libs/mathjax/2.7.5/MathJax.js?config=TeX-AMS-MML_SVG\"></script><script type=\"text/javascript\">if (window.MathJax) {MathJax.Hub.Config({SVG: {font: \"STIX-Web\"}});}</script>                <script type=\"text/javascript\">window.PlotlyConfig = {MathJaxConfig: 'local'};</script>\n",
              "        <script src=\"https://cdn.plot.ly/plotly-2.8.3.min.js\"></script>                <div id=\"472038b4-58d4-44eb-a6eb-88455fec4601\" class=\"plotly-graph-div\" style=\"height:525px; width:100%;\"></div>            <script type=\"text/javascript\">                                    window.PLOTLYENV=window.PLOTLYENV || {};                                    if (document.getElementById(\"472038b4-58d4-44eb-a6eb-88455fec4601\")) {                    Plotly.newPlot(                        \"472038b4-58d4-44eb-a6eb-88455fec4601\",                        [{\"geo\":\"geo\",\"hovertemplate\":\"<b>%{hovertext}</b><br><br>number_of_arrivals=%{marker.size}<br>Lat=%{lat}<br>Long=%{lon}<extra></extra>\",\"hovertext\":[\"Angola\",\"Albania\",\"Andorra\",\"United Arab Emirates\",\"Argentina\",\"Armenia\",\"Antigua and Barbuda\",\"Australia\",\"Australia\",\"Australia\",\"Australia\",\"Australia\",\"Australia\",\"Australia\",\"Australia\",\"Austria\",\"Azerbaijan\",\"Burundi\",\"Belgium\",\"Benin\",\"Burkina Faso\",\"Bangladesh\",\"Bulgaria\",\"Bahrain\",\"Bosnia and Herzegovina\",\"Belarus\",\"Belize\",\"Bolivia\",\"Brazil\",\"Barbados\",\"Bhutan\",\"Botswana\",\"Central African Republic\",\"Canada\",\"Canada\",\"Canada\",\"Canada\",\"Canada\",\"Canada\",\"Canada\",\"Canada\",\"Canada\",\"Canada\",\"Canada\",\"Canada\",\"Canada\",\"Canada\",\"Canada\",\"Canada\",\"Switzerland\",\"Chile\",\"China\",\"China\",\"China\",\"China\",\"China\",\"China\",\"China\",\"China\",\"China\",\"China\",\"China\",\"China\",\"China\",\"China\",\"China\",\"China\",\"China\",\"China\",\"China\",\"China\",\"China\",\"China\",\"China\",\"China\",\"China\",\"China\",\"China\",\"China\",\"China\",\"China\",\"China\",\"China\",\"China\",\"China\",\"Cote d'Ivoire\",\"Cameroon\",\"Congo, Rep.\",\"Colombia\",\"Comoros\",\"Costa Rica\",\"Cuba\",\"Cyprus\",\"Germany\",\"Dominica\",\"Denmark\",\"Denmark\",\"Denmark\",\"Dominican Republic\",\"Algeria\",\"Ecuador\",\"Spain\",\"Estonia\",\"Ethiopia\",\"Finland\",\"Fiji\",\"France\",\"France\",\"France\",\"France\",\"France\",\"France\",\"France\",\"France\",\"France\",\"France\",\"France\",\"France\",\"United Kingdom\",\"United Kingdom\",\"United Kingdom\",\"United Kingdom\",\"United Kingdom\",\"United Kingdom\",\"United Kingdom\",\"United Kingdom\",\"United Kingdom\",\"United Kingdom\",\"United Kingdom\",\"United Kingdom\",\"United Kingdom\",\"United Kingdom\",\"United Kingdom\",\"Georgia\",\"Guinea\",\"Guinea-Bissau\",\"Greece\",\"Grenada\",\"Guatemala\",\"Guyana\",\"Honduras\",\"Croatia\",\"Haiti\",\"Hungary\",\"Indonesia\",\"India\",\"Ireland\",\"Iceland\",\"Israel\",\"Italy\",\"Jamaica\",\"Jordan\",\"Japan\",\"Kazakhstan\",\"Kenya\",\"Kyrgyz Republic\",\"Cambodia\",\"Kiribati\",\"St. Kitts and Nevis\",\"Kuwait\",\"Lebanon\",\"St. Lucia\",\"Sri Lanka\",\"Lesotho\",\"Lithuania\",\"Luxembourg\",\"Latvia\",\"Morocco\",\"Moldova\",\"Madagascar\",\"Maldives\",\"Mexico\",\"Marshall Islands\",\"North Macedonia\",\"Mali\",\"Malta\",\"Myanmar\",\"Montenegro\",\"Mongolia\",\"Mozambique\",\"Mauritius\",\"Malawi\",\"Malaysia\",\"Namibia\",\"Niger\",\"Nicaragua\",\"Netherlands\",\"Netherlands\",\"Netherlands\",\"Netherlands\",\"Netherlands\",\"Norway\",\"Nepal\",\"New Zealand\",\"New Zealand\",\"New Zealand\",\"Oman\",\"Panama\",\"Peru\",\"Philippines\",\"Palau\",\"Papua New Guinea\",\"Poland\",\"Portugal\",\"Paraguay\",\"Qatar\",\"Romania\",\"Rwanda\",\"Saudi Arabia\",\"Sudan\",\"Senegal\",\"Singapore\",\"Solomon Islands\",\"Sierra Leone\",\"El Salvador\",\"Serbia\",\"Sao Tome and Principe\",\"Suriname\",\"Slovak Republic\",\"Slovenia\",\"Sweden\",\"Eswatini\",\"Seychelles\",\"Chad\",\"Togo\",\"Thailand\",\"Tajikistan\",\"Timor-Leste\",\"Tonga\",\"Trinidad and Tobago\",\"Tunisia\",\"Tuvalu\",\"Tanzania\",\"Uganda\",\"Ukraine\",\"Uruguay\",\"United States\",\"Uzbekistan\",\"St. Vincent and the Grenadines\",\"Vietnam\",\"Vanuatu\",\"Samoa\",\"South Africa\",\"Zambia\",\"Zimbabwe\"],\"lat\":[-11.2027,41.1533,42.5063,23.424076,-38.4161,40.0691,17.0608,-35.4735,-33.8688,-12.4634,-27.4698,-34.9285,-42.8821,-37.8136,-31.9505,47.5162,40.1431,-3.3731,50.8333,9.3077,12.2383,23.685,42.7339,26.0275,43.9159,53.7098,17.1899,-16.2902,-14.235,13.1939,27.5142,-22.3285,6.6111,53.9333,53.7267,0.0,0.0,53.7609,46.5653,53.1355,64.8255,44.682,70.2998,51.2538,46.5107,52.9399,null,52.9399,64.2823,46.8182,-35.6751,31.8257,40.1824,30.0572,26.0789,35.7518,23.3417,23.8298,26.8154,19.1959,39.549,47.862,37.8957,22.3,30.9756,27.6104,44.0935,32.9711,27.614,43.6661,41.2956,22.1667,37.2692,35.7452,35.1917,36.3427,31.202,37.5777,30.6171,39.3054,31.6927,null,41.1129,24.974,29.1832,7.54,3.848,null,4.5709,-11.6455,9.7489,21.521757,35.1264,51.165691,15.415,61.8926,71.7069,56.2639,18.7357,28.0339,-1.8312,40.463667,58.5953,9.145,61.92411,-17.7134,3.9339,-17.6797,16.265,14.6415,-12.8275,-20.904305,-21.1151,17.9,46.8852,18.0708,-14.2938,46.2276,18.2206,32.3078,18.4207,19.3133,49.3723,-51.7963,36.1408,49.448196,54.2361,49.2138,16.742498,-24.3768,-7.9467,21.694,55.3781,42.3154,9.9456,11.8037,39.0742,12.1165,15.7835,4.860416,15.2,45.1,18.9712,47.1625,-0.7893,20.593684,53.1424,64.9631,31.046051,41.87194,18.1096,31.24,36.204824,48.0196,-0.0236,null,11.55,-3.3704,null,29.31166,33.8547,null,7.873054,-29.61,55.1694,49.8153,56.8796,31.7917,47.4116,-18.766947,3.2028,23.6345,7.1315,41.6086,17.570692,35.9375,null,42.708678,46.8625,-18.665695,-20.348404,-13.2543,4.210484,-22.9576,17.607789,12.865416,12.5211,12.1784,12.1696,18.0425,52.1326,60.472,28.1667,-21.2367,-19.0544,-40.9006,21.512583,8.538,-9.19,12.879721,7.515,-6.314993,51.9194,39.3999,-23.4425,25.3548,45.9432,-1.9403,23.885942,12.8628,14.4974,1.2833,-9.6457,8.460555,13.7942,44.0165,0.1864,3.9193,null,46.1512,60.128161,-26.5225,-4.6796,15.4542,8.6195,15.870032,38.861,-8.874217,-21.179,10.6918,33.886917,-7.1095,-6.369028,1.373333,48.3794,-32.5228,null,41.377491,null,14.058324,-15.3767,-13.759,-30.5595,-13.133897,-19.015438],\"legendgroup\":\"\",\"lon\":[17.8739,20.1683,1.5218,53.847818,-63.6167,45.0382,-61.7964,149.0124,151.2093,130.8456,153.0251,138.6007,147.3272,144.9631,115.8605,14.5501,47.5769,29.9189,4.469936,2.3158,-1.5616,90.3563,25.4858,50.55,17.6791,27.9534,-88.4976,-63.5887,-51.9253,-59.5432,90.4336,24.6849,20.9394,-116.5765,-127.6476,0.0,0.0,-98.8139,-66.4619,-57.6604,-124.8457,-63.7443,-83.1076,-85.3232,-63.4168,-73.5491,null,-106.4509,-135.0,8.2275,-71.543,117.2264,116.4142,107.874,117.9874,104.2861,113.4244,108.7881,106.8748,109.7453,116.1306,127.7615,114.9042,114.2,112.2707,111.7088,113.9448,119.455,115.7221,126.1923,122.6085,113.55,106.1655,95.9956,108.8701,118.1498,121.4491,112.2922,102.7103,117.323,88.0924,null,85.2401,101.487,120.0934,-5.5471,11.5021,null,-74.2973,43.3333,-83.7534,-77.781167,33.4299,10.451526,-61.371,-6.9118,-42.6043,9.5018,-70.1627,1.6596,-78.1834,-3.74922,25.0136,40.4897,25.748151,178.065,-53.1258,149.4068,-61.551,-61.0242,45.166244,165.618042,55.5364,-62.8333,-56.3159,-63.0501,-178.1165,2.2137,-63.0686,-64.7505,-64.64,-81.2546,-2.3644,-59.5236,-5.3536,-2.58949,-4.5481,-2.1358,-62.187366,-128.3242,-14.3559,-71.7979,-3.436,43.3569,-9.6966,-15.1804,21.8243,-61.679,-90.2308,-58.93018,-86.2419,15.2,-72.2852,19.5033,113.9213,78.96288,-7.6921,-19.0208,34.851612,12.56738,-77.2975,36.51,138.252924,66.9237,37.9062,null,104.9167,-168.734,null,47.481766,35.8623,null,80.771797,28.2336,23.8813,6.1296,24.6032,-7.0926,28.3699,46.869107,73.2207,-102.5528,171.1845,21.7453,-3.996166,14.3754,null,19.37439,103.8467,35.529562,57.552152,34.3015,101.975766,18.4904,8.081666,-85.207229,-69.9683,-68.2385,-68.99,-63.0548,5.2913,8.4689,84.25,-159.7777,-169.8672,174.886,55.923255,-80.7821,-75.0152,121.774017,134.5825,143.95555,19.1451,-8.2245,-58.4438,51.1839,24.9668,29.8739,45.079162,30.2176,-14.4524,103.8333,160.1562,-11.779889,-88.8965,21.0059,6.6131,-56.0278,null,14.9955,18.643501,31.4659,55.492,18.7322,0.8248,100.992541,71.2761,125.727539,-175.1982,-61.2225,9.537499,177.6493,34.888822,32.290275,31.1656,-55.7658,null,64.585262,null,108.277199,166.9592,-172.1046,22.9375,27.849332,29.154857],\"marker\":{\"color\":\"#636efa\",\"size\":[261000.0,5118000.0,8152000.0,21805000.0,6711000.0,1495000.0,1040000.0,8815000.0,8815000.0,8815000.0,8815000.0,8815000.0,8815000.0,8815000.0,8815000.0,29460000.0,2697000.0,299000.0,8385000.0,307000.0,143000.0,237000.0,11596000.0,11374000.0,923000.0,11060000.0,1441000.0,1109000.0,6589000.0,1345000.0,255000.0,1775000.0,107000.0,31081000.0,31081000.0,31081000.0,31081000.0,31081000.0,31081000.0,31081000.0,31081000.0,31081000.0,31081000.0,31081000.0,31081000.0,31081000.0,31081000.0,31081000.0,31081000.0,11133000.0,7621000.0,153260000.0,153260000.0,153260000.0,153260000.0,153260000.0,153260000.0,153260000.0,153260000.0,153260000.0,153260000.0,153260000.0,153260000.0,153260000.0,153260000.0,153260000.0,153260000.0,153260000.0,153260000.0,153260000.0,153260000.0,153260000.0,153260000.0,153260000.0,153260000.0,153260000.0,153260000.0,153260000.0,153260000.0,153260000.0,153260000.0,153260000.0,153260000.0,153260000.0,153260000.0,1800000.0,1081000.0,151000.0,4056000.0,28000.0,3231000.0,4654000.0,3750000.0,37452000.0,230000.0,30736000.0,30736000.0,30736000.0,7296000.0,2451000.0,1806000.0,121717000.0,6145000.0,933000.0,3180000.0,1027000.0,207274000.0,207274000.0,207274000.0,207274000.0,207274000.0,207274000.0,207274000.0,207274000.0,207274000.0,207274000.0,207274000.0,207274000.0,41080000.0,41080000.0,41080000.0,41080000.0,41080000.0,41080000.0,41080000.0,41080000.0,41080000.0,41080000.0,41080000.0,41080000.0,41080000.0,41080000.0,41080000.0,6483000.0,99000.0,49500.0,30161000.0,468000.0,2120000.0,247000.0,2144000.0,59238000.0,1262000.0,54962000.0,14040000.0,15543000.0,10338000.0,2353000.0,3863000.0,89931000.0,4276000.0,4565000.0,28691000.0,7701000.0,1449000.0,4568000.0,5602000.0,7500.0,1194000.0,7407000.0,1857000.0,1064000.0,2248000.0,1137000.0,5590000.0,1046000.0,7726000.0,11540000.0,145000.0,285000.0,1390000.0,99349000.0,6000.0,631000.0,193000.0,2944000.0,3443000.0,1877000.0,543000.0,1514000.0,1371000.0,837000.0,25948000.0,1581000.0,164000.0,1958000.0,17924000.0,17924000.0,17924000.0,17924000.0,17924000.0,6252000.0,940000.0,3723000.0,3723000.0,3723000.0,3178000.0,2517000.0,4992000.0,6621000.0,123000.0,182000.0,83804000.0,15432000.0,4744000.0,2256000.0,10926000.0,1570000.0,18607000.0,813000.0,1376000.0,17425000.0,25700.0007629395,59000.0,2247000.0,1497000.0,28899.9996185303,279000.0,15406000.0,3991000.0,7054000.0,1343000.0,382000.0,87000.0,514000.0,35592000.0,431000.0,73900.0015258789,86599.9984741211,465000.0,7052000.0,2500.0,1327000.0,1402000.0,14579000.0,4219000.0,174291750.0,2690000.0,303000.0,12922000.0,332700.012207031,158000.0,14975000.0,1009000.0,2423000.0],\"sizemode\":\"area\",\"sizeref\":518185.0,\"symbol\":\"circle\"},\"mode\":\"markers\",\"name\":\"\",\"showlegend\":false,\"type\":\"scattergeo\"}],                        {\"template\":{\"data\":{\"bar\":[{\"error_x\":{\"color\":\"#2a3f5f\"},\"error_y\":{\"color\":\"#2a3f5f\"},\"marker\":{\"line\":{\"color\":\"#E5ECF6\",\"width\":0.5},\"pattern\":{\"fillmode\":\"overlay\",\"size\":10,\"solidity\":0.2}},\"type\":\"bar\"}],\"barpolar\":[{\"marker\":{\"line\":{\"color\":\"#E5ECF6\",\"width\":0.5},\"pattern\":{\"fillmode\":\"overlay\",\"size\":10,\"solidity\":0.2}},\"type\":\"barpolar\"}],\"carpet\":[{\"aaxis\":{\"endlinecolor\":\"#2a3f5f\",\"gridcolor\":\"white\",\"linecolor\":\"white\",\"minorgridcolor\":\"white\",\"startlinecolor\":\"#2a3f5f\"},\"baxis\":{\"endlinecolor\":\"#2a3f5f\",\"gridcolor\":\"white\",\"linecolor\":\"white\",\"minorgridcolor\":\"white\",\"startlinecolor\":\"#2a3f5f\"},\"type\":\"carpet\"}],\"choropleth\":[{\"colorbar\":{\"outlinewidth\":0,\"ticks\":\"\"},\"type\":\"choropleth\"}],\"contour\":[{\"colorbar\":{\"outlinewidth\":0,\"ticks\":\"\"},\"colorscale\":[[0.0,\"#0d0887\"],[0.1111111111111111,\"#46039f\"],[0.2222222222222222,\"#7201a8\"],[0.3333333333333333,\"#9c179e\"],[0.4444444444444444,\"#bd3786\"],[0.5555555555555556,\"#d8576b\"],[0.6666666666666666,\"#ed7953\"],[0.7777777777777778,\"#fb9f3a\"],[0.8888888888888888,\"#fdca26\"],[1.0,\"#f0f921\"]],\"type\":\"contour\"}],\"contourcarpet\":[{\"colorbar\":{\"outlinewidth\":0,\"ticks\":\"\"},\"type\":\"contourcarpet\"}],\"heatmap\":[{\"colorbar\":{\"outlinewidth\":0,\"ticks\":\"\"},\"colorscale\":[[0.0,\"#0d0887\"],[0.1111111111111111,\"#46039f\"],[0.2222222222222222,\"#7201a8\"],[0.3333333333333333,\"#9c179e\"],[0.4444444444444444,\"#bd3786\"],[0.5555555555555556,\"#d8576b\"],[0.6666666666666666,\"#ed7953\"],[0.7777777777777778,\"#fb9f3a\"],[0.8888888888888888,\"#fdca26\"],[1.0,\"#f0f921\"]],\"type\":\"heatmap\"}],\"heatmapgl\":[{\"colorbar\":{\"outlinewidth\":0,\"ticks\":\"\"},\"colorscale\":[[0.0,\"#0d0887\"],[0.1111111111111111,\"#46039f\"],[0.2222222222222222,\"#7201a8\"],[0.3333333333333333,\"#9c179e\"],[0.4444444444444444,\"#bd3786\"],[0.5555555555555556,\"#d8576b\"],[0.6666666666666666,\"#ed7953\"],[0.7777777777777778,\"#fb9f3a\"],[0.8888888888888888,\"#fdca26\"],[1.0,\"#f0f921\"]],\"type\":\"heatmapgl\"}],\"histogram\":[{\"marker\":{\"pattern\":{\"fillmode\":\"overlay\",\"size\":10,\"solidity\":0.2}},\"type\":\"histogram\"}],\"histogram2d\":[{\"colorbar\":{\"outlinewidth\":0,\"ticks\":\"\"},\"colorscale\":[[0.0,\"#0d0887\"],[0.1111111111111111,\"#46039f\"],[0.2222222222222222,\"#7201a8\"],[0.3333333333333333,\"#9c179e\"],[0.4444444444444444,\"#bd3786\"],[0.5555555555555556,\"#d8576b\"],[0.6666666666666666,\"#ed7953\"],[0.7777777777777778,\"#fb9f3a\"],[0.8888888888888888,\"#fdca26\"],[1.0,\"#f0f921\"]],\"type\":\"histogram2d\"}],\"histogram2dcontour\":[{\"colorbar\":{\"outlinewidth\":0,\"ticks\":\"\"},\"colorscale\":[[0.0,\"#0d0887\"],[0.1111111111111111,\"#46039f\"],[0.2222222222222222,\"#7201a8\"],[0.3333333333333333,\"#9c179e\"],[0.4444444444444444,\"#bd3786\"],[0.5555555555555556,\"#d8576b\"],[0.6666666666666666,\"#ed7953\"],[0.7777777777777778,\"#fb9f3a\"],[0.8888888888888888,\"#fdca26\"],[1.0,\"#f0f921\"]],\"type\":\"histogram2dcontour\"}],\"mesh3d\":[{\"colorbar\":{\"outlinewidth\":0,\"ticks\":\"\"},\"type\":\"mesh3d\"}],\"parcoords\":[{\"line\":{\"colorbar\":{\"outlinewidth\":0,\"ticks\":\"\"}},\"type\":\"parcoords\"}],\"pie\":[{\"automargin\":true,\"type\":\"pie\"}],\"scatter\":[{\"marker\":{\"colorbar\":{\"outlinewidth\":0,\"ticks\":\"\"}},\"type\":\"scatter\"}],\"scatter3d\":[{\"line\":{\"colorbar\":{\"outlinewidth\":0,\"ticks\":\"\"}},\"marker\":{\"colorbar\":{\"outlinewidth\":0,\"ticks\":\"\"}},\"type\":\"scatter3d\"}],\"scattercarpet\":[{\"marker\":{\"colorbar\":{\"outlinewidth\":0,\"ticks\":\"\"}},\"type\":\"scattercarpet\"}],\"scattergeo\":[{\"marker\":{\"colorbar\":{\"outlinewidth\":0,\"ticks\":\"\"}},\"type\":\"scattergeo\"}],\"scattergl\":[{\"marker\":{\"colorbar\":{\"outlinewidth\":0,\"ticks\":\"\"}},\"type\":\"scattergl\"}],\"scattermapbox\":[{\"marker\":{\"colorbar\":{\"outlinewidth\":0,\"ticks\":\"\"}},\"type\":\"scattermapbox\"}],\"scatterpolar\":[{\"marker\":{\"colorbar\":{\"outlinewidth\":0,\"ticks\":\"\"}},\"type\":\"scatterpolar\"}],\"scatterpolargl\":[{\"marker\":{\"colorbar\":{\"outlinewidth\":0,\"ticks\":\"\"}},\"type\":\"scatterpolargl\"}],\"scatterternary\":[{\"marker\":{\"colorbar\":{\"outlinewidth\":0,\"ticks\":\"\"}},\"type\":\"scatterternary\"}],\"surface\":[{\"colorbar\":{\"outlinewidth\":0,\"ticks\":\"\"},\"colorscale\":[[0.0,\"#0d0887\"],[0.1111111111111111,\"#46039f\"],[0.2222222222222222,\"#7201a8\"],[0.3333333333333333,\"#9c179e\"],[0.4444444444444444,\"#bd3786\"],[0.5555555555555556,\"#d8576b\"],[0.6666666666666666,\"#ed7953\"],[0.7777777777777778,\"#fb9f3a\"],[0.8888888888888888,\"#fdca26\"],[1.0,\"#f0f921\"]],\"type\":\"surface\"}],\"table\":[{\"cells\":{\"fill\":{\"color\":\"#EBF0F8\"},\"line\":{\"color\":\"white\"}},\"header\":{\"fill\":{\"color\":\"#C8D4E3\"},\"line\":{\"color\":\"white\"}},\"type\":\"table\"}]},\"layout\":{\"annotationdefaults\":{\"arrowcolor\":\"#2a3f5f\",\"arrowhead\":0,\"arrowwidth\":1},\"autotypenumbers\":\"strict\",\"coloraxis\":{\"colorbar\":{\"outlinewidth\":0,\"ticks\":\"\"}},\"colorscale\":{\"diverging\":[[0,\"#8e0152\"],[0.1,\"#c51b7d\"],[0.2,\"#de77ae\"],[0.3,\"#f1b6da\"],[0.4,\"#fde0ef\"],[0.5,\"#f7f7f7\"],[0.6,\"#e6f5d0\"],[0.7,\"#b8e186\"],[0.8,\"#7fbc41\"],[0.9,\"#4d9221\"],[1,\"#276419\"]],\"sequential\":[[0.0,\"#0d0887\"],[0.1111111111111111,\"#46039f\"],[0.2222222222222222,\"#7201a8\"],[0.3333333333333333,\"#9c179e\"],[0.4444444444444444,\"#bd3786\"],[0.5555555555555556,\"#d8576b\"],[0.6666666666666666,\"#ed7953\"],[0.7777777777777778,\"#fb9f3a\"],[0.8888888888888888,\"#fdca26\"],[1.0,\"#f0f921\"]],\"sequentialminus\":[[0.0,\"#0d0887\"],[0.1111111111111111,\"#46039f\"],[0.2222222222222222,\"#7201a8\"],[0.3333333333333333,\"#9c179e\"],[0.4444444444444444,\"#bd3786\"],[0.5555555555555556,\"#d8576b\"],[0.6666666666666666,\"#ed7953\"],[0.7777777777777778,\"#fb9f3a\"],[0.8888888888888888,\"#fdca26\"],[1.0,\"#f0f921\"]]},\"colorway\":[\"#636efa\",\"#EF553B\",\"#00cc96\",\"#ab63fa\",\"#FFA15A\",\"#19d3f3\",\"#FF6692\",\"#B6E880\",\"#FF97FF\",\"#FECB52\"],\"font\":{\"color\":\"#2a3f5f\"},\"geo\":{\"bgcolor\":\"white\",\"lakecolor\":\"white\",\"landcolor\":\"#E5ECF6\",\"showlakes\":true,\"showland\":true,\"subunitcolor\":\"white\"},\"hoverlabel\":{\"align\":\"left\"},\"hovermode\":\"closest\",\"mapbox\":{\"style\":\"light\"},\"paper_bgcolor\":\"white\",\"plot_bgcolor\":\"#E5ECF6\",\"polar\":{\"angularaxis\":{\"gridcolor\":\"white\",\"linecolor\":\"white\",\"ticks\":\"\"},\"bgcolor\":\"#E5ECF6\",\"radialaxis\":{\"gridcolor\":\"white\",\"linecolor\":\"white\",\"ticks\":\"\"}},\"scene\":{\"xaxis\":{\"backgroundcolor\":\"#E5ECF6\",\"gridcolor\":\"white\",\"gridwidth\":2,\"linecolor\":\"white\",\"showbackground\":true,\"ticks\":\"\",\"zerolinecolor\":\"white\"},\"yaxis\":{\"backgroundcolor\":\"#E5ECF6\",\"gridcolor\":\"white\",\"gridwidth\":2,\"linecolor\":\"white\",\"showbackground\":true,\"ticks\":\"\",\"zerolinecolor\":\"white\"},\"zaxis\":{\"backgroundcolor\":\"#E5ECF6\",\"gridcolor\":\"white\",\"gridwidth\":2,\"linecolor\":\"white\",\"showbackground\":true,\"ticks\":\"\",\"zerolinecolor\":\"white\"}},\"shapedefaults\":{\"line\":{\"color\":\"#2a3f5f\"}},\"ternary\":{\"aaxis\":{\"gridcolor\":\"white\",\"linecolor\":\"white\",\"ticks\":\"\"},\"baxis\":{\"gridcolor\":\"white\",\"linecolor\":\"white\",\"ticks\":\"\"},\"bgcolor\":\"#E5ECF6\",\"caxis\":{\"gridcolor\":\"white\",\"linecolor\":\"white\",\"ticks\":\"\"}},\"title\":{\"x\":0.05},\"xaxis\":{\"automargin\":true,\"gridcolor\":\"white\",\"linecolor\":\"white\",\"ticks\":\"\",\"title\":{\"standoff\":15},\"zerolinecolor\":\"white\",\"zerolinewidth\":2},\"yaxis\":{\"automargin\":true,\"gridcolor\":\"white\",\"linecolor\":\"white\",\"ticks\":\"\",\"title\":{\"standoff\":15},\"zerolinecolor\":\"white\",\"zerolinewidth\":2}}},\"geo\":{\"domain\":{\"x\":[0.0,1.0],\"y\":[0.0,1.0]},\"center\":{}},\"legend\":{\"tracegroupgap\":0,\"itemsizing\":\"constant\"},\"margin\":{\"t\":60}},                        {\"responsive\": true}                    ).then(function(){\n",
              "                            \n",
              "var gd = document.getElementById('472038b4-58d4-44eb-a6eb-88455fec4601');\n",
              "var x = new MutationObserver(function (mutations, observer) {{\n",
              "        var display = window.getComputedStyle(gd).display;\n",
              "        if (!display || display === 'none') {{\n",
              "            console.log([gd, 'removed!']);\n",
              "            Plotly.purge(gd);\n",
              "            observer.disconnect();\n",
              "        }}\n",
              "}});\n",
              "\n",
              "// Listen for the removal of the full notebook cells\n",
              "var notebookContainer = gd.closest('#notebook-container');\n",
              "if (notebookContainer) {{\n",
              "    x.observe(notebookContainer, {childList: true});\n",
              "}}\n",
              "\n",
              "// Listen for the clearing of the current output cell\n",
              "var outputEl = gd.closest('.output');\n",
              "if (outputEl) {{\n",
              "    x.observe(outputEl, {childList: true});\n",
              "}}\n",
              "\n",
              "                        })                };                            </script>        </div>\n",
              "</body>\n",
              "</html>"
            ]
          },
          "metadata": {}
        }
      ]
    },
    {
      "cell_type": "markdown",
      "source": [
        "#Slide 12: KNN Model: Flying Etiquette Data"
      ],
      "metadata": {
        "id": "Y8Ia9BVx_Oql"
      }
    },
    {
      "cell_type": "code",
      "source": [
        "df_flying_etiquette = df_flying_etiquette.dropna().reset_index(drop=True)"
      ],
      "metadata": {
        "id": "Xmq1IOGj_3sN"
      },
      "execution_count": null,
      "outputs": []
    },
    {
      "cell_type": "code",
      "source": [
        "def feet_to_inches(s) -> int:\n",
        "  if s == \"Under 5 ft.\":\n",
        "    return 60\n",
        "  if s == \"6'6\\\" and above\":\n",
        "    return 78\n",
        "  lst = s.split(sep = \"'\")\n",
        "  feet = int(lst[0])\n",
        "  inches = int(lst[1][:-1])\n",
        "  return 12 * feet + inches"
      ],
      "metadata": {
        "id": "S-oonsYI_OOZ"
      },
      "execution_count": null,
      "outputs": []
    },
    {
      "cell_type": "code",
      "source": [
        "df_flying_etiquette[\"Height\"] = df_flying_etiquette.apply(lambda row: feet_to_inches(row[\"How tall are you?\"]), axis=1) "
      ],
      "metadata": {
        "id": "ah1w9MhR_l9B"
      },
      "execution_count": null,
      "outputs": []
    },
    {
      "cell_type": "code",
      "source": [
        "df_flying_etiquette[\"Do you ever recline your seat when you fly?\"].value_counts()"
      ],
      "metadata": {
        "colab": {
          "base_uri": "https://localhost:8080/"
        },
        "id": "gFrX_d24_sGy",
        "outputId": "332ce31e-c0e7-47b2-86a8-e2558347b055"
      },
      "execution_count": null,
      "outputs": [
        {
          "output_type": "execute_result",
          "data": {
            "text/plain": [
              "Once in a while        199\n",
              "Usually                154\n",
              "Never                  129\n",
              "Always                 112\n",
              "About half the time     93\n",
              "Name: Do you ever recline your seat when you fly?, dtype: int64"
            ]
          },
          "metadata": {},
          "execution_count": 20
        }
      ]
    },
    {
      "cell_type": "code",
      "source": [
        "df_flying_etiquette = df_flying_etiquette[[\"Do you ever recline your seat when you fly?\",\n",
        "                                          \"Height\",\n",
        "                                          \"Age\"]].dropna().reset_index(drop=True)"
      ],
      "metadata": {
        "id": "GHH9nzps_9Uu"
      },
      "execution_count": null,
      "outputs": []
    },
    {
      "cell_type": "code",
      "source": [
        "X_train = df_flying_etiquette[[\"Height\",\n",
        "                                \"Age\"]]\n",
        "y_train = df_flying_etiquette[\"Do you ever recline your seat when you fly?\"]"
      ],
      "metadata": {
        "id": "vdc2UMLE__f-"
      },
      "execution_count": null,
      "outputs": []
    },
    {
      "cell_type": "code",
      "source": [
        "ct_flyet = make_column_transformer(\n",
        "    (OneHotEncoder(sparse=False), [\"Height\",\n",
        "                               \"Age\"]),\n",
        "    remainder='passthrough'\n",
        ")\n",
        "\n",
        "knn_model = make_pipeline(\n",
        "    ct_flyet,\n",
        "    KNeighborsClassifier(n_neighbors=5)\n",
        ")\n",
        "\n",
        "knn_model.fit(X_train, y_train)"
      ],
      "metadata": {
        "colab": {
          "base_uri": "https://localhost:8080/"
        },
        "id": "IBmrjtdwABc1",
        "outputId": "7cdc5b96-e9fc-4a90-c7a9-0aaff18b218c"
      },
      "execution_count": null,
      "outputs": [
        {
          "output_type": "execute_result",
          "data": {
            "text/plain": [
              "Pipeline(steps=[('columntransformer',\n",
              "                 ColumnTransformer(remainder='passthrough',\n",
              "                                   transformers=[('onehotencoder',\n",
              "                                                  OneHotEncoder(sparse=False),\n",
              "                                                  ['Height', 'Age'])])),\n",
              "                ('kneighborsclassifier', KNeighborsClassifier())])"
            ]
          },
          "metadata": {},
          "execution_count": 25
        }
      ]
    },
    {
      "cell_type": "markdown",
      "source": [
        "**Accuracy**"
      ],
      "metadata": {
        "id": "i26of7ANAXyS"
      }
    },
    {
      "cell_type": "code",
      "source": [
        "cv_scores = cross_val_score(knn_model, X_train, y_train, \n",
        "                            cv=10, scoring=\"accuracy\")\n",
        "cv_scores.mean()"
      ],
      "metadata": {
        "colab": {
          "base_uri": "https://localhost:8080/"
        },
        "id": "SkDfoOVNAR2V",
        "outputId": "0cec9255-c8b2-46da-f259-aa437e0aec91"
      },
      "execution_count": null,
      "outputs": [
        {
          "output_type": "execute_result",
          "data": {
            "text/plain": [
              "0.23437766410912192"
            ]
          },
          "metadata": {},
          "execution_count": 28
        }
      ]
    },
    {
      "cell_type": "markdown",
      "source": [
        "#Slide 13: KNN Model: Flying Etiquette Data cont."
      ],
      "metadata": {
        "id": "0TxW7vRtAayH"
      }
    },
    {
      "cell_type": "code",
      "source": [
        "def recline_binary(s) -> int:\n",
        "  if s == \"Never\":\n",
        "    return \"No\"\n",
        "  return \"Yes\""
      ],
      "metadata": {
        "id": "Z3VO5m72Age8"
      },
      "execution_count": null,
      "outputs": []
    },
    {
      "cell_type": "code",
      "source": [
        "df_flying_etiquette_binary = df_flying_etiquette.copy()\n",
        "df_flying_etiquette_binary[\"Recline\"] = df_flying_etiquette.apply(lambda row: recline_binary(row[\"Do you ever recline your seat when you fly?\"]), axis=1) "
      ],
      "metadata": {
        "id": "rTOfJRKPAmGK"
      },
      "execution_count": null,
      "outputs": []
    },
    {
      "cell_type": "code",
      "source": [
        "df_flying_etiquette_binary[\"Recline\"].value_counts()"
      ],
      "metadata": {
        "colab": {
          "base_uri": "https://localhost:8080/"
        },
        "id": "LL-OfYu-AoDK",
        "outputId": "990a462e-c355-4078-d41d-5ac596a64c8f"
      },
      "execution_count": null,
      "outputs": [
        {
          "output_type": "execute_result",
          "data": {
            "text/plain": [
              "Yes    558\n",
              "No     129\n",
              "Name: Recline, dtype: int64"
            ]
          },
          "metadata": {},
          "execution_count": 31
        }
      ]
    },
    {
      "cell_type": "code",
      "source": [
        "df_flying_etiquette_binary = df_flying_etiquette_binary[[\"Recline\",\n",
        "                                               \"Height\",\n",
        "                                               \"Age\"]].dropna().reset_index(drop=True)"
      ],
      "metadata": {
        "id": "IS41S0IpArVb"
      },
      "execution_count": null,
      "outputs": []
    },
    {
      "cell_type": "code",
      "source": [
        "X_train = df_flying_etiquette_binary[[\"Height\",\n",
        "                                          \"Age\"]]\n",
        "y_train = df_flying_etiquette_binary[\"Recline\"]"
      ],
      "metadata": {
        "id": "hWw5-wcLAsv-"
      },
      "execution_count": null,
      "outputs": []
    },
    {
      "cell_type": "code",
      "source": [
        "ct_flyet = make_column_transformer(\n",
        "    (OneHotEncoder(sparse=False), [\"Height\",\n",
        "                               \"Age\"]),\n",
        "    remainder='passthrough'\n",
        ")\n",
        "\n",
        "knn_model = make_pipeline(\n",
        "    ct_flyet,\n",
        "    KNeighborsClassifier(n_neighbors=5)\n",
        ")\n",
        "\n",
        "knn_model.fit(X_train, y_train)"
      ],
      "metadata": {
        "colab": {
          "base_uri": "https://localhost:8080/"
        },
        "id": "esgbZDIkAuPl",
        "outputId": "482d657a-f9c8-4537-a3b0-a465169b7d00"
      },
      "execution_count": null,
      "outputs": [
        {
          "output_type": "execute_result",
          "data": {
            "text/plain": [
              "Pipeline(steps=[('columntransformer',\n",
              "                 ColumnTransformer(remainder='passthrough',\n",
              "                                   transformers=[('onehotencoder',\n",
              "                                                  OneHotEncoder(sparse=False),\n",
              "                                                  ['Height', 'Age'])])),\n",
              "                ('kneighborsclassifier', KNeighborsClassifier())])"
            ]
          },
          "metadata": {},
          "execution_count": 35
        }
      ]
    },
    {
      "cell_type": "code",
      "source": [
        "grid_search = GridSearchCV(\n",
        "    knn_model,\n",
        "    param_grid={\"kneighborsclassifier__n_neighbors\": range(1, 50)},\n",
        "    scoring=\"accuracy\",\n",
        "    cv=10\n",
        ")\n",
        "\n",
        "grid_search.fit(X_train, y_train)\n",
        "grid_search.best_params_"
      ],
      "metadata": {
        "colab": {
          "base_uri": "https://localhost:8080/"
        },
        "id": "zkkv2nfVAv4Z",
        "outputId": "4b117d28-ce2e-4cef-b65a-aa34b398dbe7"
      },
      "execution_count": null,
      "outputs": [
        {
          "output_type": "execute_result",
          "data": {
            "text/plain": [
              "{'kneighborsclassifier__n_neighbors': 21}"
            ]
          },
          "metadata": {},
          "execution_count": 36
        }
      ]
    },
    {
      "cell_type": "code",
      "source": [
        "knn_model = make_pipeline(\n",
        "    ct_flyet,\n",
        "    KNeighborsClassifier(n_neighbors=21)\n",
        ")\n",
        "\n",
        "knn_model.fit(X_train, y_train)"
      ],
      "metadata": {
        "colab": {
          "base_uri": "https://localhost:8080/"
        },
        "id": "fj0gd44NAxoh",
        "outputId": "1aad125c-18e8-45fe-fc92-257a3bc44cd9"
      },
      "execution_count": null,
      "outputs": [
        {
          "output_type": "execute_result",
          "data": {
            "text/plain": [
              "Pipeline(steps=[('columntransformer',\n",
              "                 ColumnTransformer(remainder='passthrough',\n",
              "                                   transformers=[('onehotencoder',\n",
              "                                                  OneHotEncoder(sparse=False),\n",
              "                                                  ['Height', 'Age'])])),\n",
              "                ('kneighborsclassifier', KNeighborsClassifier(n_neighbors=21))])"
            ]
          },
          "metadata": {},
          "execution_count": 37
        }
      ]
    },
    {
      "cell_type": "code",
      "source": [
        "cv_scores = cross_val_score(knn_model, X_train, y_train, \n",
        "                            cv=10, scoring=\"accuracy\")\n",
        "cv_scores.mean()"
      ],
      "metadata": {
        "colab": {
          "base_uri": "https://localhost:8080/"
        },
        "id": "CMXVYR6vAzMn",
        "outputId": "f138ee0a-e599-4bd2-a517-89a13f038ca1"
      },
      "execution_count": null,
      "outputs": [
        {
          "output_type": "execute_result",
          "data": {
            "text/plain": [
              "0.8136828644501278"
            ]
          },
          "metadata": {},
          "execution_count": 39
        }
      ]
    },
    {
      "cell_type": "markdown",
      "source": [
        "#Slide 14: Testing out the model on ourselves"
      ],
      "metadata": {
        "id": "LHRCZbBSBJi2"
      }
    },
    {
      "cell_type": "code",
      "source": [
        "# define the test data (recall that scikit-learn expects a 2D-array)\n",
        "x_new = pd.DataFrame(columns=[\"Height\",\n",
        "                              \"Age\"])\n",
        "x_new.loc[0] = [63, \"18-29\"]\n",
        "x_new.loc[1] = [69, \"18-29\"]\n",
        "knn_model.predict(x_new)"
      ],
      "metadata": {
        "colab": {
          "base_uri": "https://localhost:8080/"
        },
        "id": "HiSA7M4sBI_H",
        "outputId": "7d9500fd-6e37-458a-e271-93b70fff030b"
      },
      "execution_count": null,
      "outputs": [
        {
          "output_type": "execute_result",
          "data": {
            "text/plain": [
              "array(['Yes', 'Yes'], dtype=object)"
            ]
          },
          "metadata": {},
          "execution_count": 40
        }
      ]
    },
    {
      "cell_type": "markdown",
      "source": [
        "#Slide 15: Ensemble Model: International Tourism"
      ],
      "metadata": {
        "id": "G0VRZ-aSBS6k"
      }
    },
    {
      "cell_type": "code",
      "source": [
        "df_international_tourism = pd.read_csv(data_dir + \"df_international_tourism.csv\")\n",
        "df_international_tourism = df_international_tourism[df_international_tourism[\"year\"] >= 1995]"
      ],
      "metadata": {
        "id": "afS2z-l9BSLQ"
      },
      "execution_count": null,
      "outputs": []
    },
    {
      "cell_type": "code",
      "source": [
        "df_2017 = df_international_tourism[df_international_tourism[\"year\"] == 2017]\n",
        "df_2017 = df_2017.dropna(subset=[\"receipts_percent_total_exports\", \"number_of_departures\", \"expenditures_passenger_transport_items\"]) #dropped two countries where there were missing values in the variables we are interested in\n",
        "df_2017.dropna(axis='columns')"
      ],
      "metadata": {
        "colab": {
          "base_uri": "https://localhost:8080/",
          "height": 522
        },
        "id": "NNL0BfFMBYYZ",
        "outputId": "3372f689-6f4d-42b4-c84a-56f80e337685"
      },
      "execution_count": null,
      "outputs": [
        {
          "output_type": "execute_result",
          "data": {
            "text/plain": [
              "        Country Name  year     total_gdp   population  income_per_person  \\\n",
              "9977         Albania  2017  1.270000e+10    2880000.0            13300.0   \n",
              "9980       Argentina  2017  5.830000e+11   44400000.0            22700.0   \n",
              "9981         Armenia  2017  1.200000e+10    2950000.0            12700.0   \n",
              "9983       Australia  2017  1.460000e+12   24900000.0            49000.0   \n",
              "9984         Austria  2017  4.080000e+11    8890000.0            55300.0   \n",
              "...              ...   ...           ...          ...                ...   \n",
              "10141  United States  2017  1.960000e+13  327000000.0            61600.0   \n",
              "10142     Uzbekistan  2017  1.000000e+11   32500000.0             7080.0   \n",
              "10145        Vanuatu  2017  8.370000e+08     293000.0             3090.0   \n",
              "10146          Samoa  2017  8.500000e+08     196000.0             6390.0   \n",
              "10149       Zimbabwe  2017  2.210000e+10   14400000.0             3920.0   \n",
              "\n",
              "       co2_emissions  receipts_percent_total_exports  receipts_travel_items  \\\n",
              "9977           1.590                       49.471563           1.943000e+09   \n",
              "9980           4.410                        7.860525           5.370000e+09   \n",
              "9981           1.890                       27.760742           1.204000e+09   \n",
              "9983          16.900                       14.820693           4.174700e+10   \n",
              "9984           7.750                        9.949776           2.033300e+10   \n",
              "...              ...                             ...                    ...   \n",
              "10141         16.600                        9.777483           1.964680e+11   \n",
              "10142          2.810                        6.727242           6.890000e+08   \n",
              "10145          0.529                       75.540795           2.650000e+08   \n",
              "10146          1.320                       59.987355           1.660000e+08   \n",
              "10149          0.850                        3.405013           1.490000e+08   \n",
              "\n",
              "       receipts_current_us  number_of_departures  number_of_arrivals  \\\n",
              "9977          2.050000e+09          5.186000e+06        5.118000e+06   \n",
              "9980          5.830000e+09          2.158300e+07        6.711000e+06   \n",
              "9981          1.224000e+09          1.482000e+06        1.495000e+06   \n",
              "9983          4.397500e+10          1.093200e+07        8.815000e+06   \n",
              "9984          2.242400e+10          1.149100e+07        2.946000e+07   \n",
              "...                    ...                   ...                 ...   \n",
              "10141         2.337580e+11          1.480450e+08        1.742918e+08   \n",
              "10142         8.350000e+08          5.182000e+06        2.690000e+06   \n",
              "10145         2.890000e+08          2.630000e+04        3.327000e+05   \n",
              "10146         1.670000e+08          5.500000e+04        1.580000e+05   \n",
              "10149         1.580000e+08          2.768000e+06        2.423000e+06   \n",
              "\n",
              "       expenditures_passenger_transport_items  \\\n",
              "9977                             4.000000e+07   \n",
              "9980                             2.802000e+09   \n",
              "9981                             5.500000e+07   \n",
              "9983                             5.240000e+09   \n",
              "9984                             2.110000e+09   \n",
              "...                                       ...   \n",
              "10141                            4.035800e+10   \n",
              "10142                            4.760000e+08   \n",
              "10145                            3.000000e+06   \n",
              "10146                            7.000000e+05   \n",
              "10149                            2.200000e+07   \n",
              "\n",
              "       expenditures_percent_total_imports  expenditures_current_us  \n",
              "9977                            24.058987             1.473000e+09  \n",
              "9980                            15.877179             1.418000e+10  \n",
              "9981                            21.555388             1.218000e+09  \n",
              "9983                            13.699768             3.971000e+10  \n",
              "9984                             6.048804             1.287800e+10  \n",
              "...                                   ...                      ...  \n",
              "10141                            5.451567             1.582870e+11  \n",
              "10142                           12.792844             2.107000e+09  \n",
              "10145                            4.033783             1.900000e+07  \n",
              "10146                            0.950797             3.900000e+06  \n",
              "10149                            5.416872             3.370000e+08  \n",
              "\n",
              "[72 rows x 14 columns]"
            ],
            "text/html": [
              "\n",
              "  <div id=\"df-d87f8953-3b33-4311-8bbd-9ad23ca34df1\">\n",
              "    <div class=\"colab-df-container\">\n",
              "      <div>\n",
              "<style scoped>\n",
              "    .dataframe tbody tr th:only-of-type {\n",
              "        vertical-align: middle;\n",
              "    }\n",
              "\n",
              "    .dataframe tbody tr th {\n",
              "        vertical-align: top;\n",
              "    }\n",
              "\n",
              "    .dataframe thead th {\n",
              "        text-align: right;\n",
              "    }\n",
              "</style>\n",
              "<table border=\"1\" class=\"dataframe\">\n",
              "  <thead>\n",
              "    <tr style=\"text-align: right;\">\n",
              "      <th></th>\n",
              "      <th>Country Name</th>\n",
              "      <th>year</th>\n",
              "      <th>total_gdp</th>\n",
              "      <th>population</th>\n",
              "      <th>income_per_person</th>\n",
              "      <th>co2_emissions</th>\n",
              "      <th>receipts_percent_total_exports</th>\n",
              "      <th>receipts_travel_items</th>\n",
              "      <th>receipts_current_us</th>\n",
              "      <th>number_of_departures</th>\n",
              "      <th>number_of_arrivals</th>\n",
              "      <th>expenditures_passenger_transport_items</th>\n",
              "      <th>expenditures_percent_total_imports</th>\n",
              "      <th>expenditures_current_us</th>\n",
              "    </tr>\n",
              "  </thead>\n",
              "  <tbody>\n",
              "    <tr>\n",
              "      <th>9977</th>\n",
              "      <td>Albania</td>\n",
              "      <td>2017</td>\n",
              "      <td>1.270000e+10</td>\n",
              "      <td>2880000.0</td>\n",
              "      <td>13300.0</td>\n",
              "      <td>1.590</td>\n",
              "      <td>49.471563</td>\n",
              "      <td>1.943000e+09</td>\n",
              "      <td>2.050000e+09</td>\n",
              "      <td>5.186000e+06</td>\n",
              "      <td>5.118000e+06</td>\n",
              "      <td>4.000000e+07</td>\n",
              "      <td>24.058987</td>\n",
              "      <td>1.473000e+09</td>\n",
              "    </tr>\n",
              "    <tr>\n",
              "      <th>9980</th>\n",
              "      <td>Argentina</td>\n",
              "      <td>2017</td>\n",
              "      <td>5.830000e+11</td>\n",
              "      <td>44400000.0</td>\n",
              "      <td>22700.0</td>\n",
              "      <td>4.410</td>\n",
              "      <td>7.860525</td>\n",
              "      <td>5.370000e+09</td>\n",
              "      <td>5.830000e+09</td>\n",
              "      <td>2.158300e+07</td>\n",
              "      <td>6.711000e+06</td>\n",
              "      <td>2.802000e+09</td>\n",
              "      <td>15.877179</td>\n",
              "      <td>1.418000e+10</td>\n",
              "    </tr>\n",
              "    <tr>\n",
              "      <th>9981</th>\n",
              "      <td>Armenia</td>\n",
              "      <td>2017</td>\n",
              "      <td>1.200000e+10</td>\n",
              "      <td>2950000.0</td>\n",
              "      <td>12700.0</td>\n",
              "      <td>1.890</td>\n",
              "      <td>27.760742</td>\n",
              "      <td>1.204000e+09</td>\n",
              "      <td>1.224000e+09</td>\n",
              "      <td>1.482000e+06</td>\n",
              "      <td>1.495000e+06</td>\n",
              "      <td>5.500000e+07</td>\n",
              "      <td>21.555388</td>\n",
              "      <td>1.218000e+09</td>\n",
              "    </tr>\n",
              "    <tr>\n",
              "      <th>9983</th>\n",
              "      <td>Australia</td>\n",
              "      <td>2017</td>\n",
              "      <td>1.460000e+12</td>\n",
              "      <td>24900000.0</td>\n",
              "      <td>49000.0</td>\n",
              "      <td>16.900</td>\n",
              "      <td>14.820693</td>\n",
              "      <td>4.174700e+10</td>\n",
              "      <td>4.397500e+10</td>\n",
              "      <td>1.093200e+07</td>\n",
              "      <td>8.815000e+06</td>\n",
              "      <td>5.240000e+09</td>\n",
              "      <td>13.699768</td>\n",
              "      <td>3.971000e+10</td>\n",
              "    </tr>\n",
              "    <tr>\n",
              "      <th>9984</th>\n",
              "      <td>Austria</td>\n",
              "      <td>2017</td>\n",
              "      <td>4.080000e+11</td>\n",
              "      <td>8890000.0</td>\n",
              "      <td>55300.0</td>\n",
              "      <td>7.750</td>\n",
              "      <td>9.949776</td>\n",
              "      <td>2.033300e+10</td>\n",
              "      <td>2.242400e+10</td>\n",
              "      <td>1.149100e+07</td>\n",
              "      <td>2.946000e+07</td>\n",
              "      <td>2.110000e+09</td>\n",
              "      <td>6.048804</td>\n",
              "      <td>1.287800e+10</td>\n",
              "    </tr>\n",
              "    <tr>\n",
              "      <th>...</th>\n",
              "      <td>...</td>\n",
              "      <td>...</td>\n",
              "      <td>...</td>\n",
              "      <td>...</td>\n",
              "      <td>...</td>\n",
              "      <td>...</td>\n",
              "      <td>...</td>\n",
              "      <td>...</td>\n",
              "      <td>...</td>\n",
              "      <td>...</td>\n",
              "      <td>...</td>\n",
              "      <td>...</td>\n",
              "      <td>...</td>\n",
              "      <td>...</td>\n",
              "    </tr>\n",
              "    <tr>\n",
              "      <th>10141</th>\n",
              "      <td>United States</td>\n",
              "      <td>2017</td>\n",
              "      <td>1.960000e+13</td>\n",
              "      <td>327000000.0</td>\n",
              "      <td>61600.0</td>\n",
              "      <td>16.600</td>\n",
              "      <td>9.777483</td>\n",
              "      <td>1.964680e+11</td>\n",
              "      <td>2.337580e+11</td>\n",
              "      <td>1.480450e+08</td>\n",
              "      <td>1.742918e+08</td>\n",
              "      <td>4.035800e+10</td>\n",
              "      <td>5.451567</td>\n",
              "      <td>1.582870e+11</td>\n",
              "    </tr>\n",
              "    <tr>\n",
              "      <th>10142</th>\n",
              "      <td>Uzbekistan</td>\n",
              "      <td>2017</td>\n",
              "      <td>1.000000e+11</td>\n",
              "      <td>32500000.0</td>\n",
              "      <td>7080.0</td>\n",
              "      <td>2.810</td>\n",
              "      <td>6.727242</td>\n",
              "      <td>6.890000e+08</td>\n",
              "      <td>8.350000e+08</td>\n",
              "      <td>5.182000e+06</td>\n",
              "      <td>2.690000e+06</td>\n",
              "      <td>4.760000e+08</td>\n",
              "      <td>12.792844</td>\n",
              "      <td>2.107000e+09</td>\n",
              "    </tr>\n",
              "    <tr>\n",
              "      <th>10145</th>\n",
              "      <td>Vanuatu</td>\n",
              "      <td>2017</td>\n",
              "      <td>8.370000e+08</td>\n",
              "      <td>293000.0</td>\n",
              "      <td>3090.0</td>\n",
              "      <td>0.529</td>\n",
              "      <td>75.540795</td>\n",
              "      <td>2.650000e+08</td>\n",
              "      <td>2.890000e+08</td>\n",
              "      <td>2.630000e+04</td>\n",
              "      <td>3.327000e+05</td>\n",
              "      <td>3.000000e+06</td>\n",
              "      <td>4.033783</td>\n",
              "      <td>1.900000e+07</td>\n",
              "    </tr>\n",
              "    <tr>\n",
              "      <th>10146</th>\n",
              "      <td>Samoa</td>\n",
              "      <td>2017</td>\n",
              "      <td>8.500000e+08</td>\n",
              "      <td>196000.0</td>\n",
              "      <td>6390.0</td>\n",
              "      <td>1.320</td>\n",
              "      <td>59.987355</td>\n",
              "      <td>1.660000e+08</td>\n",
              "      <td>1.670000e+08</td>\n",
              "      <td>5.500000e+04</td>\n",
              "      <td>1.580000e+05</td>\n",
              "      <td>7.000000e+05</td>\n",
              "      <td>0.950797</td>\n",
              "      <td>3.900000e+06</td>\n",
              "    </tr>\n",
              "    <tr>\n",
              "      <th>10149</th>\n",
              "      <td>Zimbabwe</td>\n",
              "      <td>2017</td>\n",
              "      <td>2.210000e+10</td>\n",
              "      <td>14400000.0</td>\n",
              "      <td>3920.0</td>\n",
              "      <td>0.850</td>\n",
              "      <td>3.405013</td>\n",
              "      <td>1.490000e+08</td>\n",
              "      <td>1.580000e+08</td>\n",
              "      <td>2.768000e+06</td>\n",
              "      <td>2.423000e+06</td>\n",
              "      <td>2.200000e+07</td>\n",
              "      <td>5.416872</td>\n",
              "      <td>3.370000e+08</td>\n",
              "    </tr>\n",
              "  </tbody>\n",
              "</table>\n",
              "<p>72 rows × 14 columns</p>\n",
              "</div>\n",
              "      <button class=\"colab-df-convert\" onclick=\"convertToInteractive('df-d87f8953-3b33-4311-8bbd-9ad23ca34df1')\"\n",
              "              title=\"Convert this dataframe to an interactive table.\"\n",
              "              style=\"display:none;\">\n",
              "        \n",
              "  <svg xmlns=\"http://www.w3.org/2000/svg\" height=\"24px\"viewBox=\"0 0 24 24\"\n",
              "       width=\"24px\">\n",
              "    <path d=\"M0 0h24v24H0V0z\" fill=\"none\"/>\n",
              "    <path d=\"M18.56 5.44l.94 2.06.94-2.06 2.06-.94-2.06-.94-.94-2.06-.94 2.06-2.06.94zm-11 1L8.5 8.5l.94-2.06 2.06-.94-2.06-.94L8.5 2.5l-.94 2.06-2.06.94zm10 10l.94 2.06.94-2.06 2.06-.94-2.06-.94-.94-2.06-.94 2.06-2.06.94z\"/><path d=\"M17.41 7.96l-1.37-1.37c-.4-.4-.92-.59-1.43-.59-.52 0-1.04.2-1.43.59L10.3 9.45l-7.72 7.72c-.78.78-.78 2.05 0 2.83L4 21.41c.39.39.9.59 1.41.59.51 0 1.02-.2 1.41-.59l7.78-7.78 2.81-2.81c.8-.78.8-2.07 0-2.86zM5.41 20L4 18.59l7.72-7.72 1.47 1.35L5.41 20z\"/>\n",
              "  </svg>\n",
              "      </button>\n",
              "      \n",
              "  <style>\n",
              "    .colab-df-container {\n",
              "      display:flex;\n",
              "      flex-wrap:wrap;\n",
              "      gap: 12px;\n",
              "    }\n",
              "\n",
              "    .colab-df-convert {\n",
              "      background-color: #E8F0FE;\n",
              "      border: none;\n",
              "      border-radius: 50%;\n",
              "      cursor: pointer;\n",
              "      display: none;\n",
              "      fill: #1967D2;\n",
              "      height: 32px;\n",
              "      padding: 0 0 0 0;\n",
              "      width: 32px;\n",
              "    }\n",
              "\n",
              "    .colab-df-convert:hover {\n",
              "      background-color: #E2EBFA;\n",
              "      box-shadow: 0px 1px 2px rgba(60, 64, 67, 0.3), 0px 1px 3px 1px rgba(60, 64, 67, 0.15);\n",
              "      fill: #174EA6;\n",
              "    }\n",
              "\n",
              "    [theme=dark] .colab-df-convert {\n",
              "      background-color: #3B4455;\n",
              "      fill: #D2E3FC;\n",
              "    }\n",
              "\n",
              "    [theme=dark] .colab-df-convert:hover {\n",
              "      background-color: #434B5C;\n",
              "      box-shadow: 0px 1px 3px 1px rgba(0, 0, 0, 0.15);\n",
              "      filter: drop-shadow(0px 1px 2px rgba(0, 0, 0, 0.3));\n",
              "      fill: #FFFFFF;\n",
              "    }\n",
              "  </style>\n",
              "\n",
              "      <script>\n",
              "        const buttonEl =\n",
              "          document.querySelector('#df-d87f8953-3b33-4311-8bbd-9ad23ca34df1 button.colab-df-convert');\n",
              "        buttonEl.style.display =\n",
              "          google.colab.kernel.accessAllowed ? 'block' : 'none';\n",
              "\n",
              "        async function convertToInteractive(key) {\n",
              "          const element = document.querySelector('#df-d87f8953-3b33-4311-8bbd-9ad23ca34df1');\n",
              "          const dataTable =\n",
              "            await google.colab.kernel.invokeFunction('convertToInteractive',\n",
              "                                                     [key], {});\n",
              "          if (!dataTable) return;\n",
              "\n",
              "          const docLinkHtml = 'Like what you see? Visit the ' +\n",
              "            '<a target=\"_blank\" href=https://colab.research.google.com/notebooks/data_table.ipynb>data table notebook</a>'\n",
              "            + ' to learn more about interactive tables.';\n",
              "          element.innerHTML = '';\n",
              "          dataTable['output_type'] = 'display_data';\n",
              "          await google.colab.output.renderOutput(dataTable, element);\n",
              "          const docLink = document.createElement('div');\n",
              "          docLink.innerHTML = docLinkHtml;\n",
              "          element.appendChild(docLink);\n",
              "        }\n",
              "      </script>\n",
              "    </div>\n",
              "  </div>\n",
              "  "
            ]
          },
          "metadata": {},
          "execution_count": 42
        }
      ]
    },
    {
      "cell_type": "code",
      "source": [
        "# calculate estimate of test error for a given feature set\n",
        "def get_cv_error(features):\n",
        "  # define pipeline\n",
        "  pipeline = make_pipeline(\n",
        "      StandardScaler(),\n",
        "      KNeighborsRegressor(n_neighbors=5)\n",
        "  )\n",
        "  # calculate errors from cross-validation\n",
        "  cv_errs = -cross_val_score(pipeline, X=df_2017[features], \n",
        "                             y=df_2017[\"co2_emissions\"],\n",
        "                             scoring=\"neg_mean_squared_error\", cv=3)\n",
        "  # calculate average of the cross-validation errors\n",
        "  return cv_errs.mean()\n",
        "\n",
        "# calculate and store errors for different feature sets\n",
        "errs = pd.Series()\n",
        "for features in [[\"income_per_person\", \"population\", \"receipts_travel_items\"],\n",
        "                 [\"income_per_person\", \"population\", \"number_of_departures\"],\n",
        "                 [\"income_per_person\", \"population\", \"receipts_current_us\"],\n",
        "                 [\"income_per_person\", \"population\", \"receipts_percent_total_exports\"],\n",
        "                 [\"income_per_person\", \"population\", \"expenditures_percent_total_imports\"]]:\n",
        "  errs[str(features)] = get_cv_error(features)\n",
        "\n",
        "errs"
      ],
      "metadata": {
        "colab": {
          "base_uri": "https://localhost:8080/"
        },
        "id": "weSA4ymWBcxs",
        "outputId": "8430dac5-fcac-4b78-8cd6-6b6836d3e485"
      },
      "execution_count": null,
      "outputs": [
        {
          "output_type": "stream",
          "name": "stderr",
          "text": [
            "<ipython-input-43-4dcc10afb33d>:16: DeprecationWarning:\n",
            "\n",
            "The default dtype for empty Series will be 'object' instead of 'float64' in a future version. Specify a dtype explicitly to silence this warning.\n",
            "\n"
          ]
        },
        {
          "output_type": "execute_result",
          "data": {
            "text/plain": [
              "['income_per_person', 'population', 'receipts_travel_items']                 13.419724\n",
              "['income_per_person', 'population', 'number_of_departures']                  14.287091\n",
              "['income_per_person', 'population', 'receipts_current_us']                   13.677253\n",
              "['income_per_person', 'population', 'receipts_percent_total_exports']        13.551865\n",
              "['income_per_person', 'population', 'expenditures_percent_total_imports']    13.893469\n",
              "dtype: float64"
            ]
          },
          "metadata": {},
          "execution_count": 43
        }
      ]
    },
    {
      "cell_type": "markdown",
      "source": [
        "#Slide 16: Ensemble Model: International Tourism cont."
      ],
      "metadata": {
        "id": "pn57MDUdB661"
      }
    },
    {
      "cell_type": "code",
      "source": [
        "X_train = df_2017[[\"income_per_person\", \"population\", \"receipts_travel_items\"]]\n",
        "y_train = df_2017[\"co2_emissions\"]"
      ],
      "metadata": {
        "id": "5DifuhmSBek1"
      },
      "execution_count": null,
      "outputs": []
    },
    {
      "cell_type": "code",
      "source": [
        "linear_model = make_pipeline(\n",
        "    LinearRegression()\n",
        ")\n",
        "\n",
        "linear_model.fit(X=X_train, y=y_train)"
      ],
      "metadata": {
        "colab": {
          "base_uri": "https://localhost:8080/"
        },
        "id": "b439tkJCBhG1",
        "outputId": "f45a8e78-af74-4d88-e3e1-1670eaa73ec0"
      },
      "execution_count": null,
      "outputs": [
        {
          "output_type": "execute_result",
          "data": {
            "text/plain": [
              "Pipeline(steps=[('linearregression', LinearRegression())])"
            ]
          },
          "metadata": {},
          "execution_count": 47
        }
      ]
    },
    {
      "cell_type": "code",
      "source": [
        "knn_model = make_pipeline(\n",
        "    StandardScaler(),\n",
        "    KNeighborsRegressor(n_neighbors=3)\n",
        ")\n",
        "knn_model.fit(X=X_train, y=y_train)"
      ],
      "metadata": {
        "colab": {
          "base_uri": "https://localhost:8080/"
        },
        "id": "mKbY1tudBrt6",
        "outputId": "693f4fa8-aea5-4c08-d381-5c098d1bbc74"
      },
      "execution_count": null,
      "outputs": [
        {
          "output_type": "execute_result",
          "data": {
            "text/plain": [
              "Pipeline(steps=[('standardscaler', StandardScaler()),\n",
              "                ('kneighborsregressor', KNeighborsRegressor(n_neighbors=3))])"
            ]
          },
          "metadata": {},
          "execution_count": 48
        }
      ]
    },
    {
      "cell_type": "code",
      "source": [
        "ensemble_model = VotingRegressor([\n",
        "    (\"linear\", linear_model), \n",
        "    (\"knn\", knn_model)\n",
        "])\n",
        "ensemble_model.fit(X=X_train, y=y_train)"
      ],
      "metadata": {
        "colab": {
          "base_uri": "https://localhost:8080/"
        },
        "id": "8v0FwlklBtVg",
        "outputId": "f58facee-3992-454a-ed2e-41fe26da893b"
      },
      "execution_count": null,
      "outputs": [
        {
          "output_type": "execute_result",
          "data": {
            "text/plain": [
              "VotingRegressor(estimators=[('linear',\n",
              "                             Pipeline(steps=[('linearregression',\n",
              "                                              LinearRegression())])),\n",
              "                            ('knn',\n",
              "                             Pipeline(steps=[('standardscaler',\n",
              "                                              StandardScaler()),\n",
              "                                             ('kneighborsregressor',\n",
              "                                              KNeighborsRegressor(n_neighbors=3))]))])"
            ]
          },
          "metadata": {},
          "execution_count": 49
        }
      ]
    },
    {
      "cell_type": "code",
      "source": [
        "for model in [linear_model, knn_model, ensemble_model]:\n",
        "    print(-cross_val_score(model, X=X_train, y=y_train, cv=5,\n",
        "                           scoring=\"neg_mean_squared_error\").mean())"
      ],
      "metadata": {
        "colab": {
          "base_uri": "https://localhost:8080/"
        },
        "id": "GJJgunzkBu1o",
        "outputId": "2b9fb344-0e3e-4d18-f8a0-456412af2162"
      },
      "execution_count": null,
      "outputs": [
        {
          "output_type": "stream",
          "name": "stdout",
          "text": [
            "12.295825712894542\n",
            "14.982486225396823\n",
            "11.767698616704475\n"
          ]
        }
      ]
    },
    {
      "cell_type": "code",
      "source": [
        "# get model's predictions on validation set\n",
        "y_predict = ensemble_model.predict(X_train)\n",
        "\n",
        "# calculate RMSE on validation set\n",
        "rmse = np.sqrt(mean_squared_error(y_train, y_predict))\n",
        "rmse"
      ],
      "metadata": {
        "id": "cIIbsCWEB-6d",
        "outputId": "ec316c28-232f-400d-f6ae-eeb6f57b5fff",
        "colab": {
          "base_uri": "https://localhost:8080/"
        }
      },
      "execution_count": null,
      "outputs": [
        {
          "output_type": "execute_result",
          "data": {
            "text/plain": [
              "2.721978072758195"
            ]
          },
          "metadata": {},
          "execution_count": 51
        }
      ]
    }
  ]
}